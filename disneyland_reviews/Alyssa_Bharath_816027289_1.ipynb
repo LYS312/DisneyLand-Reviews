{
 "cells": [
  {
   "attachments": {},
   "cell_type": "markdown",
   "metadata": {},
   "source": [
    "# Using Natural Language Processing and Sentiment Analysis to Analyze Disneyland Reviews"
   ]
  },
  {
   "cell_type": "code",
   "execution_count": 1,
   "metadata": {},
   "outputs": [],
   "source": [
    "import numpy as np\n",
    "import pandas as pd\n",
    "import matplotlib.pyplot as plt\n",
    "import seaborn as sns\n",
    "import string\n",
    "from string import punctuation\n",
    "from itertools import chain\n",
    "\n",
    "from sklearn.model_selection import train_test_split\n",
    "from sklearn.metrics import f1_score\n",
    "\n",
    "from sklearn.feature_extraction.text import CountVectorizer\n",
    "from sklearn.feature_extraction.text import TfidfVectorizer\n",
    "from sklearn.linear_model import LogisticRegression\n",
    "from sklearn.decomposition import NMF, LatentDirichletAllocation, TruncatedSVD\n",
    "from sklearn.feature_selection import SelectPercentile, chi2, f_regression, f_classif\n",
    "\n",
    "from sklearn import svm\n",
    "from sklearn.utils import shuffle\n",
    "\n",
    "import nltk\n",
    "from nltk.corpus import stopwords\n",
    "from nltk.stem import WordNetLemmatizer\n",
    "from nltk import ngrams\n",
    "from nltk.tokenize import word_tokenize\n",
    "%matplotlib inline"
   ]
  },
  {
   "cell_type": "code",
   "execution_count": 2,
   "metadata": {},
   "outputs": [],
   "source": [
    "df= pd.read_csv('DisneylandReviews.csv',index_col=0, encoding='latin1')"
   ]
  },
  {
   "cell_type": "code",
   "execution_count": 3,
   "metadata": {},
   "outputs": [
    {
     "data": {
      "text/html": [
       "<div>\n",
       "<style scoped>\n",
       "    .dataframe tbody tr th:only-of-type {\n",
       "        vertical-align: middle;\n",
       "    }\n",
       "\n",
       "    .dataframe tbody tr th {\n",
       "        vertical-align: top;\n",
       "    }\n",
       "\n",
       "    .dataframe thead th {\n",
       "        text-align: right;\n",
       "    }\n",
       "</style>\n",
       "<table border=\"1\" class=\"dataframe\">\n",
       "  <thead>\n",
       "    <tr style=\"text-align: right;\">\n",
       "      <th></th>\n",
       "      <th>Rating</th>\n",
       "      <th>Year_Month</th>\n",
       "      <th>Reviewer_Location</th>\n",
       "      <th>Review_Text</th>\n",
       "      <th>Branch</th>\n",
       "    </tr>\n",
       "    <tr>\n",
       "      <th>Review_ID</th>\n",
       "      <th></th>\n",
       "      <th></th>\n",
       "      <th></th>\n",
       "      <th></th>\n",
       "      <th></th>\n",
       "    </tr>\n",
       "  </thead>\n",
       "  <tbody>\n",
       "    <tr>\n",
       "      <th>670772142</th>\n",
       "      <td>4</td>\n",
       "      <td>2019-4</td>\n",
       "      <td>Australia</td>\n",
       "      <td>If you've ever been to Disneyland anywhere you...</td>\n",
       "      <td>Disneyland_HongKong</td>\n",
       "    </tr>\n",
       "    <tr>\n",
       "      <th>670682799</th>\n",
       "      <td>4</td>\n",
       "      <td>2019-5</td>\n",
       "      <td>Philippines</td>\n",
       "      <td>Its been a while since d last time we visit HK...</td>\n",
       "      <td>Disneyland_HongKong</td>\n",
       "    </tr>\n",
       "    <tr>\n",
       "      <th>670623270</th>\n",
       "      <td>4</td>\n",
       "      <td>2019-4</td>\n",
       "      <td>United Arab Emirates</td>\n",
       "      <td>Thanks God it wasn   t too hot or too humid wh...</td>\n",
       "      <td>Disneyland_HongKong</td>\n",
       "    </tr>\n",
       "    <tr>\n",
       "      <th>670607911</th>\n",
       "      <td>4</td>\n",
       "      <td>2019-4</td>\n",
       "      <td>Australia</td>\n",
       "      <td>HK Disneyland is a great compact park. Unfortu...</td>\n",
       "      <td>Disneyland_HongKong</td>\n",
       "    </tr>\n",
       "    <tr>\n",
       "      <th>670607296</th>\n",
       "      <td>4</td>\n",
       "      <td>2019-4</td>\n",
       "      <td>United Kingdom</td>\n",
       "      <td>the location is not in the city, took around 1...</td>\n",
       "      <td>Disneyland_HongKong</td>\n",
       "    </tr>\n",
       "    <tr>\n",
       "      <th>670591897</th>\n",
       "      <td>3</td>\n",
       "      <td>2019-4</td>\n",
       "      <td>Singapore</td>\n",
       "      <td>Have been to Disney World, Disneyland Anaheim ...</td>\n",
       "      <td>Disneyland_HongKong</td>\n",
       "    </tr>\n",
       "    <tr>\n",
       "      <th>670585330</th>\n",
       "      <td>5</td>\n",
       "      <td>2019-4</td>\n",
       "      <td>India</td>\n",
       "      <td>Great place! Your day will go by and you won't...</td>\n",
       "      <td>Disneyland_HongKong</td>\n",
       "    </tr>\n",
       "    <tr>\n",
       "      <th>670574142</th>\n",
       "      <td>3</td>\n",
       "      <td>2019-3</td>\n",
       "      <td>Malaysia</td>\n",
       "      <td>Think of it as an intro to Disney magic for th...</td>\n",
       "      <td>Disneyland_HongKong</td>\n",
       "    </tr>\n",
       "    <tr>\n",
       "      <th>670571027</th>\n",
       "      <td>2</td>\n",
       "      <td>2019-4</td>\n",
       "      <td>Australia</td>\n",
       "      <td>Feel so let down with this place,the Disneylan...</td>\n",
       "      <td>Disneyland_HongKong</td>\n",
       "    </tr>\n",
       "    <tr>\n",
       "      <th>670570869</th>\n",
       "      <td>5</td>\n",
       "      <td>2019-3</td>\n",
       "      <td>India</td>\n",
       "      <td>I can go on talking about Disneyland. Whatever...</td>\n",
       "      <td>Disneyland_HongKong</td>\n",
       "    </tr>\n",
       "  </tbody>\n",
       "</table>\n",
       "</div>"
      ],
      "text/plain": [
       "           Rating Year_Month     Reviewer_Location  \\\n",
       "Review_ID                                            \n",
       "670772142       4     2019-4             Australia   \n",
       "670682799       4     2019-5           Philippines   \n",
       "670623270       4     2019-4  United Arab Emirates   \n",
       "670607911       4     2019-4             Australia   \n",
       "670607296       4     2019-4        United Kingdom   \n",
       "670591897       3     2019-4             Singapore   \n",
       "670585330       5     2019-4                 India   \n",
       "670574142       3     2019-3              Malaysia   \n",
       "670571027       2     2019-4             Australia   \n",
       "670570869       5     2019-3                 India   \n",
       "\n",
       "                                                 Review_Text  \\\n",
       "Review_ID                                                      \n",
       "670772142  If you've ever been to Disneyland anywhere you...   \n",
       "670682799  Its been a while since d last time we visit HK...   \n",
       "670623270  Thanks God it wasn   t too hot or too humid wh...   \n",
       "670607911  HK Disneyland is a great compact park. Unfortu...   \n",
       "670607296  the location is not in the city, took around 1...   \n",
       "670591897  Have been to Disney World, Disneyland Anaheim ...   \n",
       "670585330  Great place! Your day will go by and you won't...   \n",
       "670574142  Think of it as an intro to Disney magic for th...   \n",
       "670571027  Feel so let down with this place,the Disneylan...   \n",
       "670570869  I can go on talking about Disneyland. Whatever...   \n",
       "\n",
       "                        Branch  \n",
       "Review_ID                       \n",
       "670772142  Disneyland_HongKong  \n",
       "670682799  Disneyland_HongKong  \n",
       "670623270  Disneyland_HongKong  \n",
       "670607911  Disneyland_HongKong  \n",
       "670607296  Disneyland_HongKong  \n",
       "670591897  Disneyland_HongKong  \n",
       "670585330  Disneyland_HongKong  \n",
       "670574142  Disneyland_HongKong  \n",
       "670571027  Disneyland_HongKong  \n",
       "670570869  Disneyland_HongKong  "
      ]
     },
     "execution_count": 3,
     "metadata": {},
     "output_type": "execute_result"
    }
   ],
   "source": [
    "df.head(10)"
   ]
  },
  {
   "cell_type": "code",
   "execution_count": 4,
   "metadata": {},
   "outputs": [
    {
     "data": {
      "text/plain": [
       "Disneyland_California    19406\n",
       "Disneyland_Paris         13630\n",
       "Disneyland_HongKong       9620\n",
       "Name: Branch, dtype: int64"
      ]
     },
     "execution_count": 4,
     "metadata": {},
     "output_type": "execute_result"
    }
   ],
   "source": [
    "df['Branch'].value_counts()"
   ]
  },
  {
   "cell_type": "code",
   "execution_count": 5,
   "metadata": {},
   "outputs": [],
   "source": [
    "def produce_missing_report(df):\n",
    "    percent_missing = df.isnull().sum() * 100 / len(df)\n",
    "    missing_value_df = pd.DataFrame({'column_name': df.columns,\n",
    "                                     'percent_missing': percent_missing})\n",
    "    return missing_value_df"
   ]
  },
  {
   "cell_type": "code",
   "execution_count": 6,
   "metadata": {},
   "outputs": [
    {
     "data": {
      "text/html": [
       "<div>\n",
       "<style scoped>\n",
       "    .dataframe tbody tr th:only-of-type {\n",
       "        vertical-align: middle;\n",
       "    }\n",
       "\n",
       "    .dataframe tbody tr th {\n",
       "        vertical-align: top;\n",
       "    }\n",
       "\n",
       "    .dataframe thead th {\n",
       "        text-align: right;\n",
       "    }\n",
       "</style>\n",
       "<table border=\"1\" class=\"dataframe\">\n",
       "  <thead>\n",
       "    <tr style=\"text-align: right;\">\n",
       "      <th></th>\n",
       "      <th>column_name</th>\n",
       "      <th>percent_missing</th>\n",
       "    </tr>\n",
       "  </thead>\n",
       "  <tbody>\n",
       "    <tr>\n",
       "      <th>Rating</th>\n",
       "      <td>Rating</td>\n",
       "      <td>0.0</td>\n",
       "    </tr>\n",
       "    <tr>\n",
       "      <th>Year_Month</th>\n",
       "      <td>Year_Month</td>\n",
       "      <td>0.0</td>\n",
       "    </tr>\n",
       "    <tr>\n",
       "      <th>Reviewer_Location</th>\n",
       "      <td>Reviewer_Location</td>\n",
       "      <td>0.0</td>\n",
       "    </tr>\n",
       "    <tr>\n",
       "      <th>Review_Text</th>\n",
       "      <td>Review_Text</td>\n",
       "      <td>0.0</td>\n",
       "    </tr>\n",
       "    <tr>\n",
       "      <th>Branch</th>\n",
       "      <td>Branch</td>\n",
       "      <td>0.0</td>\n",
       "    </tr>\n",
       "  </tbody>\n",
       "</table>\n",
       "</div>"
      ],
      "text/plain": [
       "                         column_name  percent_missing\n",
       "Rating                        Rating              0.0\n",
       "Year_Month                Year_Month              0.0\n",
       "Reviewer_Location  Reviewer_Location              0.0\n",
       "Review_Text              Review_Text              0.0\n",
       "Branch                        Branch              0.0"
      ]
     },
     "execution_count": 6,
     "metadata": {},
     "output_type": "execute_result"
    }
   ],
   "source": [
    "produce_missing_report(df)"
   ]
  },
  {
   "cell_type": "code",
   "execution_count": 7,
   "metadata": {},
   "outputs": [
    {
     "name": "stdout",
     "output_type": "stream",
     "text": [
      "<class 'pandas.core.frame.DataFrame'>\n",
      "Int64Index: 42656 entries, 670772142 to 1536786\n",
      "Data columns (total 5 columns):\n",
      " #   Column             Non-Null Count  Dtype \n",
      "---  ------             --------------  ----- \n",
      " 0   Rating             42656 non-null  int64 \n",
      " 1   Year_Month         42656 non-null  object\n",
      " 2   Reviewer_Location  42656 non-null  object\n",
      " 3   Review_Text        42656 non-null  object\n",
      " 4   Branch             42656 non-null  object\n",
      "dtypes: int64(1), object(4)\n",
      "memory usage: 2.0+ MB\n"
     ]
    }
   ],
   "source": [
    "df.info()"
   ]
  },
  {
   "cell_type": "code",
   "execution_count": 8,
   "metadata": {},
   "outputs": [],
   "source": [
    "df = df[df['Rating'] !=3] #returns a boolean series\n",
    "y_map = {1:0, 2:0, 4:1, 5:1} #scores 1-5 without 3, replace positive with 1, negative with 0\n",
    "y = df['Rating'].map(y_map)\n",
    "df['sentiment']=y"
   ]
  },
  {
   "cell_type": "code",
   "execution_count": 9,
   "metadata": {},
   "outputs": [
    {
     "data": {
      "text/html": [
       "<div>\n",
       "<style scoped>\n",
       "    .dataframe tbody tr th:only-of-type {\n",
       "        vertical-align: middle;\n",
       "    }\n",
       "\n",
       "    .dataframe tbody tr th {\n",
       "        vertical-align: top;\n",
       "    }\n",
       "\n",
       "    .dataframe thead th {\n",
       "        text-align: right;\n",
       "    }\n",
       "</style>\n",
       "<table border=\"1\" class=\"dataframe\">\n",
       "  <thead>\n",
       "    <tr style=\"text-align: right;\">\n",
       "      <th></th>\n",
       "      <th>Rating</th>\n",
       "      <th>Year_Month</th>\n",
       "      <th>Reviewer_Location</th>\n",
       "      <th>Review_Text</th>\n",
       "      <th>Branch</th>\n",
       "      <th>sentiment</th>\n",
       "    </tr>\n",
       "    <tr>\n",
       "      <th>Review_ID</th>\n",
       "      <th></th>\n",
       "      <th></th>\n",
       "      <th></th>\n",
       "      <th></th>\n",
       "      <th></th>\n",
       "      <th></th>\n",
       "    </tr>\n",
       "  </thead>\n",
       "  <tbody>\n",
       "    <tr>\n",
       "      <th>670772142</th>\n",
       "      <td>4</td>\n",
       "      <td>2019-4</td>\n",
       "      <td>Australia</td>\n",
       "      <td>If you've ever been to Disneyland anywhere you...</td>\n",
       "      <td>Disneyland_HongKong</td>\n",
       "      <td>1</td>\n",
       "    </tr>\n",
       "    <tr>\n",
       "      <th>670682799</th>\n",
       "      <td>4</td>\n",
       "      <td>2019-5</td>\n",
       "      <td>Philippines</td>\n",
       "      <td>Its been a while since d last time we visit HK...</td>\n",
       "      <td>Disneyland_HongKong</td>\n",
       "      <td>1</td>\n",
       "    </tr>\n",
       "    <tr>\n",
       "      <th>670623270</th>\n",
       "      <td>4</td>\n",
       "      <td>2019-4</td>\n",
       "      <td>United Arab Emirates</td>\n",
       "      <td>Thanks God it wasn   t too hot or too humid wh...</td>\n",
       "      <td>Disneyland_HongKong</td>\n",
       "      <td>1</td>\n",
       "    </tr>\n",
       "    <tr>\n",
       "      <th>670607911</th>\n",
       "      <td>4</td>\n",
       "      <td>2019-4</td>\n",
       "      <td>Australia</td>\n",
       "      <td>HK Disneyland is a great compact park. Unfortu...</td>\n",
       "      <td>Disneyland_HongKong</td>\n",
       "      <td>1</td>\n",
       "    </tr>\n",
       "    <tr>\n",
       "      <th>670607296</th>\n",
       "      <td>4</td>\n",
       "      <td>2019-4</td>\n",
       "      <td>United Kingdom</td>\n",
       "      <td>the location is not in the city, took around 1...</td>\n",
       "      <td>Disneyland_HongKong</td>\n",
       "      <td>1</td>\n",
       "    </tr>\n",
       "    <tr>\n",
       "      <th>670585330</th>\n",
       "      <td>5</td>\n",
       "      <td>2019-4</td>\n",
       "      <td>India</td>\n",
       "      <td>Great place! Your day will go by and you won't...</td>\n",
       "      <td>Disneyland_HongKong</td>\n",
       "      <td>1</td>\n",
       "    </tr>\n",
       "    <tr>\n",
       "      <th>670571027</th>\n",
       "      <td>2</td>\n",
       "      <td>2019-4</td>\n",
       "      <td>Australia</td>\n",
       "      <td>Feel so let down with this place,the Disneylan...</td>\n",
       "      <td>Disneyland_HongKong</td>\n",
       "      <td>0</td>\n",
       "    </tr>\n",
       "    <tr>\n",
       "      <th>670570869</th>\n",
       "      <td>5</td>\n",
       "      <td>2019-3</td>\n",
       "      <td>India</td>\n",
       "      <td>I can go on talking about Disneyland. Whatever...</td>\n",
       "      <td>Disneyland_HongKong</td>\n",
       "      <td>1</td>\n",
       "    </tr>\n",
       "    <tr>\n",
       "      <th>670443403</th>\n",
       "      <td>5</td>\n",
       "      <td>2019-4</td>\n",
       "      <td>United States</td>\n",
       "      <td>Disneyland never cease to amaze me! I've been ...</td>\n",
       "      <td>Disneyland_HongKong</td>\n",
       "      <td>1</td>\n",
       "    </tr>\n",
       "    <tr>\n",
       "      <th>670435886</th>\n",
       "      <td>5</td>\n",
       "      <td>2019-4</td>\n",
       "      <td>Canada</td>\n",
       "      <td>We spent the day here with our grown kids and ...</td>\n",
       "      <td>Disneyland_HongKong</td>\n",
       "      <td>1</td>\n",
       "    </tr>\n",
       "  </tbody>\n",
       "</table>\n",
       "</div>"
      ],
      "text/plain": [
       "           Rating Year_Month     Reviewer_Location  \\\n",
       "Review_ID                                            \n",
       "670772142       4     2019-4             Australia   \n",
       "670682799       4     2019-5           Philippines   \n",
       "670623270       4     2019-4  United Arab Emirates   \n",
       "670607911       4     2019-4             Australia   \n",
       "670607296       4     2019-4        United Kingdom   \n",
       "670585330       5     2019-4                 India   \n",
       "670571027       2     2019-4             Australia   \n",
       "670570869       5     2019-3                 India   \n",
       "670443403       5     2019-4         United States   \n",
       "670435886       5     2019-4                Canada   \n",
       "\n",
       "                                                 Review_Text  \\\n",
       "Review_ID                                                      \n",
       "670772142  If you've ever been to Disneyland anywhere you...   \n",
       "670682799  Its been a while since d last time we visit HK...   \n",
       "670623270  Thanks God it wasn   t too hot or too humid wh...   \n",
       "670607911  HK Disneyland is a great compact park. Unfortu...   \n",
       "670607296  the location is not in the city, took around 1...   \n",
       "670585330  Great place! Your day will go by and you won't...   \n",
       "670571027  Feel so let down with this place,the Disneylan...   \n",
       "670570869  I can go on talking about Disneyland. Whatever...   \n",
       "670443403  Disneyland never cease to amaze me! I've been ...   \n",
       "670435886  We spent the day here with our grown kids and ...   \n",
       "\n",
       "                        Branch  sentiment  \n",
       "Review_ID                                  \n",
       "670772142  Disneyland_HongKong          1  \n",
       "670682799  Disneyland_HongKong          1  \n",
       "670623270  Disneyland_HongKong          1  \n",
       "670607911  Disneyland_HongKong          1  \n",
       "670607296  Disneyland_HongKong          1  \n",
       "670585330  Disneyland_HongKong          1  \n",
       "670571027  Disneyland_HongKong          0  \n",
       "670570869  Disneyland_HongKong          1  \n",
       "670443403  Disneyland_HongKong          1  \n",
       "670435886  Disneyland_HongKong          1  "
      ]
     },
     "execution_count": 9,
     "metadata": {},
     "output_type": "execute_result"
    }
   ],
   "source": [
    "df.head(10)"
   ]
  },
  {
   "cell_type": "code",
   "execution_count": 10,
   "metadata": {},
   "outputs": [],
   "source": [
    "def clean_text(words):\n",
    "    tokens=words.split(\" \") #split string reviews into words\n",
    "\n",
    "    tokens = [w.lower() for w in tokens]    #convert to lowercase\n",
    "\n",
    "    table = str.maketrans('', '', string.punctuation)   #remove punctuation from each word\n",
    "    stripped = [w.translate(table) for w in tokens]\n",
    "\n",
    "    words = [word for word in stripped if word.isalpha()]   #remove tokens that are not alphabetic\n",
    "\n",
    "    fin=\"\"  #convert back to string\n",
    "    for word in words:\n",
    "        fin+=word + \" \"\n",
    "\n",
    "    return fin\n",
    "\n",
    "    "
   ]
  },
  {
   "cell_type": "code",
   "execution_count": 11,
   "metadata": {},
   "outputs": [],
   "source": [
    "df['review_contents_clean']=df['Review_Text'].apply(clean_text)"
   ]
  },
  {
   "attachments": {},
   "cell_type": "markdown",
   "metadata": {},
   "source": [
    "### Reasoning for cleaning Review_Text\n",
    "split() was used to split the review string into words, to facilitate data cleaning\n",
    "\n",
    "The words were converted to lowercase. This helps with classification because it allows the same words to be recognized and treated as such i.e., 'Great' and 'great' will both be treated as 'great'. This imporves accuracy\n",
    "\n",
    "Punctuation was removed because it does not add useful information on the sentiment of the text\n",
    "\n",
    "Words that were not aplabetic were removed because they do not contribute much to the sentiment of the text and will not help with classification\n"
   ]
  },
  {
   "attachments": {},
   "cell_type": "markdown",
   "metadata": {},
   "source": [
    "# Text Classification"
   ]
  },
  {
   "cell_type": "code",
   "execution_count": 12,
   "metadata": {},
   "outputs": [
    {
     "data": {
      "text/html": [
       "<div>\n",
       "<style scoped>\n",
       "    .dataframe tbody tr th:only-of-type {\n",
       "        vertical-align: middle;\n",
       "    }\n",
       "\n",
       "    .dataframe tbody tr th {\n",
       "        vertical-align: top;\n",
       "    }\n",
       "\n",
       "    .dataframe thead th {\n",
       "        text-align: right;\n",
       "    }\n",
       "</style>\n",
       "<table border=\"1\" class=\"dataframe\">\n",
       "  <thead>\n",
       "    <tr style=\"text-align: right;\">\n",
       "      <th></th>\n",
       "      <th>Rating</th>\n",
       "      <th>Year_Month</th>\n",
       "      <th>Reviewer_Location</th>\n",
       "      <th>Review_Text</th>\n",
       "      <th>Branch</th>\n",
       "      <th>sentiment</th>\n",
       "      <th>review_contents_clean</th>\n",
       "    </tr>\n",
       "    <tr>\n",
       "      <th>Review_ID</th>\n",
       "      <th></th>\n",
       "      <th></th>\n",
       "      <th></th>\n",
       "      <th></th>\n",
       "      <th></th>\n",
       "      <th></th>\n",
       "      <th></th>\n",
       "    </tr>\n",
       "  </thead>\n",
       "  <tbody>\n",
       "    <tr>\n",
       "      <th>670772142</th>\n",
       "      <td>4</td>\n",
       "      <td>2019-4</td>\n",
       "      <td>Australia</td>\n",
       "      <td>If you've ever been to Disneyland anywhere you...</td>\n",
       "      <td>Disneyland_HongKong</td>\n",
       "      <td>1</td>\n",
       "      <td>if youve ever been to disneyland anywhere youl...</td>\n",
       "    </tr>\n",
       "    <tr>\n",
       "      <th>670682799</th>\n",
       "      <td>4</td>\n",
       "      <td>2019-5</td>\n",
       "      <td>Philippines</td>\n",
       "      <td>Its been a while since d last time we visit HK...</td>\n",
       "      <td>Disneyland_HongKong</td>\n",
       "      <td>1</td>\n",
       "      <td>its been a while since d last time we visit hk...</td>\n",
       "    </tr>\n",
       "    <tr>\n",
       "      <th>670623270</th>\n",
       "      <td>4</td>\n",
       "      <td>2019-4</td>\n",
       "      <td>United Arab Emirates</td>\n",
       "      <td>Thanks God it wasn   t too hot or too humid wh...</td>\n",
       "      <td>Disneyland_HongKong</td>\n",
       "      <td>1</td>\n",
       "      <td>thanks god it wasn t too hot or too humid when...</td>\n",
       "    </tr>\n",
       "    <tr>\n",
       "      <th>670607911</th>\n",
       "      <td>4</td>\n",
       "      <td>2019-4</td>\n",
       "      <td>Australia</td>\n",
       "      <td>HK Disneyland is a great compact park. Unfortu...</td>\n",
       "      <td>Disneyland_HongKong</td>\n",
       "      <td>1</td>\n",
       "      <td>hk disneyland is a great compact park unfortun...</td>\n",
       "    </tr>\n",
       "    <tr>\n",
       "      <th>670607296</th>\n",
       "      <td>4</td>\n",
       "      <td>2019-4</td>\n",
       "      <td>United Kingdom</td>\n",
       "      <td>the location is not in the city, took around 1...</td>\n",
       "      <td>Disneyland_HongKong</td>\n",
       "      <td>1</td>\n",
       "      <td>the location is not in the city took around ho...</td>\n",
       "    </tr>\n",
       "    <tr>\n",
       "      <th>670585330</th>\n",
       "      <td>5</td>\n",
       "      <td>2019-4</td>\n",
       "      <td>India</td>\n",
       "      <td>Great place! Your day will go by and you won't...</td>\n",
       "      <td>Disneyland_HongKong</td>\n",
       "      <td>1</td>\n",
       "      <td>great place your day will go by and you wont e...</td>\n",
       "    </tr>\n",
       "    <tr>\n",
       "      <th>670571027</th>\n",
       "      <td>2</td>\n",
       "      <td>2019-4</td>\n",
       "      <td>Australia</td>\n",
       "      <td>Feel so let down with this place,the Disneylan...</td>\n",
       "      <td>Disneyland_HongKong</td>\n",
       "      <td>0</td>\n",
       "      <td>feel so let down with this placethe disneyland...</td>\n",
       "    </tr>\n",
       "    <tr>\n",
       "      <th>670570869</th>\n",
       "      <td>5</td>\n",
       "      <td>2019-3</td>\n",
       "      <td>India</td>\n",
       "      <td>I can go on talking about Disneyland. Whatever...</td>\n",
       "      <td>Disneyland_HongKong</td>\n",
       "      <td>1</td>\n",
       "      <td>i can go on talking about disneyland whatever ...</td>\n",
       "    </tr>\n",
       "    <tr>\n",
       "      <th>670443403</th>\n",
       "      <td>5</td>\n",
       "      <td>2019-4</td>\n",
       "      <td>United States</td>\n",
       "      <td>Disneyland never cease to amaze me! I've been ...</td>\n",
       "      <td>Disneyland_HongKong</td>\n",
       "      <td>1</td>\n",
       "      <td>disneyland never cease to amaze me ive been to...</td>\n",
       "    </tr>\n",
       "    <tr>\n",
       "      <th>670435886</th>\n",
       "      <td>5</td>\n",
       "      <td>2019-4</td>\n",
       "      <td>Canada</td>\n",
       "      <td>We spent the day here with our grown kids and ...</td>\n",
       "      <td>Disneyland_HongKong</td>\n",
       "      <td>1</td>\n",
       "      <td>we spent the day here with our grown kids and ...</td>\n",
       "    </tr>\n",
       "  </tbody>\n",
       "</table>\n",
       "</div>"
      ],
      "text/plain": [
       "           Rating Year_Month     Reviewer_Location  \\\n",
       "Review_ID                                            \n",
       "670772142       4     2019-4             Australia   \n",
       "670682799       4     2019-5           Philippines   \n",
       "670623270       4     2019-4  United Arab Emirates   \n",
       "670607911       4     2019-4             Australia   \n",
       "670607296       4     2019-4        United Kingdom   \n",
       "670585330       5     2019-4                 India   \n",
       "670571027       2     2019-4             Australia   \n",
       "670570869       5     2019-3                 India   \n",
       "670443403       5     2019-4         United States   \n",
       "670435886       5     2019-4                Canada   \n",
       "\n",
       "                                                 Review_Text  \\\n",
       "Review_ID                                                      \n",
       "670772142  If you've ever been to Disneyland anywhere you...   \n",
       "670682799  Its been a while since d last time we visit HK...   \n",
       "670623270  Thanks God it wasn   t too hot or too humid wh...   \n",
       "670607911  HK Disneyland is a great compact park. Unfortu...   \n",
       "670607296  the location is not in the city, took around 1...   \n",
       "670585330  Great place! Your day will go by and you won't...   \n",
       "670571027  Feel so let down with this place,the Disneylan...   \n",
       "670570869  I can go on talking about Disneyland. Whatever...   \n",
       "670443403  Disneyland never cease to amaze me! I've been ...   \n",
       "670435886  We spent the day here with our grown kids and ...   \n",
       "\n",
       "                        Branch  sentiment  \\\n",
       "Review_ID                                   \n",
       "670772142  Disneyland_HongKong          1   \n",
       "670682799  Disneyland_HongKong          1   \n",
       "670623270  Disneyland_HongKong          1   \n",
       "670607911  Disneyland_HongKong          1   \n",
       "670607296  Disneyland_HongKong          1   \n",
       "670585330  Disneyland_HongKong          1   \n",
       "670571027  Disneyland_HongKong          0   \n",
       "670570869  Disneyland_HongKong          1   \n",
       "670443403  Disneyland_HongKong          1   \n",
       "670435886  Disneyland_HongKong          1   \n",
       "\n",
       "                                       review_contents_clean  \n",
       "Review_ID                                                     \n",
       "670772142  if youve ever been to disneyland anywhere youl...  \n",
       "670682799  its been a while since d last time we visit hk...  \n",
       "670623270  thanks god it wasn t too hot or too humid when...  \n",
       "670607911  hk disneyland is a great compact park unfortun...  \n",
       "670607296  the location is not in the city took around ho...  \n",
       "670585330  great place your day will go by and you wont e...  \n",
       "670571027  feel so let down with this placethe disneyland...  \n",
       "670570869  i can go on talking about disneyland whatever ...  \n",
       "670443403  disneyland never cease to amaze me ive been to...  \n",
       "670435886  we spent the day here with our grown kids and ...  "
      ]
     },
     "execution_count": 12,
     "metadata": {},
     "output_type": "execute_result"
    }
   ],
   "source": [
    "df.head(10)"
   ]
  },
  {
   "cell_type": "code",
   "execution_count": 13,
   "metadata": {},
   "outputs": [],
   "source": [
    "X = df['review_contents_clean']"
   ]
  },
  {
   "cell_type": "code",
   "execution_count": 14,
   "metadata": {},
   "outputs": [
    {
     "data": {
      "text/plain": [
       "Review_ID\n",
       "670772142    if youve ever been to disneyland anywhere youl...\n",
       "670682799    its been a while since d last time we visit hk...\n",
       "670623270    thanks god it wasn t too hot or too humid when...\n",
       "670607911    hk disneyland is a great compact park unfortun...\n",
       "670607296    the location is not in the city took around ho...\n",
       "Name: review_contents_clean, dtype: object"
      ]
     },
     "execution_count": 14,
     "metadata": {},
     "output_type": "execute_result"
    }
   ],
   "source": [
    "X.head(5)"
   ]
  },
  {
   "cell_type": "code",
   "execution_count": 15,
   "metadata": {},
   "outputs": [
    {
     "data": {
      "text/plain": [
       "Review_ID\n",
       "670772142    1\n",
       "670682799    1\n",
       "670623270    1\n",
       "670607911    1\n",
       "670607296    1\n",
       "Name: Rating, dtype: int64"
      ]
     },
     "execution_count": 15,
     "metadata": {},
     "output_type": "execute_result"
    }
   ],
   "source": [
    "y.head(5)"
   ]
  },
  {
   "attachments": {},
   "cell_type": "markdown",
   "metadata": {},
   "source": [
    "F1 score will be used to assess the performance of the classifier because it is the harmonic mean of the precission and recall scores. \n",
    "Using the precision or recall scores may result in skewed false positives of false negatives sice they are inversely related and improving one will lower the sore of the other. Therefore precision score and recall score will not be used.\n",
    "Accuracy score will not be used because it only takes into consideration number of correct predictions and is not sutable for imbalanced datasets"
   ]
  },
  {
   "cell_type": "code",
   "execution_count": 16,
   "metadata": {},
   "outputs": [],
   "source": [
    "def text_fit(X, y, model, clf_model): #clf_model=classification model\n",
    "    X_c = model.fit_transform(X)\n",
    "    print('# features: {}'.format(X_c.shape[1]))\n",
    "    X_train, X_test, y_train, y_test = train_test_split(X_c, y, random_state=0)\n",
    "    print('# train records: {}'.format(X_train.shape[0]))\n",
    "    print('# test records: {}'.format(X_test.shape[0]))\n",
    "    clf = clf_model.fit(X_train, y_train)\n",
    "    y_pred = clf.predict(X_test)\n",
    "    score = f1_score(y_test,y_pred) #TP/(TP+FP) *True Positive, False Positive\n",
    "    print ('Model F1-Score: {}'.format(score))\n",
    "    return (score)"
   ]
  },
  {
   "cell_type": "code",
   "execution_count": 17,
   "metadata": {},
   "outputs": [],
   "source": [
    "f1_scores=[]\n",
    "models=[\"Logistic Regression Model on word count\", \"Logistic Regression Model on TDIF\", \"Logistic Regression Model on TDIF + ngrams\", \"Support Vector Machine Model on word count\", \"Support Vector Machine Model on TDIF\", \"Support Vector Machine Model on TDIF + ngrams\"]"
   ]
  },
  {
   "attachments": {},
   "cell_type": "markdown",
   "metadata": {},
   "source": [
    "#### Logistic Regression Model on word count"
   ]
  },
  {
   "cell_type": "code",
   "execution_count": 18,
   "metadata": {},
   "outputs": [
    {
     "name": "stdout",
     "output_type": "stream",
     "text": [
      "# features: 61331\n",
      "# train records: 28160\n",
      "# test records: 9387\n",
      "Model F1-Score: 0.9737117599162498\n"
     ]
    },
    {
     "name": "stderr",
     "output_type": "stream",
     "text": [
      "c:\\Users\\lyndo\\anaconda3\\envs\\lys_env\\lib\\site-packages\\sklearn\\linear_model\\_logistic.py:444: ConvergenceWarning: lbfgs failed to converge (status=1):\n",
      "STOP: TOTAL NO. of ITERATIONS REACHED LIMIT.\n",
      "\n",
      "Increase the number of iterations (max_iter) or scale the data as shown in:\n",
      "    https://scikit-learn.org/stable/modules/preprocessing.html\n",
      "Please also refer to the documentation for alternative solver options:\n",
      "    https://scikit-learn.org/stable/modules/linear_model.html#logistic-regression\n",
      "  n_iter_i = _check_optimize_result(\n"
     ]
    }
   ],
   "source": [
    "c = CountVectorizer(stop_words = 'english')\n",
    "score=text_fit(X, y, c, LogisticRegression())\n",
    "f1_scores.append(score)"
   ]
  },
  {
   "attachments": {},
   "cell_type": "markdown",
   "metadata": {},
   "source": [
    "#### Logistic Regression Model on TDIF"
   ]
  },
  {
   "cell_type": "code",
   "execution_count": 19,
   "metadata": {},
   "outputs": [
    {
     "name": "stdout",
     "output_type": "stream",
     "text": [
      "# features: 61331\n",
      "# train records: 28160\n",
      "# test records: 9387\n",
      "Model F1-Score: 0.9710186513629842\n"
     ]
    }
   ],
   "source": [
    "tfidf = TfidfVectorizer(stop_words = 'english')\n",
    "score= text_fit(X, y, tfidf, LogisticRegression())\n",
    "f1_scores.append(score)"
   ]
  },
  {
   "attachments": {},
   "cell_type": "markdown",
   "metadata": {},
   "source": [
    "#### Logistic Regression Model of TDIF + ngram"
   ]
  },
  {
   "cell_type": "code",
   "execution_count": 20,
   "metadata": {},
   "outputs": [
    {
     "name": "stdout",
     "output_type": "stream",
     "text": [
      "# features: 898141\n",
      "# train records: 28160\n",
      "# test records: 9387\n",
      "Model F1-Score: 0.9619580577694873\n"
     ]
    }
   ],
   "source": [
    "tfidf_n = TfidfVectorizer(ngram_range=(1,2), stop_words = 'english') \n",
    "score=text_fit(X, y, tfidf_n, LogisticRegression())\n",
    "f1_scores.append(score)"
   ]
  },
  {
   "attachments": {},
   "cell_type": "markdown",
   "metadata": {},
   "source": [
    "#### Support Vector Machine Model on word count"
   ]
  },
  {
   "cell_type": "code",
   "execution_count": 21,
   "metadata": {},
   "outputs": [
    {
     "name": "stdout",
     "output_type": "stream",
     "text": [
      "# features: 61331\n",
      "# train records: 28160\n",
      "# test records: 9387\n",
      "Model F1-Score: 0.9669100867183935\n"
     ]
    }
   ],
   "source": [
    "c = CountVectorizer(stop_words = 'english')\n",
    "score=text_fit(X, y, c, svm.SVC())\n",
    "f1_scores.append(score)"
   ]
  },
  {
   "attachments": {},
   "cell_type": "markdown",
   "metadata": {},
   "source": [
    "#### Support Vector Machine Model on TDIF"
   ]
  },
  {
   "cell_type": "code",
   "execution_count": 22,
   "metadata": {},
   "outputs": [
    {
     "name": "stdout",
     "output_type": "stream",
     "text": [
      "# features: 61331\n",
      "# train records: 28160\n",
      "# test records: 9387\n",
      "Model F1-Score: 0.972198238646175\n"
     ]
    }
   ],
   "source": [
    "tfidf = TfidfVectorizer(stop_words = 'english')\n",
    "score=text_fit(X, y, tfidf, svm.SVC())\n",
    "f1_scores.append(score)"
   ]
  },
  {
   "attachments": {},
   "cell_type": "markdown",
   "metadata": {},
   "source": [
    "#### Support Vector Machine Model on TDIF + ngram"
   ]
  },
  {
   "cell_type": "code",
   "execution_count": 23,
   "metadata": {},
   "outputs": [
    {
     "name": "stdout",
     "output_type": "stream",
     "text": [
      "# features: 898141\n",
      "# train records: 28160\n",
      "# test records: 9387\n",
      "Model F1-Score: 0.9641682730468307\n"
     ]
    }
   ],
   "source": [
    "tfidf_n = TfidfVectorizer(ngram_range=(1,2), stop_words = 'english') \n",
    "score=text_fit(X, y, tfidf_n, svm.SVC())\n",
    "f1_scores.append(score)"
   ]
  },
  {
   "cell_type": "code",
   "execution_count": 24,
   "metadata": {},
   "outputs": [
    {
     "data": {
      "text/html": [
       "<div>\n",
       "<style scoped>\n",
       "    .dataframe tbody tr th:only-of-type {\n",
       "        vertical-align: middle;\n",
       "    }\n",
       "\n",
       "    .dataframe tbody tr th {\n",
       "        vertical-align: top;\n",
       "    }\n",
       "\n",
       "    .dataframe thead th {\n",
       "        text-align: right;\n",
       "    }\n",
       "</style>\n",
       "<table border=\"1\" class=\"dataframe\">\n",
       "  <thead>\n",
       "    <tr style=\"text-align: right;\">\n",
       "      <th></th>\n",
       "      <th>F1-Score</th>\n",
       "      <th>Model</th>\n",
       "    </tr>\n",
       "  </thead>\n",
       "  <tbody>\n",
       "    <tr>\n",
       "      <th>0</th>\n",
       "      <td>0.973712</td>\n",
       "      <td>Logistic Regression Model on word count</td>\n",
       "    </tr>\n",
       "    <tr>\n",
       "      <th>1</th>\n",
       "      <td>0.971019</td>\n",
       "      <td>Logistic Regression Model on TDIF</td>\n",
       "    </tr>\n",
       "    <tr>\n",
       "      <th>2</th>\n",
       "      <td>0.961958</td>\n",
       "      <td>Logistic Regression Model on TDIF + ngrams</td>\n",
       "    </tr>\n",
       "    <tr>\n",
       "      <th>3</th>\n",
       "      <td>0.966910</td>\n",
       "      <td>Support Vector Machine Model on word count</td>\n",
       "    </tr>\n",
       "    <tr>\n",
       "      <th>4</th>\n",
       "      <td>0.972198</td>\n",
       "      <td>Support Vector Machine Model on TDIF</td>\n",
       "    </tr>\n",
       "    <tr>\n",
       "      <th>5</th>\n",
       "      <td>0.964168</td>\n",
       "      <td>Support Vector Machine Model on TDIF + ngrams</td>\n",
       "    </tr>\n",
       "  </tbody>\n",
       "</table>\n",
       "</div>"
      ],
      "text/plain": [
       "   F1-Score                                          Model\n",
       "0  0.973712        Logistic Regression Model on word count\n",
       "1  0.971019              Logistic Regression Model on TDIF\n",
       "2  0.961958     Logistic Regression Model on TDIF + ngrams\n",
       "3  0.966910     Support Vector Machine Model on word count\n",
       "4  0.972198           Support Vector Machine Model on TDIF\n",
       "5  0.964168  Support Vector Machine Model on TDIF + ngrams"
      ]
     },
     "execution_count": 24,
     "metadata": {},
     "output_type": "execute_result"
    }
   ],
   "source": [
    "data={'F1-Score': f1_scores, 'Model': models}\n",
    "models_df= pd.DataFrame(data)\n",
    "models_df"
   ]
  },
  {
   "cell_type": "code",
   "execution_count": 25,
   "metadata": {},
   "outputs": [
    {
     "data": {
      "text/plain": [
       "(array([0, 1, 2, 3, 4, 5]),\n",
       " [Text(0, 0, 'Logistic Regression Model on word count'),\n",
       "  Text(1, 0, 'Logistic Regression Model on TDIF'),\n",
       "  Text(2, 0, 'Logistic Regression Model on TDIF + ngrams'),\n",
       "  Text(3, 0, 'Support Vector Machine Model on word count'),\n",
       "  Text(4, 0, 'Support Vector Machine Model on TDIF'),\n",
       "  Text(5, 0, 'Support Vector Machine Model on TDIF + ngrams')])"
      ]
     },
     "execution_count": 25,
     "metadata": {},
     "output_type": "execute_result"
    },
    {
     "data": {
      "image/png": "[encoded data removed]",
      "text/plain": [
       "<Figure size 640x480 with 1 Axes>"
      ]
     },
     "metadata": {},
     "output_type": "display_data"
    }
   ],
   "source": [
    "sns.barplot(x = 'Model',\n",
    "            y = 'F1-Score',\n",
    "            data = models_df)\n",
    "plt.xticks(rotation=90, ha='right')"
   ]
  },
  {
   "attachments": {},
   "cell_type": "markdown",
   "metadata": {},
   "source": [
    "# Topic Modeling"
   ]
  },
  {
   "cell_type": "code",
   "execution_count": 26,
   "metadata": {},
   "outputs": [],
   "source": [
    "def display_topics(H, W, feature_names, documents, no_top_words, no_top_documents):\n",
    "    for topic_idx, topic in enumerate(H):\n",
    "        print(\"Topic %d:\" % (topic_idx))\n",
    "        print(\" \".join([feature_names[i]\n",
    "                        for i in topic.argsort()[:-no_top_words - 1:-1]]))\n",
    "        print(\"\\n\")\n",
    "        top_doc_indices = np.argsort( W[:,topic_idx] )[::-1][0:no_top_documents]\n",
    "        for doc_index in top_doc_indices:\n",
    "            print(documents[doc_index])\n",
    "            print(\"\\n\")"
   ]
  },
  {
   "cell_type": "code",
   "execution_count": 27,
   "metadata": {},
   "outputs": [
    {
     "name": "stdout",
     "output_type": "stream",
     "text": [
      "10000\n"
     ]
    }
   ],
   "source": [
    "documents = list(X)[0:10000]\n",
    "print(len(documents))"
   ]
  },
  {
   "cell_type": "code",
   "execution_count": 28,
   "metadata": {},
   "outputs": [],
   "source": [
    "no_topics = 5"
   ]
  },
  {
   "attachments": {},
   "cell_type": "markdown",
   "metadata": {},
   "source": [
    "# Using 5 topics"
   ]
  },
  {
   "attachments": {},
   "cell_type": "markdown",
   "metadata": {},
   "source": [
    "#### Topic Modelling with NMF"
   ]
  },
  {
   "cell_type": "code",
   "execution_count": 29,
   "metadata": {},
   "outputs": [],
   "source": [
    "tfidf_vectorizer = TfidfVectorizer(max_df=0.95, min_df=2, stop_words='english')\n",
    "tfidf = tfidf_vectorizer.fit_transform(documents)\n",
    "tfidf_feature_names = tfidf_vectorizer.get_feature_names_out()"
   ]
  },
  {
   "cell_type": "code",
   "execution_count": 30,
   "metadata": {},
   "outputs": [
    {
     "name": "stderr",
     "output_type": "stream",
     "text": [
      "c:\\Users\\lyndo\\anaconda3\\envs\\lys_env\\lib\\site-packages\\sklearn\\decomposition\\_nmf.py:1477: FutureWarning: `alpha` was deprecated in version 1.0 and will be removed in 1.2. Use `alpha_W` and `alpha_H` instead\n",
      "  warnings.warn(\n",
      "c:\\Users\\lyndo\\anaconda3\\envs\\lys_env\\lib\\site-packages\\sklearn\\decomposition\\_nmf.py:1477: FutureWarning: `alpha` was deprecated in version 1.0 and will be removed in 1.2. Use `alpha_W` and `alpha_H` instead\n",
      "  warnings.warn(\n"
     ]
    }
   ],
   "source": [
    "nmf_model = NMF(n_components=no_topics, random_state=1, alpha=.1, l1_ratio=.5, init='nndsvd').fit(tfidf)\n",
    "nmf_W = nmf_model.transform(tfidf)\n",
    "nmf_H = nmf_model.components_"
   ]
  },
  {
   "cell_type": "code",
   "execution_count": 31,
   "metadata": {},
   "outputs": [
    {
     "name": "stdout",
     "output_type": "stream",
     "text": [
      "NMF Topics \n",
      "\n",
      "\n",
      "Topic 0:\n",
      "park rides time ride disneyland day food long went pass\n",
      "\n",
      "\n",
      "we had our first real family vacation in disneyland and it was amazing things to expect long entrance lines some people find this frustrating but the lines do move fairly quickly and they are checking everyone for your own safety we recommend hats sunscreen and water bottles during your time both in line and in the park they dont allow selfie sticks we lost because we had to surrender ours they did allow go pro sticks though which didnt seem fair considering they are virtually the same thing long ride lines get the max pass on your phone for fast passes it makes all the difference for those rides in high demand you can be in line for over an hour during peak times also find out which are the rides you want to hit that are most in demand and secure a fast pass for your magic morning if you get one with your park pass or hotel stay saves you time for sure crowds it sort of goes without saying but disney sees over visitors per day considering the amount of people you can move freely through the park and its incredibly clean its the lines when you notice it the most or during special events catching characters for pictures throughout the park is quite hit and miss even knowing where they tend to appear isnt going to guarantee you find them or that you are in line during their minute window if you are trying to catch rides you dont have a lot of time to chase down alice or mickey for pics unless you are around the park for over a week and can take your time you will find some of course but getting all your favourites takes time and a bit of stalking lol get tickets for shows like fantasmic first thing in the morning they sell out fast come evening get in place to watch about minutes early otherwise you will be standing throughout after a long day of walking the park if you have food allergies speak to the park before your trip it will save you a ton of time if you know where you can eat and where it is in advance you can then plan your travel through the park allowing yourself to be near to your favourite food venue during lunch etc you can find food on the run but it does take time and searching which you dont want to waste when your time in the park is limited if you have never been to a disney park it is unlike any other theme park experience it truly is magical i wasnt sold before we went but it really is amazing crowds and lines asidethings to note before you book check for special event hours as we are not locals and have never been to disney our vacation time was cut drastically short due to the fact no one told us about the reduced park hours we assumed the halloween or christmas stuff was part of the general park experience and had no idea we would lose half our days to people coming in for a party that we could not attend it really took away from our experience and caused us to miss out on things after awaiting this special trip for years it was the biggest disappointment we experienced i cannot emphasize enough how much this impacted our holiday consider the weather during your travel time we are canadian and not accustomed to extreme heat so going in october was perfect we had beautiful sunny skies but we were also able to enjoy the park without running for air conditioning every ten minutes the locals told us that the summer months are far more extreme so if you are unacustomed to heat plan to go during their fall season to have the best weather experience the experience is expensive if you intend to purchase a lot of souveniers take part in pin trading look it upits so much fun or eat in park be prepared to spend the pins for pin trading range from for singles to upwards of for packs soda pop or water is about each at the vendors so that gives you an idea of what the food prices are like the food is great in some areas not so fantastic in others but it is all costly read reviews and blogs to learn about rides food tickets helpful tips and more the more you know planning your trip and entering the park the better your experience will be there is so much to see and do that you want to ensure you dont miss something because you simply didnt know about it they have stroller parking at most rides and you can get a parent swap pass if one parent needs to stay with the littles while the older children go on with the other parent it allows the waiting parent to fast track the line up if they wish to try the ride when they return everyone can experience the magic of disney dont be discouraged if you get motion sick unfortunately i cant stomach anything but the ride through story rides but i had an amazing time anyway the sights are wonderful and the people are greatwe had such a good time i just wish we had gotten our full days so we could have our full experience our disappointment at the reduced hours and letting the special event ticket holders flood into the park a half hour before the event was the only thing holding us back from a full five star rating we will return again one day as disneyland has a special place in our hearts \n",
      "\n",
      "\n",
      "went here with my family for my birthday got a whole day pass from our travel agent so after coming down from the bus it was pretty much smooth sailing going in to the amusement park there were a lot of people but not overly crowded since we went on a weekday as with all amusement parks expect a lot of walking strollers and wheel chairs are available for rent at the fire station at the start of main street the rides since we had a year old and year old with us we could not go on all the rides due to height restrictions but we were able to ride the winnie the pooh autopia buzz lightyear mystic mansion jungle river cruise tea cups got to watch the golden mickeys show unfortunately it was in chinese so the kids kinda didnt enjoy it as much the waiting time wasnt that bad the worst was autopia at mins waiting but my son loves cars and it was his chance to drive his own car other rides only took to mins waiting timethe rides the kids could not go on was space mountain the rc racer parachute drop and grizzly gulch roller coaster i felt the rides were too short as well im not sure if its just me but i felt that the rides in florida were longer by a few minutes so after the ride i always felt like is that it its over but if you feel the need to go again you can always queue up as long as the wait time isnt long the best for me was mystic mountain just like being in a disney movie what i noticed is you ride around in carriages carried by robots no joke i noticed that there were no tracks on the ground and carriages zip around in the mansion moving you around in perfect timing and unison like a technological ballet during the ride truly amazingpark size ive been to disneyland florida and i have to say when it comes to disneyland size does not matter actually it was better smaller because you walked less and had more time going around the park not to mention the queueing and eating which will eat up your time as well we were on the move literally from the time the park opened till it closed and still day was not enough for us there was a lot of shade and seating too compared to the ones in floridafood its expensive as expected but not too bad its a good idea to bring your own water with you since it too can be expensive inside the park there are water fountains around the park so you could refill your bottles but since we had kids i did not want to risk drinking from the water fountains good sized bottles would be enough my daughter is crazy about princesses so the best place to eat would be the royal banquet hall just like eating in a castle ballroom also the best choices since you can get japanese american steaks and burgers and asian cuisine in this one restaurant all the restaurants have their own theme and touch the snacks available outside was pretty good as well although the turkey legs were smaller than the ones being served in florida but was priced pretty much the same so i decided not to buy the parade the parade is only at pm so make sure not to miss it also be strategic where you stay along the parade route the parade starts off from space mountain and makes a first stop near the castle the parade is long as it takes up the the street from the castle to space mountain they do a little presentation and ask the kids to participate unfortunately the lilo and stitch float was the one that stopped in front of us so make sure to ask the park staff for help if your kid has a preference so my wife and daughter had to make a dash for main street following the parade where they made a second stop and she was able to watch the princess float again and participate fireworks and closing time around an hour before closing they already closed the attractions behind the castle so to move all the guests to the front of the castle to watch the fireworks display since the fireworks do fire really close the castle it has to be clear from people you can still grab a quick bite from the maxims restaurant main street corner cafe and tomorrow land after the show wait for the crowd to move out it shouldnt take more than minutes they you can stroll out rather leisurely the crowd well it does get bad at times for some reason queueing brings about the bad in people here in asia not making any assumptions just my observation and it was not a matter of race either we had some bad experiences with a russian as well as a chinese citizen i guess people in the western hemisphere are more inclined to queue properly but just let it roll off your shoulders because its not worth getting worked up and ruining your experience not to mention your kids experience the staff is on hand to put them in their proper place just call their attention to the matter the overhead announcements also make sure to tell people to to cut the line and to leave enough space between each other for better ventilationword of advice dont feed the birds they are overly friendly and it can be cute but avian flu is taken very seriously here in hong kong even from the airport you are advised not to come into contact with birds so dont feed the birds or else you will get swamped by them and possibly catch something not to mention invoke the ire of the park staff \n",
      "\n",
      "\n",
      "i ve been to disney world when i was a child a long time ago but husband had not and wanted to experience magic for himself i chose one day park hopper tickets on a value day as well as the extra money for the maxpass hoping it would not be crowded but it seemed like everyone had the same idea i ve never seen so many people before it took about minutes in line to even get through the security gate and then we stood there overwhelmed there is no clear signs about where to enter either park or workers to ask questions when we did figure at the entrance there were longer lines to enter there too i recommend you download the disneyland app and plot out a plan on how to cover the park the fast pass is a slightly good concept you still have to wait in line a significant amount of time to get the pass as well the ride once you do i had to find a worker which was difficult to show me how to do the maxpass on my phone it s is convenient to make ride selections on your phone but i did not like that you couldn t make multiple choices even if another ride was at a later time had to wait about an hour between each selection but i still think it s worth it if you plan on going on the major rides learned later that you could use the fast pass anytime between the timeframe given like any amusement park the food and souvenirs are overpriced but here maybe a little more than needed the park can be accomplished in about days so i m not sure about getting passes longer than that for the park hopper i comment in another review i made about the california adventure park but looking back if you want to do that park too then a day pass from about we were able to do the rides it s a small world star wars tour ride indiana jones jungle safari boat and soaring we also ride the monorail ate at buffet restaurant in new orleans theme area and snack food a a few areas throughout did some brief shopping at a few stores and saw some shows parades on the streets by then we were done we didn t want to stand in a long time in line for another minute ride and we met some family and friends in downtown disney for dinner overall we got enough of the experience we wanted in a one day pass \n",
      "\n",
      "\n",
      "fun enchantment and a lot more if you come really early lines for the tickets are short but the excitement builds up as you see disneys facade november and december would be a nice time to visit for their christmas theme and the weather too ride the mtr to disney such a lovely disney trainbefore the opening time of the rides lots of characters will be around for photo ops line up to kill time ride as soon as you enter the park to avoid the long wait i miss the board in uss that tells you the waiting time in the rides we have to go from one ride to another just to see the waiting time know when the ride opens disney train mystic manor and jungle river cruise opens a little later so try the other rides before the line gets long the toy story land rides opens early my daughter and i loved the mystic manor fast one we went back again and was able to ride quickly on our time we were also lucky to be able to ride the big grizzly mountain runaway mine cars in the afternoon im glad the park is not that big because after riding the mystic manor we went straight to mickeys phillarmagic to watch the mickey and the wondrous book and then go back to grizzly gulch to catch the mine cars again planning the rides one canbut i love going around the park because i enjoyed all the beautiful decorations around my daughter would remind me not to take pictures anymore so we could line up for the next ridedont miss the parades watch the lion king show and get a good view seat of the frozen lighting ceremony an hour before that show the main street is already filled with people my daughter was on my husbands shoulders so she could watch the lighting ceremony it was magical it snowed on main street dont miss the fireworks toofood is expensive but in big serving day pass is great if you have kids who loves to ride one day aint enough to ride all the attractions and see the show \n",
      "\n",
      "\n",
      "Topic 1:\n",
      "kong hong disneyland visit visited smaller paris tokyo anaheim visiting\n",
      "\n",
      "\n",
      "i have been to hong kong disneyland with my family in last year i remember that the weather of starting day was bad however we went to hong kong disneyland in the second day fortunately the weather of the second day was better when we arrived there we saw amazing thing which was a few of people in hong kong disneyland we argued that it was because of the weather in this case we played games faster however compare to tokyo disneyland hong kong disneyland is smaller the equipment of hong kong disneyland also is fewer and the consumption between hong kong disneyland and tokyo disneyland is the same although hong kong disneyland is not as good as tokyo disneyland there is also attracting me to go it is because it is near to macau and has the same language recently i saw the news that is about extending hong kong disneyland therefore i will go there one more time \n",
      "\n",
      "\n",
      "my family had a one week visit to hong kong from usa and decided to spend a full day at hong kong disneyland this was a great place for kids of all ages it had fun rides and very entertaining shows we have also been to disneyland in california and disney world in florida but the disneyland in hong kong contains various experiences that are wonderfully unique to visitors of hong kong \n",
      "\n",
      "\n",
      "yea the best part of our first trip to hong kong me hubby n son years old went to hong kong on may and i must say the hong kong disneyland was the most enjoyable part love it \n",
      "\n",
      "\n",
      "we spent the whole day in hong kong disneyland hong kong disneyland is an ideal choice for a family tour especially with children \n",
      "\n",
      "\n",
      "Topic 2:\n",
      "place kids visit enjoy disneyland love family fun parade nice\n",
      "\n",
      "\n",
      "disneyland is surely a good place to visit in hong kong the place is really a place for kids and those who are kids at heart at some point we were all kids then and going back to this place will bring back the kid in you \n",
      "\n",
      "\n",
      "truly is the magical place not just for kids but for adults as well a must see place in hongkong be sure to have a full day or even two to visit this place to enjoy all the rides activities and shows \n",
      "\n",
      "\n",
      "wonderful place to be with your family and friends and a must place to visit again and again and a must see place while in hongkong \n",
      "\n",
      "\n",
      "a magical place not only for kids but for all young at hearts its every childs dream to visit this amazing park its really the happiest place on earth a fun and enjoyable place for families be sure to watch the parade and the fireworks definitely a place to visit again \n",
      "\n",
      "\n",
      "Topic 3:\n",
      "disney park world parks small smaller hk like florida land\n",
      "\n",
      "\n",
      "it s disney disney never disappoints we prefer disneyland over disney world because it s much more personal with the two parks next to each other the rides also seem better and faster than disney world \n",
      "\n",
      "\n",
      "this is the smallest disney park i have seen especially with no crowds i was done in a day anyway it is still disney and it was enjoyable the advantage was you dont need to wait in line for hours like california disney and world disney in florida \n",
      "\n",
      "\n",
      "disney disney disney even though smaller than the other parks it is still awesome visited during our honeymoon asia trip the staff were so friendly toy story land is a great addition to disney parks the disney mtr was fun to ride on great day out can get it done in less than a day though no queues for any rides \n",
      "\n",
      "\n",
      "smaller version of disney world disney land made my year old and me happy this is the happiest place in the world the showed were still awesome love disney world and land it s a lot cheaper than disney world in orlando \n",
      "\n",
      "\n",
      "Topic 4:\n",
      "great day fun rides family lots kids spend shows spent\n",
      "\n",
      "\n",
      "disney is always a great experience when we went there were no lines you can do the whole park in one day clean and great service \n",
      "\n",
      "\n",
      "we spent a full day here and had a great time on the ride and watching different shows it was great \n",
      "\n",
      "\n",
      "this was a great day the park is great for all ages i had the best time riding the rides and seeing the attractions the kids had a great time also i suggest if you can go and see for an unforgettable day \n",
      "\n",
      "\n",
      "great time clean friendly user friendly great food great service great staff well lit great layout \n",
      "\n",
      "\n"
     ]
    }
   ],
   "source": [
    "no_top_words = 10\n",
    "no_top_documents = 4\n",
    "print(\"NMF Topics \\n\\n\")\n",
    "display_topics(nmf_H, nmf_W, tfidf_feature_names, documents, no_top_words, no_top_documents)"
   ]
  },
  {
   "attachments": {},
   "cell_type": "markdown",
   "metadata": {},
   "source": [
    "#### Topic Modelling with LDA"
   ]
  },
  {
   "cell_type": "markdown",
   "metadata": {},
   "source": [
    "#### Topic Modelling with LDA"
   ]
  },
  {
   "cell_type": "code",
   "execution_count": 32,
   "metadata": {},
   "outputs": [],
   "source": [
    "tf_vectorizer = CountVectorizer(max_df=0.95, min_df=2, stop_words='english')\n",
    "tf = tf_vectorizer.fit_transform(documents)\n",
    "tf_feature_names = tf_vectorizer.get_feature_names_out()"
   ]
  },
  {
   "cell_type": "code",
   "execution_count": 33,
   "metadata": {},
   "outputs": [],
   "source": [
    "lda_model = LatentDirichletAllocation(n_components=no_topics, max_iter=5, learning_method='online', learning_offset=50.,random_state=0).fit(tf)\n",
    "lda_W = lda_model.transform(tf)\n",
    "lda_H = lda_model.components_"
   ]
  },
  {
   "cell_type": "code",
   "execution_count": 34,
   "metadata": {},
   "outputs": [
    {
     "name": "stdout",
     "output_type": "stream",
     "text": [
      "\n",
      "\n",
      "LDA Topics \n",
      "\n",
      "\n",
      "Topic 0:\n",
      "guardians springs complain fault galaxy cake radiator miles racers soaring\n",
      "\n",
      "\n",
      "this was a three generational vaca of pure fun something for all of us to enjoy and all of us enjoyed it together \n",
      "\n",
      "\n",
      "as a child in the i was brought up with walt disney his christmas message was always awaited on tv with complete silence nothing like the queens speech so disney parks from los angeles through florida to paris have been well frequented by ourmore \n",
      "\n",
      "\n",
      "unfortunately hk disney due to a fault in their website are still holding approx of my cash debit card weeks after i attempted to purchase tickets and the website kept advising me my card could not be authorised extremely poor unhelpful service from hk disney staff during my attempts to rectify this situation no disney magic in this experience \n",
      "\n",
      "\n",
      "great experience for first timers must try rides include grizzly gulch and the nightmare experiments very good actors in the nightmare experiments different creepy sensation due to its human actors however the actors need to be very careful for the personal space what good about machine is that it is already designed for the human safety but if the machine is replaced by human actors creativity can be happening during the show and for sure it must not violate the safety rules for me i dont prefer human actors especially in the horror rides \n",
      "\n",
      "\n",
      "Topic 1:\n",
      "park disney disneyland day rides time great food hong kong\n",
      "\n",
      "\n",
      "this was our first disney experience and after reading a lot of negative reviews about hong kong disneyland due to its size etc i was a little nervouswe decided to bite the bullet and just do it and i am so glad we didwe stayed at the hollywood hotel and because we had a feeling our kids would want to be completely saturated by disney we also bought the budget annual passes which meant we could go into the park every day mon fri if we wanted to the annual passes also saved us on our hotel room costs so we paid around a night for a park view roomwe went into the park everyday of our day stay we got there as soon as the park opened and stayed until around when the sun was getting uncomfortable we returned to the hotel for a rest swim etc and would go back to the park around when the sun was going downdisneyland park was far superior to anything we have here in australia for the kids and there was no waiting for anything we walked straight onto every ride and that was priceless for me the new its a small world is wonderful and my kids aged and never got boredi would agree that the park is aimed at children under but if this suits your family situation you will have a magical timewe had good access to all the characters and i feel we have been spoilt now other disney parks may be bigger but i am sure due to this there are many more people wait times and frustrated parents the fireworks each night were amazing and the all the cast members we encountered were very helpful and friendlyif you are deliberating about hong kong disneyland i highly recommend you do it \n",
      "\n",
      "\n",
      "disney land in hk was a must visit on our list of things to do in hong kong we caught the disney train into disney land this was just another train ride but it helped get us excited about the day ahead then you have to swap to the disney land only train has its own train line it was very hot and sunny the day we visited in the middle of a week of rain we kept putting it off until it was a nice day the problem with this was the line ups to get into the park have you lining up in the sun bring an umbrella no matter what the weather the line ups in the park where quite large as we found out we where there during the summer break no wonder there where so many school aged children everywhere we where there in august the line ups where long and the rides over in a flash we still found it enjoyable just looking at the faces of all the happy little ones including our own that was the most important thing to us lining up in the sun then getting inside the ride building to find they have been hiding another ten rows of visitors was a bit disappointing but we shuffled through the stalls and got to enjoy the shows and ridesthere is food of all sort throughout the park as well as drinks and a lot of disney memorabilia everywherethe fireworks at the end of the night are a must see but get up the front and look behind you and there is a sea of people we waited in the shopping area for of them to disappear as it looked like they all went to the train station there was still a full train when we got there but it was all good enjoyed the day and will return \n",
      "\n",
      "\n",
      "i have been to disneyland in los angeles so i can only compare the hong kong site to the original i enjoyed this disneyland very much the staff were always friendly and helpful we had a mix up with our pre bought tickets and they went out of their way to help us resolve the issue even offering us express passes to some of the popular rides having been there in october they had a halloween theme throughout the park and line ups to rides were not long as it was out of the holiday season for hong kong residents they were giving away lots of stickers and lollies in the halloween themed garden where kids could make up small baskets to go trick or treating this was all free food is standard theme park menu items we had burgers and fries which was decent enoughthe theme park is near the airport direction and it cost us approx each way from our hotel in mong kok via uber we had people and needed a large vanthere is also complimentary wi fi throughout the parkits a long and tiring day when you are there from until at night but it is worth it to see all the parades as well as the rides and features i recommend to attend over two days as we didnt get to see all the themed sections in the first day the kids loved it and so did us adults \n",
      "\n",
      "\n",
      "this is my second time to hong kong disneyland although my visits have been about years apart my feeling about the park remains the sameyou have to feel a bit bad for hkdl it was basically built on the cheap with the expectation that people would come no matter what and they didnt significant investment has been made but the fact remains that this is the only park around the world that doesnt have much going for itwhile the place has changed much for the better since i went just after it opened its still a pretty small place one day is more than enough time to explore this park in fact you may find yourself bored by the end of the day the day we visited was incredibly quiet and we did almost everything in the park in about hours they have some new unique rides that are fun but sadly most of the parks original rides are clones from other parks around the world making it the most bland disney park on earthnevertheless i still give it stars cast members are happy and friendly the place still has the disney touch and it operates well as a whole its just never going to be orlando or tokyo or even shangai its brand new competitor due north at the end of the day however hong kong disneyland still offers some magic to everyone \n",
      "\n",
      "\n",
      "Topic 2:\n",
      "rides disneyland ride time day place parade disney fireworks kids\n",
      "\n",
      "\n",
      "this is a place which takes you to a magical journey into the world of disney characters both adults and kids have ample opportunity to enjoyfew essentials to remember while planning your if you are a first time visitor especially with kids plan for days and night this will be comfortable itinerary to exlpore the park at leisure without rushing through the plan overnight stay at one of the disney hotels near the park since the park is an hour to minutes away from central island or kowloon and it can be tiring journey back in the take a day pass at discounted not too many vegetarian options in the park carry your own supplies if you canfirst and foremost there are parades in the park one at pm and the other at pm followed by night firework display both are not to be missed try to reach the central parade venue minutes before parade timings to get a vanatge viewthe enitre park is divided into zones as followsa toy story land rides for adults and kids parachute drop and rc racer are more exciting than the othersb mystic point mystic manor is nice journey in an old manor on a electro magnetic cartc grizzly gulch mine train is exciting and geyser gulch in uniqued adventureland dont miss the absolutely amazing lion king show and kid friendly jungle river cruise kids will enjoy tarzans treehousee fantasyland has some wonderful shows which the entire family can enjoy its a small world mickey philarmagic mickey and the wonderous book many adventures of winnie the pooh are simply wonderfulf tomorrowland futuristic rides especially for older kids and adults hyperspace mountain is one of the best rides not to be missed also try orbitron and buzz year astroblasters for fung main usa street nothing much to see except an animation theatre and shopsabove are based on our experience and not a guideenjoy your visit \n",
      "\n",
      "\n",
      "first visit to any disneyland the entire journey in a mickey mouse shaped window train is simply magical went with the flow of the crowd and realised that day is too less to enjoy it in entirety feel this is a better way to explore the park walk straight through main street and start with tomorrowland or head straight through sleeping beautys castle gets into fantasyland in case of the latter reach tomorrowland by pm to enjoy the wonderful rides these are the best parts of the park click your pics with mickey and minnie mouse in the mornings as towards evenings the lines get longer and you will end up wasting hours just waiting for the pic head to mystic point the journey in the mystic manor is good but too short the gardens are a waste head to toy story land thereafter the para drop ride is a must do here on to grizzly gulch a quick stop at adventureland tarzan s tree house or the river ride is for kids primarily must do rides autopia and space harmony tomorrowland journey in the mines of grizzly gulch the grand carousal fantasyland must visit shows the festival of the lion king show in adventureland golden mickeys and mickey s philharmagic in fantasyland the fireworks show at pm gather at the main street a little earlier to get a good spot note the park shuts immediately after the fireworks at so do your shopping before the showcost of tickets hkd adult \n",
      "\n",
      "\n",
      "those who worry whether hk disneyland could in one day do not worry there are some tips that can be done especially with children aged years and come on weekdays not come early at am have been standby at the if you want to take pictures with mickey and minnie at main street usa see the queue if the queue length then go straight to fantasyland cinderella carousel dumbo flying elephant fantasyland train station adventures winnie the pooh mickey philharmagic mad hater tea at go to adventureland to watch festival of lion king start have lunch tahitian enjoying jungle river cruise n tarzans go straight to tomorrowland space mountain orbitron buzz lightyear astro jedi standby to see fantasy parade along mainstreet at see the parade in the throughway between fantasyland and tomorrowland at take a picture with some disney character in fantasyland before go to toystoryland rc racer slinky dog spin tou soldier parachute go to mystic point mystic manor garden of go to grizzly gulch big grizzly mountain runaway mine cars geyser go back to main street and standby in front castle at pm take a rest and prepare for disney paint the nite parade then a spectacular fireworks disney in the stars make sure to stay in the middle of park in front the castle as the best lets buy various souvenirs along main street before going home \n",
      "\n",
      "\n",
      "it was absolutely fun visiting disneyland hong kong disneyland can easily covered in a day if you plan well if you can get map in advance n plan accordingly you can cover most of the worthy attractions one should plan it on weekday and should reach early say around to mins to mins can easily be spent while taking photos getting maps and show time guides n relaxing for sometime then standing in the queue for the entrance if have booked ticket online take another to mins for collecting tickets by flashing barcode at ticket kiosk stationed at the back of ticketing counterits better to take discounted ticket online and reach earlythe park is divided into sections things we liked was the parade show both noon and night festival of the lion king show mickeys philarmagic show winnie the pooh mickey book wondrous they do have fast track ticket for some rides or events where you need to take it at the stationed kiosk by flashing your entrance ticket for available time slots we like small wonder parachute drop rc racer mystic manor grizzly mountain mine cars jungle river cruise tarzan house if u have time a utopia space mountain ufo zone buzz light year stitch encounter and so ongo and have fun in this beautifully crafted theme park its has got beautiful location and is very neat and green \n",
      "\n",
      "\n",
      "Topic 3:\n",
      "breaking mean told code mark lady guy walt village bar\n",
      "\n",
      "\n",
      "last december our entire family went to hongkong for a much needed rr everything was doing great as planned until my niece met an accident in one of hongkong disneyland rides due to a technical problem in their space mountain attraction the guests were advise to alight from their seats after it moved a few meters forward away from the platform the platform now is higher than the original position due to the ackward poisition while climbing out my niece fell and twisted her ankle she was brought to the first aid clinic for treatment we requested that she be brought to a hospital for x ray shots and further observations now here is where our problem started together w some of my relatives they transfered my niece to an ambulance on the understanding that she will be brought to a hospital to our surprise they were brought to a taxi stand and the ambulance assistant advised them to get off and take a taxi going to the hospital they want us to fend for ourselves w o any assistance from disneyland officials they want us to go to the hospital w o any help from any park personnel we are tourist and we are not familiar with the streets and how hospital regulations are observed we felt like we were being sent out of the park asap to take out all responsibilities off their hands so be very careful while in hk disneyland chances are you might get the same cold treatment \n",
      "\n",
      "\n",
      "great times everything and everyone was fantastic the crouds was largely causing long waits recommend not going before checking on estimated crouds \n",
      "\n",
      "\n",
      "a small version of orlando with subtle asian influences that are necessary balanced subtle and work well with a mostly american theme park experience \n",
      "\n",
      "\n",
      "we were very disappointed with the service at the souvenir shop we bought mugs and after paying asked the cashier if he could pack it in a box or bubble wrap and all he could respond was do you need a bag despite explaining to him in cantonese we were travelling by plane after much argument he reluctantly takes out the bubble wrap to wrap the mugs what disappointing service for disneyland furthermore the water coolers at the entrance was rusty and filthy also we had to queue for hours before we could take a picture with mickey and minnie may be more time efficient if they had more stations for the photo taking as the hrs wait included rounds of mickey and minnie going in and out to change a waste of time for visitors \n",
      "\n",
      "\n",
      "Topic 4:\n",
      "indiana jones universal studios pushing singapore frontierland elsa monorail orleans\n",
      "\n",
      "\n",
      "hand dipped with thick corn batter to crispy perfection ketchup and mustard behind corn dog cart can buy corn dog separately and not with apple slices and drink \n",
      "\n",
      "\n",
      "full of mainland tourists spitting and pushing and shoving is not the happiest place on earth expensive \n",
      "\n",
      "\n",
      "nothing out of this world but good scenery and organization what i liked the most was the robot trash bin going around by itself and talking d \n",
      "\n",
      "\n",
      "my daughters first time at disneyland this year old will never forget her appointment at the bibbity bobbity boutique so much to see so many memories so much walking \n",
      "\n",
      "\n"
     ]
    }
   ],
   "source": [
    "print(\"\\n\\nLDA Topics \\n\\n\")\n",
    "display_topics(lda_H, lda_W, tf_feature_names, documents, no_top_words, no_top_documents)"
   ]
  },
  {
   "attachments": {},
   "cell_type": "markdown",
   "metadata": {},
   "source": [
    "#### Topic Modelling with SVD"
   ]
  },
  {
   "cell_type": "code",
   "execution_count": 35,
   "metadata": {},
   "outputs": [],
   "source": [
    "lsi_model = TruncatedSVD(n_components=no_topics, n_iter=7, random_state=42).fit(tf)\n",
    "lsi_W = lsi_model.transform(tf)\n",
    "lsi_H = lsi_model.components_"
   ]
  },
  {
   "cell_type": "code",
   "execution_count": 36,
   "metadata": {},
   "outputs": [],
   "source": [
    "lsi_model = TruncatedSVD(n_components=no_topics, n_iter=7, random_state=42).fit(tf)\n",
    "lsi_W = lsi_model.transform(tf)\n",
    "lsi_H = lsi_model.components_"
   ]
  },
  {
   "cell_type": "code",
   "execution_count": 37,
   "metadata": {},
   "outputs": [
    {
     "name": "stdout",
     "output_type": "stream",
     "text": [
      "\n",
      "\n",
      "LSI Topics \n",
      "\n",
      "\n",
      "Topic 0:\n",
      "park disney disneyland day rides time ride kids just food\n",
      "\n",
      "\n",
      "so we ve returned from our trip to the usa and the west coast a trip that ended with a five day visit to disneyland in anaheimfor the benefit of those of you who have only ever made the journey to walt disney world near orlando is a trip to disneyland worth it or can you get much of the same experiences in central floridafirstly disneyland is made up of only two theme parks one of which disney california adventure had a troubled and frustrating gestation before finally getting itself on track only in recent years disney s keystone in california is disneyland itself the original park that took elements from existing american theme parks and pleasure gardens and perfectly fused them together into the definitive family entertainment destinationwalt disney world in florida was an effort to break free of the historic limitations of the california site and over the years has expanded to a total of four parks across enormous acreage the most recognisable park is magic kingdom and it is this park that is a homage to disneyland elements are shared between the parks but none are true replicas of one another gentle facsimiles persist but many seemingly familiar attractions have slight differences and many attractions are unique to one location or the otherdisneyland and magic kingdom are therefore closely related while california adventure shares some of its heritage with the content of disney s other florida offerings hollywood studios epcot and animal kingdomfrom a purely package holiday perspective wdw wins with a much larger size it s much more capable of sustaining a family vacation for a much longer visit the typical two weeks that british visitors are likely to book there are other benefits too multiple disney owned hotels on site restaurants aplenty water parks shopping entertainment and close by universal florida and seaworld too wdw is cleverly designed to act as the hub for all of your holiday needs and is increasingly with dining packages digital ticketing multiple pre bookable attractions and experiences a completely integrated disney experience from sun up to sun downdisneyland is a very different experience to its upstart younger sibling and this is where some very surprising elements reveal themselvesfor starters disneyland is small though they may look similar magic kingdom is quite a bit larger and cinderella s castle in florida is massive when compared to anaheim s original sleeping beauty castle the limited scale of disneyland was a necessity of the constraints of the original site and of walt being unable to afford more land when embarking on the project with finances tight disneyland was soon hemmed in by hotels restaurants and vacant lots purchased by speculative real estate developers over the years disneyland s designers have become adept at squeezing attractions into an increasingly full plot the result is a surprisingly intimate experience that wdw seeks to duplicate but because of its more generous size and despite using clever tricks with scale and perspective doesn t quite manage to replicate disneyland still has walt s influence around every corner and though planned and conceived by him wdw didn t even break ground until after walt s deathsecondly disneyland is much more of a local s park that s not to say that hundreds of thousands of foreign visitors or those from across much of the usa don t venture to anaheim it s just that the overwhelming majority of visitors are from the la and southern california conurbation and this lends the park a more casual vibe many californian s are day visitors or just there on short stays and the popularity of annual passes mean that many can drop in for an afternoon or evening visit almost any day of the week attendance levels can therefore fluctuate dramatically at times outside of peak demand particularly during mid week the parks can be remarkably quiet compared to florida walt disney world is becoming much more of a year round destination to the point where crowds are flattening out and periods that have historically benefitted from low attendances are starting to get squeezedthe next difference is in the time you may want to dedicate to visiting the parks disneyland resort that s disneyland and the neighbouring disney california adventure can be attempted at the right time of year in just two days one day for each park in some favourable circumstances a reasonable taster of both parks can even be managed in a single day this opens up disney as a vacation excursion destination something that can be added but need not dominate a busy schedule spent visiting los angeles san diego or other californian cities and landmarks general admission theme park tickets start with single day options and top out at five day passes remember to specify park hopper tickets if you wish to skip between both parks in a single day so disneyland works well as an addition to any trip that brings you to california rather than necessarily being the focus of a long vacation wdw is a destination that visitors commit multiple days to with one and two week visits increasingly popular and except for a few days at universal florida many people never leave the boundaries of the florida resort at allfinally there are attractions in california that you won t find in florida and some special takes on some familiar wdw favourites that are exclusive to anaheim here are some of your exclusivesindiana jones and the temple of the forbidden eye a high speed truck ride through a south american treasure templethe matterhorn bobsleds the world s first tubular steel rollercoaster that winds its way through the iconic matterhorn mountain that borders fantasylandfinding nemo submarine voyage the famous disney submarines given a pixar makeoverguardians of the galaxy mission breakout the extremely clever and uniquely re themed hollywood tower of terrorcars land the phenomenal multi million dollar recreation of radiator springs featuring three unique attractions centred on the popular characters from the cars films including the amazing radiator springs racersparadise pier and california screamin currently undergoing a reimagining as pixar pier and the incredicoaster themed on the incredibles just in time for the film s sequelgrizzly peak a water raft ride through a californian national parkmickey s toontown a mash up between the worlds of disney animation and who framed roger rabbitthe world of color a spectacular water fountain show held on the lake in california adventure and enhanced with pyrotechnics lasers and animated projectionsadded to these are some attractions that manage to beat their duplicateshaunted mansion from halloween thru christmas this attraction is exclusively redecorated to include special theming from a nightmare before christmas turning it into a unique attraction that makes florida theme park fans extremely jealouspirates of the caribbean this is the superior us version of the classic with better drops and better loading and unloading just don t look at the shanghai disneyland versionit s a small world the disneyland original features the iconic clock and the original world s fair outdoor beginning absent from the wdw editionso should you visit disneyland our opinion is yes just with some conditions if you are visiting california definitely try and add it to your list you ll just have to determine how much time you ll want to spend there we recommend between two and three days in low season and midweek if you re visiting in high season the two parks can get quite full and the only guarantee of seeing and riding everything may be to stretch a visit out to four or five days depending of course on just how disney you arethere s no dining plan at disneyland and the park dining is limited when compared to wdw but there are a few great restaurants inside the gates reserve using the disneyland app and some reasonable offerings nearbyif you re familiar with wdw you won t find magic bands or advance fast passes in california but there have been recent changes to introduce a little technological ticket management to disneyland for a per guest daily supplement guests can now link their park tickets to their disney account using the disneyland app benefits include an unlimited photo pass and fast pass reservations that won t require a visit to the attraction to get a timetying disney to a visit to universal studios in hollywood is not as practical as the florida equivalent as the parks are on opposite sides of la and the traffic on the freeway between the two destinations can be torturous another great theme park experience six flags magic mountain in valencia is even further away to the north of los angeles our advice should you wish to add universal and six flags to your itinerary use a hotel near to hollywood or universal city and stay a few nights there using that as your base before moving on to anaheimif you re looking for another theme park experience closer to disneyland you can visit knott s berry farm also in anaheim and just a few minutes away disney doesn t offer any water parks at disneyland but nearby knott s berry farm does have a reasonable offering in the shape of soak city and six flags has the excellent hurricane harbor both open seasonallyso for us disneyland is a gem yes inevitably there is a lot of duplication between california and florida but there s still plenty of unique experiences too despite the clamour from some disney fans that the company should replicate everything in both locations disney is clever enough to know that allowing each resort to have its share of exclusive attractions allows them to have a distinctive character it s this approach that makes a visit to either location such a different and worthwhile experiencefootnote my wife and i took our first holiday together to california disneyland was my first experience of a disney park california adventure was still the parking lot at the time despite having been to wdw lots of times since disneyland remains my favourite disney park after all they say that you never forget your first time \n",
      "\n",
      "\n",
      "ok first i must say that i always check trip adviser before going anyway and a few of the worries of some reviews were completely unfounded in my instance everywhere launch of advisor it said there are mean and bad chinese people like pushing shoving spitting and throwing trash everywhere i saw exactly people doing that but it was a tuesday in march but still i think a lot of the negativity is completely unfounded getting there now onto the actual review for stuff fining disney from any hotel is fairly simple you can just take us away to go there and the disney train is pretty cool it as mickey mouse windows in the seats are nice and a lot of little statues in the subway cararrival upon arriving to disney you go up a flight of stairs or an escalator whichever is to your liking then you go about maybe m and theres a really cool statue of mickey mouse surfing on the whale from the noki upon arriving to disney you go up a flight of stairs or an escalator which ever is to your liking then you go about maybe m and theres a really cool statue of mickey mouse surfing on the whale from the pinochio i had read onto the visor that no outside food is allowed however i did bring some oranges and chocolate bars theres also plenty of seats before the official entrance where you can eat some hamburgers or sushi or whatever you bring from your hotel room so you can definitely get really full before entering the park and save some money if thats something that is in your current life ticket gate another thing that i liked was selfie sticks are completely band we were seeing security people taking away all the selfie sticks and not allowing anyone to enter with selfie sticks so thats nice for annoying people entering the park with easy we bought our tickets online and we simply showed the code that the website gave us security was decent it was noticeable but i simply said i do not have a gun and they stop searching my bag but im a white guy so yeah entering the park soon as you enter the park you can see something called downtown usa or main street usa its basically just some century usa that things soon as you enter the park you can see something go down town usa or main street usa its basically just some century usa that things then the castle is seen at the end of this alley and like a lot of the other reviews said the castle is very very lackluster its basically just like a mcmansion that youve probably seen before the us but again it was a beautiful cleanlines the park was spectacularly clean and you didnt necessarily see any of the cleaners so thats pretty cool so it had a really clean feeling about it bathrooms there were more bathrooms then people almost there were so many bathrooms all of which were spectacularly clean equipped with toilet paper and soap been nice and dryers they had the asian style squatting toilet for people who prefer that and they had an abundance of western toilets they had a lot of handicap toilets and like i said they were all very clean and very plentiful water foundtains they also had free water dispensers that you could fill up outside bottles with or if you wanted to buy a memorabilia cup you could fill that up as well the water was free and plentiful english let me address the elephant in the room by saying that the english of the staff was satisfactory and my piny let me address the elephant in the room by saying that the english of the staff was satisfactory in my opinion i didnt ask them philosophical questions or the meaning of life but if i were to ask which princesses or which disney characters were aware and if i can take a picture with them they were very helpful they knew everything about the park and no complaints disney characters for pictures with i saw a few disney characters like in the body suits for taking pictures with the tinker bell girl was a nice sand company to my girlfriends that said just good nice lady and the chippendale were also very nice they took the time to take pictures and hold hands and just wave and everything that is expected so again the courtesy was completely died bu i saw a few disney characters like in the body suits for taking pictures with the tinker bell girl was a nice sand complimented my girlfriends that sandest good nice lady and the chip and dale were also very nice they took the time to take pictures and hold hands and just wave and everything that is expected so again the courtesy was completly finethe rides this park would not be suitable for adrenaline junkies because a lot of the rides what exactly balls to the wall insane but i definitely believe space mountain is good enough for the casual themepark go her and the rest of the rides had such interesting style and artwork that it was ok that they werent necessarily giant in proportions lines like i said we went on a tuesday in march from to and the lines were ridiculously small we space mountain was about a five minute wait each time and we went twice times no problem we went many times on the mysterious mansion and a few other times on the river cruise both of which were very nice and cool and like i said no lines the food i making a lot more money now than i used to so price isnt as much of an issue but i guess the price can be considered expensive but again its disney so dont be foolish if youre you know living in poverty bring an apple or something we were able to comfortably eat a decent dinner for around and the drinks were anywhere from to dollars for water juice so again its a little expensive but its disney so bring your money the food is very varied from sushi too dumb lengths to fish sandwiches to churros of all things comfortabality this day wasnt very hot but it seems as though they have lots and lots of shade and a lot of cooling station fans and mist machines seating the seating was also very plentiful they were benches upon benches upon chairs upon chairs there were basically just many places to sit fireworks ive been to a few amusement parks that claim to have fireworks but basically were just sparklers the fireworks here were completely top notch it was probably about nine minutes in total with the classic disney songs that we all adore from childhood projected onto the castle and the famous music coordinated with a lot of fireworks and i enjoyed it a lot so everyone seem to have a good time the seating was very organized if you choose to sit very close to vassal i did not but i just wanted to be closer to the subway so i was somewhere in the middle ive been to a few amusement parks that claim to have fireworks but basically were just sparklers the fireworks here were completely top notch it was probably about nine minutes in total with the classic disney songs that we all adore from childhood projected onto the castle and the famous music coordinated with a lot of fireworks and i enjoyed it a lot so everyone seem to have a good time the seating was very organized if you choose to sit very close to castle i did not just wanted to be closer to the subway so i was somewhere in the middle value for money the value for the money which is a bout was completely fine in my opinion there was music there was d shows their words rides there was just lots and lots of things to do so i completely feel as though its with the money security lighting i doubt anything like this is going to happen but im a teacher so im a very careful person a few of the places that night werent very well lit not as in like breaking your ankle well lit but maybe if someone wanted to just grab you and pull you to the bushes it looked a little bit possible so maybe they could have more lighting or more people walking around or something anyways i love people said this park is a small but i enjoyed it very much for eight hours and i had a great time im not really easy to please but i was very happy and childlike this day and i look forward to returning if you read these characters thank you and hopefully i can help you you anyways i love people said this park is a small but i enjoyed it very much for eight hours and i had a great time im not really easy to please but i was very happy and childlike this day and i look forward to returning if you read these characters thank you and hopefully i can help you \n",
      "\n",
      "\n",
      "our family travels to disney parks times a year if not more and as a family of this is not an affordable trip however we love disney so much the expense is worth it we usually go to disney world however decided to take a quick trip to disneyland this year we purchased day one park tickets for our family we went to disneyland park days and california adventure for one day before leaving we find out many rides were shut down as well as part of main street which we had no choice at this point as flights were booked and time had been taken from work the first day february we went to disneyland park we tried to find the days that we could use our magic morning and the employees in the ticket booth were helpful in finding the days but in no way made the experience magical usually at park opening the train comes around with characters on it and a family to open the park and on this day the train arrived with no characters and they did a park opening with a family on the ground in front of park gates that no one could see and it wasn t very enthusiastic the process of getting into the park was tedious scan your ticket take a photo so your ticket cannot be used by anyone else and sign your ticket the gate employees are rather rude and just want to get you in and gone walking into the park our kids were excited so we headed toward the rides the ride lines were longer than usual which may be because so many rides were closed at once there was a strange incident while we were in line for the gadget coaster in toontown the ride was stopped and an announcement was made as if the ride had a maintenance issue but come to find out there was a man that had a selfie stick and was trying to use it on the ride we waited about minutes until security got there to remove him and proceed to argue with him at the ride exit we asked about fireworks and were told by an employee that fireworks were only on the weekends and depended on weather we purchased some items at the store outside of space mountain and the employees were helpful and answered questions and helped us find the sizes we were looking for there were no parades due to construction on main street and no fireworks on this day so we ended up leaving the park earlier than we normally would day at disneyland was what really made this trip awful on day my brother and his family joined us my niece is autistic and gets sever anxiety when standing in long unending lines so my sister in law called ahead to make sure she would be able to get an ada pass for the lines and she was told she could we waited in line at town hall for what seemed like an hour they finally got in and requested the pass and my sister in law was made to feel like she was lying they asked a million questions about her disability etc if it s the case that someone needs to prove an actual disability why wasn t she told over the phone to bring some type of proof with her however we saw many able bodied people cruising up the exit line with their wheelchairs were the given the same treatment your employees really need some training about autism and how if effects each person differently we proceeded to the rides after the questions and tried to have a good day this pass my niece was given was an awful waste of time she had to go to a specific stand in the entire park to get one fast pass which many times it seemed the fast pass lines were longer than the regular lines but hey if we would have spent an a day we could have pre booked our fast passesa service that is free at disneyworld we ate lunch in cafe orleans and it was great the waitstaff was quick to clear our plates and have friendly conversation with us wish all the disneyland employees were so great we rode a few more rides and part of our group left for a nap later that evening we headed to the queue for fantasmic we were pointed to the viewing area for people we did not get fast passes and at the entrance of this queue we asked were stroller parking was and we were told to take it with us we were walking in dim lighting mind you and looking for a spot with a grumpy tired year old jumping out of his stroller we were distracted i will say but how many parents at disneyland go thru the same thing every single day while we were walking not focused on the ground which i guess we were expected to be shania stepped in front of my stroller and said rudely this area is for fast pass only do you have a fastpass we told her no that someone pointed us down here for queueing of people who did not have fast passes she told us see this line a line of green tape on the ground that is not really noticeable you need to stay on that side so we found seats and sat down unfortunately we were near to ride shania and another employee who talked the whole time we were waiting we heard all about her snap chat listened to her sing about being mixed i m also mixed along with my kids so this is in no way related to that listened to her playing and joking all the while being rude to everyone that didn t see her line then she felt the need to approach us again after sitting in the same spot for minutes to tell us we needed to move our stroller to the back we loved the stroller and finally the show started the show was great and we left the experience we had during this disneyland trip was so awful we don t want to return ever i guess our family got used to the great service at disneyworld we re employees are nice and friendly at all times we never see them on their phones and when they are standing around queuing people they don t talk about irrelevant things they try to keep that disney experience away from the outside world the unfortunate thing is despite all the negative reviews disneyland is getting is that nothing will change and it will continue to nosedive because the hundred of families that are having awful experiences won t change ticket sales so they won t change anything and will continue to raise prices and families will pay to get to experience the theory of disneyland i wrote this review in hopes that if people keep pointing out the awful experiences they are having then maybe these kids you are hiring will get some customer service skills instead of continuing to think that they can treat people however they choose because even if that family or person doesn t return others will get it together disneyland for the millions of other families that are going to waste their money time and family vacation time on coming there \n",
      "\n",
      "\n",
      "first off it s disneyland therefore it s amazing and gets stars if you are worried your kid won t remember it who cares disney is magical in the moment you ll get great pictures and let s be honest it s fun for mom and dad so we recently took our old daughter who loves mickey to disney and here are my tips app download the disneyland app it has the map the events ride wait times where s the nearest bathroom where are the characters mobile food ordering and your tickets plus a hundred other things tickets get the day ticket with max pass and photopass you ll want days at disneyland and day at disney adventure california you can do more days and do rides multiple times you could also do it in days and skip some things either way spend at least of your time on the disneyland side my review for dac will be under that link on this site with photopass you ll get great photos from the photographers they scan a barcode in the app and all the pictures show up shortly after don t worry about handing your phone to a stranger for that family pic get a pro to do it if you don t want this the photographer will take pics with your camera or phone plans plan out what you want to see and do we did the downtown and tomorrowland side one day the critter country and adventure land side the other day we hit toontown and fantasyland both days as these have the most kiddie rides characters events we also watched the parades both days and stayed late for the fireworks night events pick one major thing to do and make reservations ahead of time at least a month we choose the fantasmic dinner with water and light show lots of fireworks and mickey great music our kid was dancing and fascinated the whole time our friends chose a character dining breakfast breakfast with minnie has the most characters they got to meet lots of characters and get pictures both are expensive but tons of fun pictures note the times of characters in the park using the app they come and go some characters make short appearances and the lines for pictures get long quickly we basically stalked them as they came out of the cast room and ran to get in line first also your kid will be scared at first so it may take several tries to get that perfect go to a pin shop and ask for the my trip pin it s free use a sharpie to write their name and the date you can also buy collectors pins but we decided to wait until she s older they have other free pins too for birthdays and celebrations rides there s tons of rides your kid can ride more than any other theme park i recommend the classics like the teacups dumbo and the carousel there s also pinocchio winnie the pooh roger rabbit and many other slow rides with lots of characters singing as for you parents riding the adult rides this is where fastpass maxpass comes in use the app to reserve a time for you to ride a ride you and your spouse pick different rides at different times when you go ask the cast member for the baby swap and then your spouse can go right after you example mom picks indiana jones from to and dad picks splash mountain from to mom goes to ij at gets the baby swap pass for dad then rides the ride she comes out and takes baby so dad can ride ij then head over to splash mountain at dad gets baby swap rides the ride gets baby and then mom rides fyi you will get soaked on splash mountain including your shoes awesome on hot days but be ready bring flip flops maybe some dry underwear or be ready to sit in the sun and dry out the exciting rides take those pics during the exciting part so at the end you put the code in your photo app and bam you got the pic some rides get long lines like hours long nobody wants to pay a ticket to stand in line all dang day pony up the extra and skip the gear we brought diaper bags an umbrella stroller with detachable cup holders and a mini thermal lunch bag that sounds like a lot but it wasn t hubby carried a medium sized backpack style diaper bag with his sunscreen a few diapers wipes dry snacks you wants lots of snacks and feed them to your kid when waiting in line change of baby clothes and a dry shirt and flip flops for him and a backup battery for his phone everything is in ziploc bags to keep it dry and cheerio free his was only half full i carried a small messenger bag with the same a pencil pouch with crayons and mini color pages and used it as my purse as well with my wallet and a pouch of emergency gear bandaids chapstick hairties and girl gear i have a gb pockit stroller that collapses small and has a shade and small basket underneath plus a stroller cup holder thing i got at walmart with refillable water bottles we use the brita sport bottles because water fountain water tastes funny in the basket was baby sunscreen a thermal lunch bag with milk fruit uncrustable yogurt cheese for the kids lunch a cheap thin beach towel rolled up and a sheer car seat cover that doubled as a blanket or just sunshade bring hats and sunglasses for everyone for the tram and train you must collapse your stroller so we had all those things in the diaper bags until we got to the park parking many hotels offer free shuttles we used a parking garage for and used the tram there s also drop off pickup spots where you could use uber or a taxi meals there s tons of small stands with quick food like hotdogs and popcorn there s also lots of restaurants with burgers and wraps salads and some decent kid meals for a nice dinner we went to blue bayou several places have mobile ordering using the app great way to skip the lines and trust me you ve stood in enough lines everything is a bit pricier than normal so this is why i pack small snacks for mom and dad too we try to only buy lunch and maybe some ice cream in the park i recommend a big breakfast at the hotel then grab some fruit and yogurt to go safety write your name and phone number on your kids arm with a sharpie or pen if they get lost they ll take your kid to the town hall and they can call you you can park your stroller at one of many stroller parking places but take your bags with you nobody ever messed with our stroller just remember where you left it because there s hundreds of them some people put their name on their stroller with tape not a bad idea if you have a popular model you can also rent a stroller but they are hard plastic sunscreen costs a million dollars in the park so bring plenty put your kid and your husband in a bright color so you can see them in the crowd naps we let our kid nap in her stroller and this was our prime parents ride the rides time i ve heard of people going back to the hotel to nap rest and then coming back to the park to me that is too much effort but maybe if you stayed at one of the hotels on the souvenirs first off they re more expensive in the park we only bought a few things that couldn t be bought elsewhere there s lots of diy mouse ears on pinterest lots of the toys you can buy on amazon and cheaper you can buy glow sticks for cents at walmart or mouse glow sticks at dl your toddler doesn t know the difference we got a frame for one of those great pics and a little toy set that our kid played with everywhere hotel pool car so basically good planning led to an awesome trip great pictures and very few toddler tantrums next time i think we ll spend days instead of cause it s just that awesome \n",
      "\n",
      "\n",
      "Topic 1:\n",
      "disneyland hong kong place visit hk kids fun parade mickey\n",
      "\n",
      "\n",
      "i have been to hong kong disneyland with my family in last year i remember that the weather of starting day was bad however we went to hong kong disneyland in the second day fortunately the weather of the second day was better when we arrived there we saw amazing thing which was a few of people in hong kong disneyland we argued that it was because of the weather in this case we played games faster however compare to tokyo disneyland hong kong disneyland is smaller the equipment of hong kong disneyland also is fewer and the consumption between hong kong disneyland and tokyo disneyland is the same although hong kong disneyland is not as good as tokyo disneyland there is also attracting me to go it is because it is near to macau and has the same language recently i saw the news that is about extending hong kong disneyland therefore i will go there one more time \n",
      "\n",
      "\n",
      "we have been to disneyland in la two times and tokyo disneyland disney sea walking through the gates at hk disneyland felt like going back to la this is because the park is owned by disney and hk government we loved the quietness of hk disneyland in the morning most things in hk dont open until so to walk in with very few people in front of us was great toy storyland doesnt open until we purchased our tickets online from australia and printed them before we left you are sent an email with a link to an electronic version with qr codes and personalised characters but we used the printed version much easier and the website can be a little slow we also purchased the dining vouchers as well this entitled us to lunch or dinner a popcorn or a iceblock if you are there for two days like we were then just double the number of vouchers you purchase hk disneyland uses the old style fast pass system scan your ticket and get a printed fastpass we were staying at disney explorers lodge and received fast passes to certain rides from there as well the food in hk disneyland is aimed at the asian market although there are restaurants who serve burgers etc if you have fussy eaters then beware you may have limited choices but over all the food was disney quality we ate at the starliner restaurant at tomorrowlandwe loved space mountain with the star wars overlay sooo coool the is no pirates of the caribbean ride sad but the lion king show and mickeys philharmagic shows are great fununique to the hk disneyland is mystic manor an amazing trackless ride so fun we went on it three times the big grizzly mountain runaway mine cars is great fun the experience varies depending on where you are sitting we had front row amazing and last row still fun but a little rough also unique to hk disneyland is the iron man experience a ride simulator on a stark industries flyer through hong kong lots of funwhen you ride the jungle cruise remember to choose the english line or cantonese line as the skippers script is done in both they say there is no difference in the line waiting time we didnt really notice ityes hkl disneyland is smaller than la disneyland tokyo disneyland but two days allows you to see pretty much everything and not a break net speed we are a disney loving family and our girls were aged and when we attended the park the christmas decorations and the parade were greathk disneyland is on the mtr line just change at sunny bay station for the disneyland line you can use your octopus card to travel on the mtr there are shuttle buses that run from the disney hotels to the transport hub at disneyland and you can walk if you want to along the bay from the hotels it would be roughly minutes walk from the disneyland hotel along the bay there is also a ferry that runs from central to hk disneyland but the mtr train is the best option in my opinion especially as it has mickey shaped windows and disney theming inside the train carriages \n",
      "\n",
      "\n",
      "mtr sunny bay mtr disneyland resort line disneyland hong kong disneyland hong kong disneyland hong kong disneyland railroad main street usa x tomorrowland fast pass space mountain fast pass buzz lightyear astro blasters tokyo disneyland buzz lightyear space mountain fast pass space mountain fantasyland small world hong kong disneyland tokyo disneyland adventureland toy story land hong kong disneyland mystic manor mystic point hong kong disneyland mystic manor grizzly gulch fastival of the lion king lion king the many adventures of winnie the pooh fantasyland fast pass honey for pooh fast pass \n",
      "\n",
      "\n",
      "regardless how many times i visited disneyland it never gets old i first visited hong kong disneyland when it opened its doors years ago although i went alone that time i still remember having lots of fun after all hong kong disneyland is the closest one to malaysia and theres just something magical and fantasy like about disneyland that keeps luring people backhong kong disneyland isnt too big nor too small it is the perfect size to explore on foot and the entire park can be done in one day but ideally two days staying at one of the theme park resort hotels overnight is highly recommended to get the full disney experienceflights of fantasy parade is a must see it is hong kong disneylands special anniversary parade and no other disney theme parks around the whole have it all the popular disney characters are out in their marching band uniformsnavigating hong kong disneyland is easyas with all other disneylands throughout the world the park entrance takes us to main street usa it is where we watched the parade in the morning the fireworks at night and also where all the shops are located from there it branches off into the three smaller themed landsfantasyland where rides like the mad hatter tea cups and cinderella carousel are so slow and gentle they are suitable for those who do not come to disneyland for an adrenaline induced heart attackadventureland modelled after the lush remote jungles of asia as a resident of borneo this feels like home to mebetter not let taib come here later he chop the trees and build palm oil plantation all over the placetomorrowland a futuristic land where some of the most exhilarating theme park rides can be foundim gonna try to summarize my favourite hong kong disneyland attractions hereits a small world its a ride around the world on a boat most importantly it is inside an air conditioned building which makes it perfect on a hot day like this along the way hundreds of brightly costumed robot dolls in different cultural costumes of the world sings its a small world in their native languages the golden mickeys its a sing and dance stage performance show exclusive only to hong kong disneyland there are awards up for grabs like best hero or best romance just like in actual award shows a small snippet of the nominees in each of the well known disney movies are shown unlike in actual award shows no winners are actually announced in the end i remember watching the same show years ago it still is just as entertainingthe many adventures of winnie the pooh very similar to its a small world except its a ride through the hundred acre woods judging by the queues outside small kids seem to love this place to bits although i personally find nothing earth shattering about itfestival of the lion king definitely not to be missed its a musical that uses songs from the movie dance and special effects to re create an african savannah animated with lions elephants and giraffes tarzans treehouse we took a raft across the river to explore this attraction while waiting for the lion king show to start the walk through the treehouse tells the story of tarzan and jane for me the tree is worth climbing up only for the viewstich encounter by far the most hilarious show in disneyland when we read the description saying no two shows are alike i wondered how they were gonna accomplish it stitch appears on screen to actually talk and interact with the audience in real time complete with facial expressions and animation the show would have been bland if it werent for stitchs mischievous smart alec responsesspace mountain the ultimate thrill seekers ride of choice its a high speed space themed roller coaster ride set completely indoors with hard hitting music as soundtrack apparently it was so scary they had to put this warning notice outside personally i have sat through scarier rides so this was a walk in the park for medisney in the stars fireworks no matter how many times i watched this i feel like a wide eyed little boy everytime i watch the fireworks in disneyland something about the sheer magic of colourful lights exploding over the skies set to the soundtrack of disney movies never fail to send my heartstrings tugging i want to go back to disneyland againi guess disneyland does that to you it makes everyone feel like a kid living in a place where fairy tales and dreams come true \n",
      "\n",
      "\n",
      "Topic 2:\n",
      "disney park hong kong disneyland parks world hk visit florida\n",
      "\n",
      "\n",
      "so we ve returned from our trip to the usa and the west coast a trip that ended with a five day visit to disneyland in anaheimfor the benefit of those of you who have only ever made the journey to walt disney world near orlando is a trip to disneyland worth it or can you get much of the same experiences in central floridafirstly disneyland is made up of only two theme parks one of which disney california adventure had a troubled and frustrating gestation before finally getting itself on track only in recent years disney s keystone in california is disneyland itself the original park that took elements from existing american theme parks and pleasure gardens and perfectly fused them together into the definitive family entertainment destinationwalt disney world in florida was an effort to break free of the historic limitations of the california site and over the years has expanded to a total of four parks across enormous acreage the most recognisable park is magic kingdom and it is this park that is a homage to disneyland elements are shared between the parks but none are true replicas of one another gentle facsimiles persist but many seemingly familiar attractions have slight differences and many attractions are unique to one location or the otherdisneyland and magic kingdom are therefore closely related while california adventure shares some of its heritage with the content of disney s other florida offerings hollywood studios epcot and animal kingdomfrom a purely package holiday perspective wdw wins with a much larger size it s much more capable of sustaining a family vacation for a much longer visit the typical two weeks that british visitors are likely to book there are other benefits too multiple disney owned hotels on site restaurants aplenty water parks shopping entertainment and close by universal florida and seaworld too wdw is cleverly designed to act as the hub for all of your holiday needs and is increasingly with dining packages digital ticketing multiple pre bookable attractions and experiences a completely integrated disney experience from sun up to sun downdisneyland is a very different experience to its upstart younger sibling and this is where some very surprising elements reveal themselvesfor starters disneyland is small though they may look similar magic kingdom is quite a bit larger and cinderella s castle in florida is massive when compared to anaheim s original sleeping beauty castle the limited scale of disneyland was a necessity of the constraints of the original site and of walt being unable to afford more land when embarking on the project with finances tight disneyland was soon hemmed in by hotels restaurants and vacant lots purchased by speculative real estate developers over the years disneyland s designers have become adept at squeezing attractions into an increasingly full plot the result is a surprisingly intimate experience that wdw seeks to duplicate but because of its more generous size and despite using clever tricks with scale and perspective doesn t quite manage to replicate disneyland still has walt s influence around every corner and though planned and conceived by him wdw didn t even break ground until after walt s deathsecondly disneyland is much more of a local s park that s not to say that hundreds of thousands of foreign visitors or those from across much of the usa don t venture to anaheim it s just that the overwhelming majority of visitors are from the la and southern california conurbation and this lends the park a more casual vibe many californian s are day visitors or just there on short stays and the popularity of annual passes mean that many can drop in for an afternoon or evening visit almost any day of the week attendance levels can therefore fluctuate dramatically at times outside of peak demand particularly during mid week the parks can be remarkably quiet compared to florida walt disney world is becoming much more of a year round destination to the point where crowds are flattening out and periods that have historically benefitted from low attendances are starting to get squeezedthe next difference is in the time you may want to dedicate to visiting the parks disneyland resort that s disneyland and the neighbouring disney california adventure can be attempted at the right time of year in just two days one day for each park in some favourable circumstances a reasonable taster of both parks can even be managed in a single day this opens up disney as a vacation excursion destination something that can be added but need not dominate a busy schedule spent visiting los angeles san diego or other californian cities and landmarks general admission theme park tickets start with single day options and top out at five day passes remember to specify park hopper tickets if you wish to skip between both parks in a single day so disneyland works well as an addition to any trip that brings you to california rather than necessarily being the focus of a long vacation wdw is a destination that visitors commit multiple days to with one and two week visits increasingly popular and except for a few days at universal florida many people never leave the boundaries of the florida resort at allfinally there are attractions in california that you won t find in florida and some special takes on some familiar wdw favourites that are exclusive to anaheim here are some of your exclusivesindiana jones and the temple of the forbidden eye a high speed truck ride through a south american treasure templethe matterhorn bobsleds the world s first tubular steel rollercoaster that winds its way through the iconic matterhorn mountain that borders fantasylandfinding nemo submarine voyage the famous disney submarines given a pixar makeoverguardians of the galaxy mission breakout the extremely clever and uniquely re themed hollywood tower of terrorcars land the phenomenal multi million dollar recreation of radiator springs featuring three unique attractions centred on the popular characters from the cars films including the amazing radiator springs racersparadise pier and california screamin currently undergoing a reimagining as pixar pier and the incredicoaster themed on the incredibles just in time for the film s sequelgrizzly peak a water raft ride through a californian national parkmickey s toontown a mash up between the worlds of disney animation and who framed roger rabbitthe world of color a spectacular water fountain show held on the lake in california adventure and enhanced with pyrotechnics lasers and animated projectionsadded to these are some attractions that manage to beat their duplicateshaunted mansion from halloween thru christmas this attraction is exclusively redecorated to include special theming from a nightmare before christmas turning it into a unique attraction that makes florida theme park fans extremely jealouspirates of the caribbean this is the superior us version of the classic with better drops and better loading and unloading just don t look at the shanghai disneyland versionit s a small world the disneyland original features the iconic clock and the original world s fair outdoor beginning absent from the wdw editionso should you visit disneyland our opinion is yes just with some conditions if you are visiting california definitely try and add it to your list you ll just have to determine how much time you ll want to spend there we recommend between two and three days in low season and midweek if you re visiting in high season the two parks can get quite full and the only guarantee of seeing and riding everything may be to stretch a visit out to four or five days depending of course on just how disney you arethere s no dining plan at disneyland and the park dining is limited when compared to wdw but there are a few great restaurants inside the gates reserve using the disneyland app and some reasonable offerings nearbyif you re familiar with wdw you won t find magic bands or advance fast passes in california but there have been recent changes to introduce a little technological ticket management to disneyland for a per guest daily supplement guests can now link their park tickets to their disney account using the disneyland app benefits include an unlimited photo pass and fast pass reservations that won t require a visit to the attraction to get a timetying disney to a visit to universal studios in hollywood is not as practical as the florida equivalent as the parks are on opposite sides of la and the traffic on the freeway between the two destinations can be torturous another great theme park experience six flags magic mountain in valencia is even further away to the north of los angeles our advice should you wish to add universal and six flags to your itinerary use a hotel near to hollywood or universal city and stay a few nights there using that as your base before moving on to anaheimif you re looking for another theme park experience closer to disneyland you can visit knott s berry farm also in anaheim and just a few minutes away disney doesn t offer any water parks at disneyland but nearby knott s berry farm does have a reasonable offering in the shape of soak city and six flags has the excellent hurricane harbor both open seasonallyso for us disneyland is a gem yes inevitably there is a lot of duplication between california and florida but there s still plenty of unique experiences too despite the clamour from some disney fans that the company should replicate everything in both locations disney is clever enough to know that allowing each resort to have its share of exclusive attractions allows them to have a distinctive character it s this approach that makes a visit to either location such a different and worthwhile experiencefootnote my wife and i took our first holiday together to california disneyland was my first experience of a disney park california adventure was still the parking lot at the time despite having been to wdw lots of times since disneyland remains my favourite disney park after all they say that you never forget your first time \n",
      "\n",
      "\n",
      "i visited hk disney quite a while ago jan i was thoroughly disappointed but not enough to write a review however after reading so many positive reviews i felt compelled to write one myselfgood not crowded good layout wide streets clean new cheap compared to other disneys in every respect food merchandise tickets landscaping immaculate convenient to get to multiple languages for guestsbad size lack of attractions especially those that make disney so fun and have made disney so famous in america people cutting in lines people spitting people sleeping on benches and bathing in drinking fountains staff being too timid to do anything about obvious rule breakersokay i am from america and grew up near disney world in orlando florida i worked in guangzhou china for quite a while including the time of hk disneys opening therefore i was constantly getting news about the new disney because i grew up near disney world disneys defining characteristic to me is its size its huge let me list some facts so people can understanddisney world acres theme parks plus many others like water parks campgrounds outdoor parks etc resort hotels not including campgrounds holes of golf available employee training center large office complex huge area with employee storehk disney acres theme park resort hotelsdisney world in orlando is less than developed yet still boasts all of those things animal kingdom one park is acres which is still larger than the entire hk disney building area when you enter the disney property limits you drive for miles without seeing anything but trees and grass their size of the property is astounding the parks themselves are also huge with too many attractions to finish in one day especially if lines are long you can park in one place and travel from park to park by monorail from disneys website if you wanted to stay in all the guest rooms in all of the hotels and resorts currently open on walt disney world property at a rate of one per night it would take more than years hk disney is based mostly on magic kingdom one of the four theme parks in walt disney world yet it is less than half the size of magic kingdom magic kingdom has rides hk disney and some of those are from other parks such as animal kingdom worst of all the rides that are most popular at magic kingdom are not even in hk with space mountain being the notable exceptionfor quite some time before going there i was told hk disney is small i was prepared for small i was not prepared for microscopic its like a miniature magic kingdom the castle is feet tall wdws is feet tall over twice as tall main st is tiny when we first arrived we unknowingly walked from one end of the park to the other not understanding why we couldnt continue took about minutes it was only after looking at the map that we realized we had already reached the end of the parki do not agree with some of the other members on here that construction was great i thought many things looked quite cheap there were also a lot of things in rides that were downscaled quite a bit compared to wdw overall i felt they cut a lot of corners with the parkspace mountain is much smaller but might actually be better lion king was much different and also possibly a better show overalli think the worst yet best thing for me was the mainlanders i speak fluent mandarin and a little cantonese so i could understand what was going on the worst was the mainlanders pushing through lines as if there were no other people there they would spit bathe in the drinking fountains remove shirts and shoes and lounge on benches and sidewalks spit stare at peole like me who are obviously foreigners and make comments etc they couldnt figure out how to use the fastpass machines and caused all kinds of problems in lines everywhere they argued when they werent allowed to cut in front of the legitimate fastpass holders even though they themselves had no fastpass the undertrained staff was too scared to enforce rules for the most partthe best was the hk residents enforcing the rules themselves at almost every ride while waiting an argument would break out between a hk resident and a mainlander because of something the latter did it was great to watch and made waiting in line quite funi think disney did a horrible job planning this park i think disney was not prepared for the chinese market and customers and not at all familiar enough with them from the beginning i think the park misrepresents disney to those that know nothing of its other parks there have been countless news stories of administrative problems as well disney built its smallest park in one of the most densely populated areas in the world next to the most populous country in the world i just find it amazing that a company as big as this could make so many mistakes to me it all comes down to poor planning and not knowing enough about the local market too bad \n",
      "\n",
      "\n",
      "my family has been going to disney parks since my daughter was and she is now this year i have been to every disney park except for disney paris so i can probably give a bad review to the hk disneyland however i wont because of my experiences and my expectations before going there i have heard many reviews about how small the park was and how long the lines were and were told by friends and family in hk not to go and instead go to ocean park but i also suspected that many of these people have not yet experienced the hk disneyland yet on the day we went to hk disneyland the weather was no different than any of the other days we were in hk during the week hot and humid based on my research i had expected the park to be much more smaller than all the other disney parks and probably very crowded with that in mind we went to check out if it was a true disney park and i feel it passed the test although much smaller disney paid attention to make sure the layout was true to the ones in america in fact i think some of the shows were better such as the parade lion king show and the mickey awards show we bought some souvenirs pins and found the prices to be cheaper than that of florida and california as a chinese american who moved to the us very young and grew up there i found it to be a blast to hear mickey and minnie speak cantonese while there are problems with mainlanders behavior there were sufficient cast members to handle situations one such example was when we were waiting in line for the pooh ride and some people tried to cut in line a cast member immediately caught them and force them out of the line as a comparison we went to ocean park earlier in the week and although bigger in size the people were ruder and lines were longer ocean park truly did not have enough staff to handle the crowd my final thoughts are if you are a true disney fan and have been to other disney parks be open minded and realize that although disney may have made some miscalculations you are going to hk disneyland to experience the magic of disney long lines and bad weather are things to expect and in most cases are not controllable for first timers to disney parks dont fret and get discouraged if you are able to follow up to the hk disneyland with the japan disney parks paris disney park then to disneyland in california and the ultimate treasure disney world in florida you will be amazed and it will only get better \n",
      "\n",
      "\n",
      "have visited disney parks in california and florida and recently had the opportunity to visit their park in hong kong getting here was very easy the mtr provides disney park with its own line you can get to the park from pretty much anywhere the mtr services hong kong we made our visit on a tuesday may arrived there just minutes before the park opened pleasantly surprised with the small crowd the park entrance is very wide and clean landscaping is traditional disney as you pass the entrance the main train station and walk into main street usa you will understand why i chose the title its a small world after all had i done some research prior to coming i would have not been surprised by how small this park really is its nearly one fifth the size of magic kingdom in florida aside from the small scale the park is very much disney tarzans tree house was closed for maintenance this has a big impact considering the few attractions in the park for the roller coaster enthusiasts i recommend the big grizzly mountain runaway mine cars i wont give it away just suffice it to say there are surprising maneuvers over all a fun park despite its small size you can easily cover the entire park at a leisurely walk in less than hrs just my opinion expect hefty prices for any and all goods you purchase in the park most park employees speak english enough to communicate with you we were pleased to find most employees had left the honk kong attitude at the gate get a bench early in front of the castle for a good view of the fireworks park closes promptly after the pyrotechnics there are plenty of trains to take you back to your destination so no need to worry overall a pleasant experience but the size of the park was disappointing \n",
      "\n",
      "\n",
      "Topic 3:\n",
      "park disneyland pass hong kong fast theme visit line california\n",
      "\n",
      "\n",
      "went with family to hk disneyland to celebrate my yo birthday we wanted to avoid the crowds so we went on this vacation for days monday thru friday and stayed at the hkdl hotel see other review of hotel we caught the flight out of manila and by am we were checked in and on our way to the disney park park opens at spent days enjoying the park those with kids would realize how they can get very whiny and how they can really slow you down the park was very manageable none of that overwhelming feeling you get from a big theme park wait time was mins at the longest and that was with winnie the pooh and dumbo this should give you a good idea of the target audience of this theme park we just had to ride the carousel and winnie the pooh several times the supposedly most exciting ride in this park space mountain was enjoyed enormously by the yo so you can understand why most adults and thrill seekers abhor hkdl the food throughout the park and the hotel are very monotonous they are all basically the same but depending on where you buy them can be affordable or expensive you see the same dimsums everywhere but if you have them at the hkdl hotel its very expensive theyre cheaper at the park my daughter missed candy floss though its a wonder they dont have them at the park there was also only ice cream station throughout the park wonder why there were no hotdog stands or american street food this gave my daughter the impression that there are no hotdogs in hkone downside to going on weekdays is that you dont get to see much of the princesses for picture taking aside from the parade we only saw cinderella by the carousel we did see mickey hes everywhere minnie buzz stitch merlin goofy pluto winnie and couple others my daughter wanted to see donald and daisy but we didnt see them throughout the day stay i guess if theres not a lot of people not worth to bring out all of the charactersremember to check out the shows golden mickey philharmagic stitch and the lion king show the park is very clean and well maintained comfort rooms are clean air conditioned no wait most amenities are available you need to keep in mind though that most visitors to the park are tourists from india and mainland china and im sorry to say though that courteous behavior is sometimes forgotten and i have had to shield my child several times from elbowing adults this is very different from us themeparks as americans seem to be more courteous and understanding of people with children in tow the park also has its own mtr station which is one ride away from the tung chung citigate outlet mall so you now know what kept me occupied aside from the parkwe spent days at the park went to tsim sha tsui for a day and spent another day enjoying the cable car and the outlet malls at tung chung overall very manageable park very good for my daughters first trip abroad nothing exhausting enjoyable at your own pace \n",
      "\n",
      "\n",
      "to celebrate my son s birthday we planned a one week hongkong trip which included a visit to disneyland park ocean park and science museum see separate reviews i purchased a platinum magic access card for my son and one of his priveleges is free visit to the park any day of the year for the rest of us we bought the day ticket which allows us to visit the park at any days within a one week period we made it a point to start and end our hongkong trip with a disney experience so we checked in at disney s hollywood hotel for our first nights l hotel island south near ocean park for nights then at disneyland hotel for our last night see separate reviews for each hotel we visited disneyland park on our and day in hongkong our visit was in august you are visiting summertime like us be prepared for a really hot day you can discreetly bring a small bottle of water inside your bag through the park gate the guards are not that strict this will not suffice for the whole day though and you will need to buy drinks later though we made sure to visit the park on a weekday and not saturday nor sunday there were still a lot of people thus the long queues having motion sickness we are not really that into rides so we just walked around looking at shops taking photos and eating when we feel like it we did the train ride but it was not that special my son liked the astroblasters shooting enemies of buzz lightyear with a laser gun while riding a boat and it s a small world a boat ride that allows you to view an enormous display of dolls from all over the world be sure to watch both the lion king and the golden mickeys because they are wonderful amazing shows that will be enjoyed by people of all ages the caravan show at grizzly gulch is also very good and it included participation of kids in the audiencewhich my son enjoyed shows have several schedules during the day so don t fail to look at schedule of shows together with the mapalso take note of the schedule and route of the parade so you can decide where you want to watch and be in that location early to take your desired spot the parade passes at a relaxed pace so you have ample time to take photos of the characters this should not be missed if you have children with youwe watched the fireworks at around in front of the castle during our first disneyland park visit day and it was amazing though watching the fireworks from our hollywood hotel park view room the night before already was a very good experience watching it right infront of the castle was much better stillbe there early so you can sit at one of the few benches in front of the castleexploring the whole disneyland park cannot be accomplished in one day of continuous walking if you have children and senior citizens with you checking in at one of the disneyland resort hotels gives the advantage of being able to rest at the hotel when you get tired then going back to the park later in the day this is easy because free shuttle buses regularly go around the resort with stops at the hotels and the park and after a very tiring day in the park it s comforting to have the shuttle bus waiting to bring you to the hotel though it is a long walk going out of the park you know you will be in your room after just a few minutes of bus ride \n",
      "\n",
      "\n",
      "my young family and i really loved disneyland the staff there are all so kind and friendly they all seemed to go out of their way to assist us with our many questions the rides and experiences were times better than any park in australia id like to make a special note to thank the staff my year old son was injured in the park on april when he fell over his own feet walking through the crowded park within seconds of the fall a cleaner used his radio to call for medical assistance minutes later a nurse and first aid officers were on scene and then only a minute later ambulance paramedics were on scene my son had to be taken to hospital but the care the staff from disneyland offered was first class thank youwe had a day park hopper we came to the park for days and loved every moment there was about people in the park at one time which makes it very very crowded you can line up for some rides for hours i highly recommend the fast passes if you can get themthe park does offer wifi but the wifi drops out all the time there are lots and lots of black spots for a park that encourages its guests to use their cellphone app especially as the park attracts so many international guests that dont have regular cellphone service youd think their wifi would have been betterthere is loads of places to eat at disneyland but they charge an absolute fortune we ate outside of the park having a big breakfast and dinner therefore not having to spend a fortune inside the park for lunch we also took out own drinks in so we didnt have to pay per drinki still give disneyland a stars i loved every moment and i cant wait to come back again one day when my kids are a bit older \n",
      "\n",
      "\n",
      "we had our first real family vacation in disneyland and it was amazing things to expect long entrance lines some people find this frustrating but the lines do move fairly quickly and they are checking everyone for your own safety we recommend hats sunscreen and water bottles during your time both in line and in the park they dont allow selfie sticks we lost because we had to surrender ours they did allow go pro sticks though which didnt seem fair considering they are virtually the same thing long ride lines get the max pass on your phone for fast passes it makes all the difference for those rides in high demand you can be in line for over an hour during peak times also find out which are the rides you want to hit that are most in demand and secure a fast pass for your magic morning if you get one with your park pass or hotel stay saves you time for sure crowds it sort of goes without saying but disney sees over visitors per day considering the amount of people you can move freely through the park and its incredibly clean its the lines when you notice it the most or during special events catching characters for pictures throughout the park is quite hit and miss even knowing where they tend to appear isnt going to guarantee you find them or that you are in line during their minute window if you are trying to catch rides you dont have a lot of time to chase down alice or mickey for pics unless you are around the park for over a week and can take your time you will find some of course but getting all your favourites takes time and a bit of stalking lol get tickets for shows like fantasmic first thing in the morning they sell out fast come evening get in place to watch about minutes early otherwise you will be standing throughout after a long day of walking the park if you have food allergies speak to the park before your trip it will save you a ton of time if you know where you can eat and where it is in advance you can then plan your travel through the park allowing yourself to be near to your favourite food venue during lunch etc you can find food on the run but it does take time and searching which you dont want to waste when your time in the park is limited if you have never been to a disney park it is unlike any other theme park experience it truly is magical i wasnt sold before we went but it really is amazing crowds and lines asidethings to note before you book check for special event hours as we are not locals and have never been to disney our vacation time was cut drastically short due to the fact no one told us about the reduced park hours we assumed the halloween or christmas stuff was part of the general park experience and had no idea we would lose half our days to people coming in for a party that we could not attend it really took away from our experience and caused us to miss out on things after awaiting this special trip for years it was the biggest disappointment we experienced i cannot emphasize enough how much this impacted our holiday consider the weather during your travel time we are canadian and not accustomed to extreme heat so going in october was perfect we had beautiful sunny skies but we were also able to enjoy the park without running for air conditioning every ten minutes the locals told us that the summer months are far more extreme so if you are unacustomed to heat plan to go during their fall season to have the best weather experience the experience is expensive if you intend to purchase a lot of souveniers take part in pin trading look it upits so much fun or eat in park be prepared to spend the pins for pin trading range from for singles to upwards of for packs soda pop or water is about each at the vendors so that gives you an idea of what the food prices are like the food is great in some areas not so fantastic in others but it is all costly read reviews and blogs to learn about rides food tickets helpful tips and more the more you know planning your trip and entering the park the better your experience will be there is so much to see and do that you want to ensure you dont miss something because you simply didnt know about it they have stroller parking at most rides and you can get a parent swap pass if one parent needs to stay with the littles while the older children go on with the other parent it allows the waiting parent to fast track the line up if they wish to try the ride when they return everyone can experience the magic of disney dont be discouraged if you get motion sick unfortunately i cant stomach anything but the ride through story rides but i had an amazing time anyway the sights are wonderful and the people are greatwe had such a good time i just wish we had gotten our full days so we could have our full experience our disappointment at the reduced hours and letting the special event ticket holders flood into the park a half hour before the event was the only thing holding us back from a full five star rating we will return again one day as disneyland has a special place in our hearts \n",
      "\n",
      "\n",
      "Topic 4:\n",
      "time ride rides like just fast disneyland people queue line\n",
      "\n",
      "\n",
      "i went to the hongkong disneyland on the of february with my daughter this was my first visit to any disney park and we were both really excited overall the park was beautiful and many a times i was transported to the fairy tale land of my dreamsit may make sense to get a map before hand and decide which rides and places you want to visit beforehand just to chalk out a basic idea of where to go and how best to utilise your time though the descriptions were pathetic they have not been able to give you the sense of each item properly in fact we would have missed a few if we had gone just by the descriptions and not by our gut feeling i still have a feeling i did miss out on good things as we were short of time i went with a tour company and they did not take us early pls do not do the evening tour only you would miss out on so much if you are spending your moneydo it well and enjoy from morning to eveningi would say one thing the shows were really great but the rides were strictly ok most of them did not live up to our expectationsi mean what is a roller coaster ride if it does not make the figure eight and make you go to great heights and drop you down at dizzying speeds i am a coward of the first order and i was terrified at the thought of the ride but even i could do it without any problem so in short if your courage and adventure levels are about medium or belowthe rides are good but if you are seeking the thrill you would be left feeling a loss chances are you would have had better rides in places like essel world and imagica in mumbai however their firework show which was in the evening was par excellence i have never seen something so beautiful this was being done as this was their anniversary do not know how long they would continuewe took the train at the entrance and got off at the first stopthe fantasyland and the name says it allit was a fantasy what a pleasure to see all your favourite cartoon characters all around you the castlesthe overall ambiance stopped us in mid sentence it took us some time to catch our breathes and land on earth and decide to go on we started with the mickey philamagicit was superb both of us loved it the winnie the pooh adventure too was really fun with all the special effects this is a kind of a ride which unfolds a story and gives your d experience its a small wonder again was a similar thinganother not to miss ride show mickey and the wondrous book had a long queue we waited for over an hour to see it and once it started we felt all our wait was worth it however the allmighty had other plans for us barely minutes into the riveting show there was some technical glitch and the show was cancelled here i was stunned at the apathy level of the employees manning the show there was not a word of apology and utter crash attitude in handling all queries about the showthey seriously need a course in customer service we were told cursorily and rather rudely that the show was cancelled and there may be no repeat the last show was still due when people come from a distance and are so eager to see something but cannot and pay money for something a little politeness goes a long way in making you feel better when we tried to come back again for the show in a little while we were not allowed entry saying that the required number of people were already waiting we tried to explain that we had been waiting for more than an hour and the show started and stoppedbut it fell on deaf ears to cut a long story shortdo see this show the timings would be written on the board outside and plan accordingly right in front of this place identified as as per the map i have with meat pm you have a parade of all the characters in their costume riding various decorated vehiclesit is awesome the fairy tale garden was okwe wasted a lot of time here as this was the first thing we were seeing a lot of time went taking pictures with tinkerbell character but then these are memoriesthe rides in this area were very kiddish we did not take most of them other than the mad hatter tea cupsthis was goodbefore i do to the next attractions let me tell you about the restaurants there are quite a few options but we did not have time to sit and eat at a luxury place as we wanted to enjoy the park and just fill our stomachs the main street usa has places for sandwiches and other cartoon shapped waffles we grabbed our buggers in tomorrow land how boring but then that was fast you have shops all over the place merchandise in the shops here were very expensiveyou may get better bargains outside in local shops markets but yes there could be items that you get only here its an individual callthe next place we went was tomorrowland our most coveted ride space mountain was closed for maintenance the orbitron ride was sillywish we had given this ride a miss the autopia was fun for my daughter a long queue to drive an electric car on a designated patha must thrill for an underage teen dying to get her hands on daddys car at the earliest but being prevented due to age restrictions so if you anyways drive you can give it a miss but if you have a child pls sit in the passengers seat and enjoy the happiness on your childs face other places here are not even worth writing aboutwe enjoyed the mainstreet usa as we got to see a lot of the park people in the cartoon gear sauntering up and down and you can pose with the characters the place was throbbing with energy art of animation did not appeal to us and after spending some time there we came back we spent some time in animation academy it was fun learning to draw goofy with certain easy strokesour next stop was adventure land and by then it had become dark the ride we had wanted to take had closed by then and just because we wanted to do something in this part as well we went to the festival of lion king i only went as my daughter insisted just about three months back we had seen the broadway musical of lionking in london and i was convinced this would just be a waste of time after that how wrong i was its one of the best shows that i have seen in that half an hour they performed and used props and special effects which made it worth the while to compare it to a broadway show it was mindblowing and the lead singerwhat a god gifted voice she had you must see this if you go there worth every secondour next stop was grizzly gilch the runaway mine car was the ride we took it was good but did not meet our level of expectation maybe i was wrong to think of this as a roller coasterbut if you can let go of expectationsyou can enjoy this ride this was the best ride in the park the geyser gulch was a way to get me wet by my naughty teen i narrowly escaped with most parts drythe next place was toy story the parachute drop was good the rc racer had my stomach lurching not because of fright but because of the direction of movement so if you have a weak stomach or have just eaten you may wait a while before going on this one i am sure my lunch would have on someone ahead of me it it had not got digested so thoroughlyour last place was the mysctic point we only went there as we had some time in our hand before the firework show i thank all my lucky stars for that the ride inside the manor was enough to scare the living lights out of you at some point of time or the other do it and you would thank me for it i would not really like to spoil the surprisewe walked back to to the sleeping beauty castle to see the firework show at pm there is no need to rush back to get the front seatsthe show is up there on the sky so even if you are sitting at the back you can easily see it the castle looked ethereal and i was transported back to my childhood we were lucky that it was a clear night and there was no rain during the show was told by my friends that their show was interrupted by the rains like i have mentioned before it was really spectacularoverall it was a good experience it would have been great if the rides too were nice but if you are going for the first time it is worth your while to visit it \n",
      "\n",
      "\n",
      "it s my time there in years this time round we found that some of the ride didn t seem as good as before as they may have made some alterations example that it s a small world ride used to keep repeating the song the last time but this time it s just played once combined with the music the other pooh ride used to have a lot of pretty panels each time you turn into an area but now it seems the amount of panels has lessen and the ride shorten even the night parade cars are less gorgeous as the time we saw it but then we also discovered other rides we haven t been able to ride on the first time we went the new iron man experience was quite awesome there s also an iron man virtual reality game for my yr old son at the store in the tomorrowland which is quite fun while his parents went solo and used the fast passes for the main attractions as for the other ride we tried as single rider while our son slept it s the toy soldier parachute drop it s not for young kids but teens shld be able to withstand the excitement and not break into tears also we think the mickey s philharmagic at fantasyland is pretty awesome but then my son was a bit scare of it maybe due to the loud noise inside so really have to consider if bringing very young kids there the only one ride that my son loves is the slinky dog spin at toy story land as for the other ride that his parents enjoyed it s the mystic manor as usual it s not for very young kids as it s quite dark in there and can be scary for them my son is pretty cool with the dumbo ride and obitron which is pretty much the same type of ride as for food we think the best food court is at fantasyland and also mystic point it s good to go during weekdays as it s less crowded and if there in summer do of the outdoor rides u wish to try before going indoors for the rest till later in the afternoon this works really well for us as we try the dumbo and obitron ride first before going indoors for other rides like pooh ride mickey s philarmagic it s a small world ironman and hyperspace mountain till later in the day when it s not so hot did we go to toy story area for the other rides there utilize the fast passes and single rider options when you re there to save some time in the park \n",
      "\n",
      "\n",
      "it was the time going to disneyland for me and my sister the most convenient way to reach disneyland is via mtr to disneyland resort line the train to disneyland mtr has windows shaped of mickey mouse and the interior has mickey mouse shaped hand rails there are also disney decorations and mini statues of disney character and the seats are cushioned the who train is disney fied after alight from the train you will see the train station too is different from other mtr stations before entering disneyland you will have to walk an un sheltered distance to the entrance along the way you will see a gigantic black fountain of mickey and friends and ticket booths bags will be checked before entering do grab a copy of the map before entering the theme park disneyland was divided into portions main street usa fantasyland adventureland tomorrowland grizzly gulch mystic point and toy story land at the main street usa displays beautiful architectures and building such as fire department train station and emporium over there you can rent trolleys and wheelchairs you can also go the emporium there to get the disney merchandise you can get merchandise from t shirts key chains to kitchen utensils and even pasta you can also take picture with mickey in his tux and minnie in the white polka dot red dress do check out the art of animation building which showcase the drawings of different disney characters and the magic behind creating motion pictures if you find queuing at the restaurant for food is too time consuming you can try market house bakery which the pastries are great and there are varies of affordable food and drinks to choose fromwalk out of the main street you will be able to see the disneyland castle the fireworks will be held at the castle and the area in front of the castle is the located to view the fireworks at pm do check out the fireworks timing with the staff as it may varies at different day after walking out of the main street and turn to the right side you will reach tomorrowland where you will see the futuristic and space theme rides restaurants shops and decorations do check out the mickey mouse minnie mouse and lotso ice cream as most of the rides are filled with people queuing i would recommend space mountain stitch encounter and buzz lightyear astro blasters do not eat too much if you are taking the space mountain ride as it is a dizzy roller coaster ride while queuing for the famous ride in the area you will spot vending machine that people can buy fast forward tickets to avoid the queue the queue for famous rides may take longer than queue due to the people buying fast forward tickets which i dont think is fair especially when there is huge crowd queuing do watch out for pushy china tourists who jump queue take care of your belonging as most of the china tourist would just jump queue thinking that you do not see themat pm everyday subjected to weather condition there will be flights of fantasy parade between toworrowland and fantasyland it is a must watch you will see many disney character comes together to parade in music dance and decorated flower cars there will also be many people taking pictures of them so it is quite chaoticat the fantasyland there is a its a small world ride back of the fantasyland the ride is a boat ride and shows different nationality singing the its a small world theme at the fantasyland there is a winnie the pooh water ride carousal film mickeys philharmagic highly recommended over there you can also queue to take pictures with mickey minnie goofy pluto winnie the pooh and etc the royal banquet hall a restaurant is a must go if you like disney princesses it indeed live up to its name the shops there sells winnie the pooh and friends and disney princesses merchandisesbeside the fantasyland is adventureland the adventureland is of the africa and jungle theme over there you can take jungle river cruise or watch festival of the lion king or take a raft to tarzan treehouse as you walk up the tarzan treehouse it explains to you the story of tarzan after visiting the treehouse take the raft back to get to the next new themeswalking away from adventureland is the grizzly gulch its theme is inspired by grizzly peak there is only one ride an outdoor roller coaster ride big grizzly mountain runaway mine cars beside grizzly gulch is mystic point which is based on home of lord henry mystic and his monkey albert mystic manor is the only ride in mystic point and is one of the best rides in disneyland as for toy story land there are rides such as slinky dog spin rc racer and toy soldiers parachute drop this place has all the toys up sized colourful and very toy story land do check out the gift shop as it sells merchandises that may not be found that the emporium at the main streetoverall this disneyland did live up to it name despite the heat overwhelming crowd long queues pushy china tourists and irritating kids it also bring back childhood memories of disney at the end of the day the fireworks paid off all the sufferings i had during queuing for rides the firework brings about disney magic and gives a romantic feel i will be back \n",
      "\n",
      "\n",
      "went here with my family for my birthday got a whole day pass from our travel agent so after coming down from the bus it was pretty much smooth sailing going in to the amusement park there were a lot of people but not overly crowded since we went on a weekday as with all amusement parks expect a lot of walking strollers and wheel chairs are available for rent at the fire station at the start of main street the rides since we had a year old and year old with us we could not go on all the rides due to height restrictions but we were able to ride the winnie the pooh autopia buzz lightyear mystic mansion jungle river cruise tea cups got to watch the golden mickeys show unfortunately it was in chinese so the kids kinda didnt enjoy it as much the waiting time wasnt that bad the worst was autopia at mins waiting but my son loves cars and it was his chance to drive his own car other rides only took to mins waiting timethe rides the kids could not go on was space mountain the rc racer parachute drop and grizzly gulch roller coaster i felt the rides were too short as well im not sure if its just me but i felt that the rides in florida were longer by a few minutes so after the ride i always felt like is that it its over but if you feel the need to go again you can always queue up as long as the wait time isnt long the best for me was mystic mountain just like being in a disney movie what i noticed is you ride around in carriages carried by robots no joke i noticed that there were no tracks on the ground and carriages zip around in the mansion moving you around in perfect timing and unison like a technological ballet during the ride truly amazingpark size ive been to disneyland florida and i have to say when it comes to disneyland size does not matter actually it was better smaller because you walked less and had more time going around the park not to mention the queueing and eating which will eat up your time as well we were on the move literally from the time the park opened till it closed and still day was not enough for us there was a lot of shade and seating too compared to the ones in floridafood its expensive as expected but not too bad its a good idea to bring your own water with you since it too can be expensive inside the park there are water fountains around the park so you could refill your bottles but since we had kids i did not want to risk drinking from the water fountains good sized bottles would be enough my daughter is crazy about princesses so the best place to eat would be the royal banquet hall just like eating in a castle ballroom also the best choices since you can get japanese american steaks and burgers and asian cuisine in this one restaurant all the restaurants have their own theme and touch the snacks available outside was pretty good as well although the turkey legs were smaller than the ones being served in florida but was priced pretty much the same so i decided not to buy the parade the parade is only at pm so make sure not to miss it also be strategic where you stay along the parade route the parade starts off from space mountain and makes a first stop near the castle the parade is long as it takes up the the street from the castle to space mountain they do a little presentation and ask the kids to participate unfortunately the lilo and stitch float was the one that stopped in front of us so make sure to ask the park staff for help if your kid has a preference so my wife and daughter had to make a dash for main street following the parade where they made a second stop and she was able to watch the princess float again and participate fireworks and closing time around an hour before closing they already closed the attractions behind the castle so to move all the guests to the front of the castle to watch the fireworks display since the fireworks do fire really close the castle it has to be clear from people you can still grab a quick bite from the maxims restaurant main street corner cafe and tomorrow land after the show wait for the crowd to move out it shouldnt take more than minutes they you can stroll out rather leisurely the crowd well it does get bad at times for some reason queueing brings about the bad in people here in asia not making any assumptions just my observation and it was not a matter of race either we had some bad experiences with a russian as well as a chinese citizen i guess people in the western hemisphere are more inclined to queue properly but just let it roll off your shoulders because its not worth getting worked up and ruining your experience not to mention your kids experience the staff is on hand to put them in their proper place just call their attention to the matter the overhead announcements also make sure to tell people to to cut the line and to leave enough space between each other for better ventilationword of advice dont feed the birds they are overly friendly and it can be cute but avian flu is taken very seriously here in hong kong even from the airport you are advised not to come into contact with birds so dont feed the birds or else you will get swamped by them and possibly catch something not to mention invoke the ire of the park staff \n",
      "\n",
      "\n"
     ]
    }
   ],
   "source": [
    "print(\"\\n\\nLSI Topics \\n\\n\")\n",
    "display_topics(lsi_H, lsi_W, tf_feature_names, documents, no_top_words, no_top_documents)"
   ]
  },
  {
   "attachments": {},
   "cell_type": "markdown",
   "metadata": {},
   "source": [
    "| --- | Topic 1 | Topic 2 | Topic 3 | Topic 4 | Topic 5 |\n",
    "| --- | --- | --- | --- | --- | --- |\n",
    "| NMF | park rides time ride disneyland day food long went pass | kong hong disneyland visit visited smaller paris tokyo anaheim visiting | place kids visit enjoy disneyland love family fun parade nice | disney park world parks small smaller hk like florida land | great day fun rides family lots kids spend shows spent |\n",
    "| LDA | guardians springs complain fault galaxy cake radiator miles racers soaring | park disney disneyland day rides time great food hong kong | rides disneyland ride time day place parade disney fireworks kids | rides disneyland ride time day place parade disney fireworks kids | indiana jones universal studios pushing singapore frontierland elsa monorail orleans |\n",
    "| SVD | park disney disneyland day rides time ride kids just food | disneyland hong kong place visit hk kids fun parade mickey | disney park hong kong disneyland parks world hk visit florida | park disneyland pass hong kong fast theme visit line california | time ride rides like just fast disneyland people queue line |\n",
    "\n",
    "Topic 4 is not very coherent\n"
   ]
  },
  {
   "attachments": {},
   "cell_type": "markdown",
   "metadata": {},
   "source": [
    "Based on manual observation, using 5 topics is not ideal. There is too much overlapping. In particular, the words 'Hong Kong' and 'rides' were in more than one topic. Therefore the number of topics will be cut down to 3"
   ]
  },
  {
   "attachments": {},
   "cell_type": "markdown",
   "metadata": {},
   "source": [
    "# Using 3 topics"
   ]
  },
  {
   "cell_type": "code",
   "execution_count": 38,
   "metadata": {},
   "outputs": [],
   "source": [
    "no_topics = 3"
   ]
  },
  {
   "cell_type": "markdown",
   "metadata": {},
   "source": [
    "#### Topic Modelling with NMF"
   ]
  },
  {
   "cell_type": "code",
   "execution_count": 39,
   "metadata": {},
   "outputs": [
    {
     "name": "stderr",
     "output_type": "stream",
     "text": [
      "c:\\Users\\lyndo\\anaconda3\\envs\\lys_env\\lib\\site-packages\\sklearn\\decomposition\\_nmf.py:1477: FutureWarning: `alpha` was deprecated in version 1.0 and will be removed in 1.2. Use `alpha_W` and `alpha_H` instead\n",
      "  warnings.warn(\n"
     ]
    },
    {
     "name": "stdout",
     "output_type": "stream",
     "text": [
      "NMF Topics \n",
      "\n",
      "\n",
      "Topic 0:\n",
      "park disney day rides time ride great disneyland food good\n",
      "\n",
      "\n",
      "we had our first real family vacation in disneyland and it was amazing things to expect long entrance lines some people find this frustrating but the lines do move fairly quickly and they are checking everyone for your own safety we recommend hats sunscreen and water bottles during your time both in line and in the park they dont allow selfie sticks we lost because we had to surrender ours they did allow go pro sticks though which didnt seem fair considering they are virtually the same thing long ride lines get the max pass on your phone for fast passes it makes all the difference for those rides in high demand you can be in line for over an hour during peak times also find out which are the rides you want to hit that are most in demand and secure a fast pass for your magic morning if you get one with your park pass or hotel stay saves you time for sure crowds it sort of goes without saying but disney sees over visitors per day considering the amount of people you can move freely through the park and its incredibly clean its the lines when you notice it the most or during special events catching characters for pictures throughout the park is quite hit and miss even knowing where they tend to appear isnt going to guarantee you find them or that you are in line during their minute window if you are trying to catch rides you dont have a lot of time to chase down alice or mickey for pics unless you are around the park for over a week and can take your time you will find some of course but getting all your favourites takes time and a bit of stalking lol get tickets for shows like fantasmic first thing in the morning they sell out fast come evening get in place to watch about minutes early otherwise you will be standing throughout after a long day of walking the park if you have food allergies speak to the park before your trip it will save you a ton of time if you know where you can eat and where it is in advance you can then plan your travel through the park allowing yourself to be near to your favourite food venue during lunch etc you can find food on the run but it does take time and searching which you dont want to waste when your time in the park is limited if you have never been to a disney park it is unlike any other theme park experience it truly is magical i wasnt sold before we went but it really is amazing crowds and lines asidethings to note before you book check for special event hours as we are not locals and have never been to disney our vacation time was cut drastically short due to the fact no one told us about the reduced park hours we assumed the halloween or christmas stuff was part of the general park experience and had no idea we would lose half our days to people coming in for a party that we could not attend it really took away from our experience and caused us to miss out on things after awaiting this special trip for years it was the biggest disappointment we experienced i cannot emphasize enough how much this impacted our holiday consider the weather during your travel time we are canadian and not accustomed to extreme heat so going in october was perfect we had beautiful sunny skies but we were also able to enjoy the park without running for air conditioning every ten minutes the locals told us that the summer months are far more extreme so if you are unacustomed to heat plan to go during their fall season to have the best weather experience the experience is expensive if you intend to purchase a lot of souveniers take part in pin trading look it upits so much fun or eat in park be prepared to spend the pins for pin trading range from for singles to upwards of for packs soda pop or water is about each at the vendors so that gives you an idea of what the food prices are like the food is great in some areas not so fantastic in others but it is all costly read reviews and blogs to learn about rides food tickets helpful tips and more the more you know planning your trip and entering the park the better your experience will be there is so much to see and do that you want to ensure you dont miss something because you simply didnt know about it they have stroller parking at most rides and you can get a parent swap pass if one parent needs to stay with the littles while the older children go on with the other parent it allows the waiting parent to fast track the line up if they wish to try the ride when they return everyone can experience the magic of disney dont be discouraged if you get motion sick unfortunately i cant stomach anything but the ride through story rides but i had an amazing time anyway the sights are wonderful and the people are greatwe had such a good time i just wish we had gotten our full days so we could have our full experience our disappointment at the reduced hours and letting the special event ticket holders flood into the park a half hour before the event was the only thing holding us back from a full five star rating we will return again one day as disneyland has a special place in our hearts \n",
      "\n",
      "\n",
      "having been to disney world magic kingdom in florida and had a not so happy time we decided to give disneyland park a shot the florida trip was in the middle of the summer so it may not have been the best time to go we went to disneyland at the end of february during nh school vacation week we bought day hopper passes so that we could also enjoy disney california adventureour first day was on a monday and the park opened at we arrived at the security gates at about and there was already a pretty good size line security will check your bags and you need to go through a metal detector you are allowed to bring in food and drink within reason after getting through security you then need to get into another line to enter the park the security line is for both parks we did get into the park and it was only about a minute travel time through security and the front gate this was on a day when the crowd level website predicted a out of the park was pretty full so we wandered around to get a feel for the park this was until we got into tomorrowland and there was no line for the buzz light year ride so we went on that we went on twice as there was not a line when we came out we then went right across the way and got on the star tours ride star wars ride as we kept roaming around the park the ride times started to get higher and higher but still not as bad as in florida we were able to get on most of the rides with less than a minute wait this included the big rides like matterhorn big thunder mountain and the jungle cruise haunted mansion and indian jones overall we had a great day at disneyland it appeared that there were not as many disgruntled people in california but this could be due to time of year temperature parking did not seem to be an issue in disneyland as a lot of people walked into the park or had the bus drop them off out in front even though the park is not as big there are lots of things to do shopping dining and the parade to finish off the day is really entertaining on a side note it was extra day to get fast pass if you wanted it we did not use it and were able to get on all the rides \n",
      "\n",
      "\n",
      "wow what a great park i was expecting disney to be really small and boring judging by what others had written and also in comparison to ocean park my expectations were blown right out of the water i would not consider the park small in any way only if comparing to the us equivalent we stayed all the way from opening time to closing time and went on rides and attractions in total we did not get to all the attractions as there just wasnt enough time people who say they can get through the park in one day obviously skip a lot of rides and dont wait in line to get photos with characters if you have the time for a day pass it would be worth it that way you can really take your time exploring the parkother positivesnew grizzly gulch section was great and a nice edition that does not feature in other disney parks the toy story area was also great mystic point is due to open sometime this year and that will complete the park quite nicely it all means that grizzly point would not result in a dead end and will assist in an easier circulation around the park terrain is flat and easy for people of all ages to walk around people with mobility issues will find this park easier to access compared to ocean park queuing time is short usually only takes about in january the longest time we spent queuing was and that was for the mine cart ride at grizzly peak towards the end of the day of course this is in winter time id imagine summer would be much busier and more unpleasant in terms of crowds and waiting in the heatfirework display at the end of the day is a must just amazing and this one matches the same disney standards i saw when visiting the ustip i highly recommend that if you want to get a photo with mickey goofy pluto or pooh bear that you go to the gazebo garden area in fantasyland where the photo area is located the best time to go is about at this time the queues are only about people long compared to the people i queued with the staff in disneyland have good english understanding compared to my experience with staff at ocean park they are efficient in clearing and organising crowds and what i loved most was their attention to detail whether it be in the landscaping around the park character actors stimulating queuing areas or cleanliness it really was all to a high standardsnegativesthere are none i really wanted to give at least one to be constructive but i honestly do not have anything that i was not satisfied withif you are planning to travel to hk i would encourage you to visit disneyland even if you dont have young children it is sure worth the visit \n",
      "\n",
      "\n",
      "i ve been to disney world when i was a child a long time ago but husband had not and wanted to experience magic for himself i chose one day park hopper tickets on a value day as well as the extra money for the maxpass hoping it would not be crowded but it seemed like everyone had the same idea i ve never seen so many people before it took about minutes in line to even get through the security gate and then we stood there overwhelmed there is no clear signs about where to enter either park or workers to ask questions when we did figure at the entrance there were longer lines to enter there too i recommend you download the disneyland app and plot out a plan on how to cover the park the fast pass is a slightly good concept you still have to wait in line a significant amount of time to get the pass as well the ride once you do i had to find a worker which was difficult to show me how to do the maxpass on my phone it s is convenient to make ride selections on your phone but i did not like that you couldn t make multiple choices even if another ride was at a later time had to wait about an hour between each selection but i still think it s worth it if you plan on going on the major rides learned later that you could use the fast pass anytime between the timeframe given like any amusement park the food and souvenirs are overpriced but here maybe a little more than needed the park can be accomplished in about days so i m not sure about getting passes longer than that for the park hopper i comment in another review i made about the california adventure park but looking back if you want to do that park too then a day pass from about we were able to do the rides it s a small world star wars tour ride indiana jones jungle safari boat and soaring we also ride the monorail ate at buffet restaurant in new orleans theme area and snack food a a few areas throughout did some brief shopping at a few stores and saw some shows parades on the streets by then we were done we didn t want to stand in a long time in line for another minute ride and we met some family and friends in downtown disney for dinner overall we got enough of the experience we wanted in a one day pass \n",
      "\n",
      "\n",
      "Topic 1:\n",
      "kong hong disneyland disney visit smaller visited world paris tokyo\n",
      "\n",
      "\n",
      "i have been to hong kong disneyland with my family in last year i remember that the weather of starting day was bad however we went to hong kong disneyland in the second day fortunately the weather of the second day was better when we arrived there we saw amazing thing which was a few of people in hong kong disneyland we argued that it was because of the weather in this case we played games faster however compare to tokyo disneyland hong kong disneyland is smaller the equipment of hong kong disneyland also is fewer and the consumption between hong kong disneyland and tokyo disneyland is the same although hong kong disneyland is not as good as tokyo disneyland there is also attracting me to go it is because it is near to macau and has the same language recently i saw the news that is about extending hong kong disneyland therefore i will go there one more time \n",
      "\n",
      "\n",
      "my family had a one week visit to hong kong from usa and decided to spend a full day at hong kong disneyland this was a great place for kids of all ages it had fun rides and very entertaining shows we have also been to disneyland in california and disney world in florida but the disneyland in hong kong contains various experiences that are wonderfully unique to visitors of hong kong \n",
      "\n",
      "\n",
      "when my boys were young my wife and i took our children to disney in florida los angeles paris and japan before hong kong disney was open in comparing with hong kong disneyland with other disneyland in other parts of the world hong kong disneyland began as a tiny one but over the last years disneyland added new games into this tiny one by now i would say disneyland in hong kong is not big but good enough for to days if you have or kids to play with i have been to hong kong disneyland about to times i would say they need to continuously expand to keep up with visitors expectation \n",
      "\n",
      "\n",
      "yea the best part of our first trip to hong kong me hubby n son years old went to hong kong on may and i must say the hong kong disneyland was the most enjoyable part love it \n",
      "\n",
      "\n",
      "Topic 2:\n",
      "place kids visit enjoy fun family disneyland love great parade\n",
      "\n",
      "\n",
      "truly is the magical place not just for kids but for adults as well a must see place in hongkong be sure to have a full day or even two to visit this place to enjoy all the rides activities and shows \n",
      "\n",
      "\n",
      "disneyland is surely a good place to visit in hong kong the place is really a place for kids and those who are kids at heart at some point we were all kids then and going back to this place will bring back the kid in you \n",
      "\n",
      "\n",
      "a magical place not only for kids but for all young at hearts its every childs dream to visit this amazing park its really the happiest place on earth a fun and enjoyable place for families be sure to watch the parade and the fireworks definitely a place to visit again \n",
      "\n",
      "\n",
      "wonderful place to be with your family and friends and a must place to visit again and again and a must see place while in hongkong \n",
      "\n",
      "\n"
     ]
    },
    {
     "name": "stderr",
     "output_type": "stream",
     "text": [
      "c:\\Users\\lyndo\\anaconda3\\envs\\lys_env\\lib\\site-packages\\sklearn\\decomposition\\_nmf.py:1477: FutureWarning: `alpha` was deprecated in version 1.0 and will be removed in 1.2. Use `alpha_W` and `alpha_H` instead\n",
      "  warnings.warn(\n"
     ]
    }
   ],
   "source": [
    "tfidf_vectorizer = TfidfVectorizer(max_df=0.95, min_df=2, stop_words='english')\n",
    "tfidf = tfidf_vectorizer.fit_transform(documents)\n",
    "tfidf_feature_names = tfidf_vectorizer.get_feature_names_out()\n",
    "nmf_model = NMF(n_components=no_topics, random_state=1, alpha=.1, l1_ratio=.5, init='nndsvd').fit(tfidf)\n",
    "nmf_W = nmf_model.transform(tfidf)\n",
    "nmf_H = nmf_model.components_\n",
    "no_top_words = 10\n",
    "no_top_documents = 4\n",
    "print(\"NMF Topics \\n\\n\")\n",
    "display_topics(nmf_H, nmf_W, tfidf_feature_names, documents, no_top_words, no_top_documents)"
   ]
  },
  {
   "cell_type": "markdown",
   "metadata": {},
   "source": [
    "#### Topic Modelling with LDA"
   ]
  },
  {
   "cell_type": "code",
   "execution_count": 40,
   "metadata": {},
   "outputs": [
    {
     "name": "stdout",
     "output_type": "stream",
     "text": [
      "\n",
      "\n",
      "LDA Topics \n",
      "\n",
      "\n",
      "Topic 0:\n",
      "staff people cast told said line rude security service members\n",
      "\n",
      "\n",
      "the service staff manning the queue at cinderella photo taking spoil the day for my whole familyincident happened on at around directed to push my baby pram underneath the queue line then when i was trying to get under the queue linethe guy then pulled the rope quite forcefully and it hit my head which he did not even apologise but instead he shouted in a very rude mannerpls note that i do not understand cantonese and i was just following his gesturesuper bad experience manzdoesnt reflect on disney at alldoes disney encourages violences and rudeness as well as bad service and attitude \n",
      "\n",
      "\n",
      "hand dipped with thick corn batter to crispy perfection ketchup and mustard behind corn dog cart can buy corn dog separately and not with apple slices and drink \n",
      "\n",
      "\n",
      "they spit and litter everywhere also noisy tourists as local we still dont get the point of why we have disneyland the tourist trap of staff trained to give you the commercialized smile and fairytale illusion you dont see the real hong kong there itmore \n",
      "\n",
      "\n",
      "mr toad s wild ride delights me as it always has the teacups at night are a splendid repast the call of the mark twain s whistle invites me on a paddle wheeler trip down the beloved rivers of america i am home \n",
      "\n",
      "\n",
      "Topic 1:\n",
      "park disney disneyland day rides time great hong kong visit\n",
      "\n",
      "\n",
      "before visiting disneyland hk we have been at other disneyland parks california tokyo paris and other themed parks legoland malaysia universal studio singapore universal studio california with our young family yr old boy yr old girlfrom the negative reviews on tripadvisor we were pleasantly surprised that it was actually a great fun place especially for young kidsthe shows were well acted and entertaining and given that it was in hk some chinese phrases were well mixed in the overall script in english some of the shows were entirely in chinese with english subtitle thoughmost of the disneyland attractions for young kids were available across multiple zones to keep them busy given that this was hk we were not surprised by the smaller size than other countries but this meant less to walk from one zone to another which was a good thingwe went there during weekdays which meant less time queuing most of the rides took less than mins to queue getting there early meant we could go to the most popular rides due to the hot weather the park did get busier in late afternoon early evening as it was cooler meaning longer queuing timeall the staff did a great job operating the park and were very nice to kids and did not mind being pestered for stickerson a less positive feedback there were a few technical issues impacting the rides across the days that we visited the park so it was a bit annoying food was very average and disappointingoverall we think that disneyland hk is as a fun place as the other disneyland themed parks that we have been especially in asia as we visit hk regularly we got the magic pass which would be cheaper after visitswe would recommend any family with young kids to visit the park once and ignore the negative comments you can upgrade your one day pass to a magic pass if you want to before you leave the parkour kids loved it \n",
      "\n",
      "\n",
      "this is the second time ive been to disneyland in hk the last time i was there was in and it has really improved since then there are more rides and things to do after its been extended it doesnt have as much adrenaline junkie rides as ocean park has but it does have one that i refer to as the adult ride for me disneyland is more of an experience so it didnt bother me that it didnt have a lot of adult rides the shows were spectacular and the environment was everything i imagined disney to be it may not be as big as other disneys but it is still great and worth visiting there is more than enough activities to keep you busy all dayit is really easy to get to disney via mtr or even public buses the price for mtr ride is higher but the custom disney detailing in the mtr station and the train makes it a great experience the food is quite overpriced though popcorn is and a bottle of water is around as well i didnt try any of the other food because it was around the highlight for me was the firework show at the end around the infamous disney castle it was magical and by far one of the best firework show i have ever seen it was the second time ive seen it but i was still in awe definitely the best part i look forward to when i visit disney disney tickets cost around in comparison to for ocean park but it is worth the experience expect to pay around per person for the entire day including eating and drinking like ocean park no additional fees are required for any of the rides and shows though i would definitely recommend this place for anyone visiting hong kong especially if you have kids \n",
      "\n",
      "\n",
      "this was our first disney experience and after reading a lot of negative reviews about hong kong disneyland due to its size etc i was a little nervouswe decided to bite the bullet and just do it and i am so glad we didwe stayed at the hollywood hotel and because we had a feeling our kids would want to be completely saturated by disney we also bought the budget annual passes which meant we could go into the park every day mon fri if we wanted to the annual passes also saved us on our hotel room costs so we paid around a night for a park view roomwe went into the park everyday of our day stay we got there as soon as the park opened and stayed until around when the sun was getting uncomfortable we returned to the hotel for a rest swim etc and would go back to the park around when the sun was going downdisneyland park was far superior to anything we have here in australia for the kids and there was no waiting for anything we walked straight onto every ride and that was priceless for me the new its a small world is wonderful and my kids aged and never got boredi would agree that the park is aimed at children under but if this suits your family situation you will have a magical timewe had good access to all the characters and i feel we have been spoilt now other disney parks may be bigger but i am sure due to this there are many more people wait times and frustrated parents the fireworks each night were amazing and the all the cast members we encountered were very helpful and friendlyif you are deliberating about hong kong disneyland i highly recommend you do it \n",
      "\n",
      "\n",
      "this is my second time to hong kong disneyland although my visits have been about years apart my feeling about the park remains the sameyou have to feel a bit bad for hkdl it was basically built on the cheap with the expectation that people would come no matter what and they didnt significant investment has been made but the fact remains that this is the only park around the world that doesnt have much going for itwhile the place has changed much for the better since i went just after it opened its still a pretty small place one day is more than enough time to explore this park in fact you may find yourself bored by the end of the day the day we visited was incredibly quiet and we did almost everything in the park in about hours they have some new unique rides that are fun but sadly most of the parks original rides are clones from other parks around the world making it the most bland disney park on earthnevertheless i still give it stars cast members are happy and friendly the place still has the disney touch and it operates well as a whole its just never going to be orlando or tokyo or even shangai its brand new competitor due north at the end of the day however hong kong disneyland still offers some magic to everyone \n",
      "\n",
      "\n",
      "Topic 2:\n",
      "rides time day ride disneyland parade park fireworks place kids\n",
      "\n",
      "\n",
      "we three adults went on a saturday we reached early around crowd was thin we headed for ticket booth bought our tickets and took some pics and went in to the park we headed straight to fantasy park managed to get a pic with a princess who was totally not friendly to adult and spent some time at pooh corner shop as it was pouring outside after the rain stopped went for many adventures of winnie ride no queue take it only if you like winnie continued with a ride on cinderellas carousel no queue i know kiddie ride but i love it it was drizzling again we went to philanteric magic show an entertaining show in with donald duck as lead worth it when we came out it was sunny happy that we escaped the rain we went to watch golden mickey good show too as small small world is next door we went for ride next it was okay nothing much spent queueing for this ride then we headed to fantasy garden to queue for photo there were few houses where the characters will be depends on who you like queue on the designated house you will know which house is for which character by looking at the sign like a pink one is for minnie one with honey pots is for winnie blue and white is for donald etc queue for managed a pic with winnie again not friendly we then moved to fantasy train took the train enjoyed the ride and went off to get fast pass for buzz light year in between waiting we went for lunch at starlight diner food was pretty gross and pricey but hey it is a theme park so dont expect it to be cheapwent back to buzz light year my fave ride so far enjoyed it soo much it was almost so we went to queue at main st by the roundabout for parade unluckily due to on and off rain parade was replaced with rain express train which was over in then proceeded to jungle cruise queue according to language this is where i experienced queue cutter twice quite annoying but well never mind i wasnt in a hurry anyway the english guide was elvis and he was a funny man the ride was pretty boring but he was so funny that i dont really mind to ride it again we walked to toy story land but the queue for all rides were too long so we headed to grizzly gluch unfortunately again mine train was having some problem so no ride for us took some pictures beautiful place rest for awhile then headed back to adventureland made some disney coins by the shop went to queue for lion king show by and queue was longthis show was really good love it it was getting dark right outside exit of lion king theatre was the raft to tarzan house so we took it and walked up to tarzan house nothing special headed back to main st for shopping spree and had some dinner at firework display it was amazing there is no need to stand very near to the castle after that we rushed back to mtr to beat the crowd overall i enjoyed disneyland and i missed so many rides maybe im not time efficient the crowd was quite okay that day we went we didnt really queue much i think if u really like disney and never been to any other disney two days pass plus a night stay in disney hotel is great way to enjoy disneyland \n",
      "\n",
      "\n",
      "we are what disneyland apparently refers to as a family couple without children nevertheless we still managed to have a really fun time we did quite a lot of research as we only had about a half day in disneyland hk so we took advice guidance about the best rides shows and how to limit waiting in queues we probably went at the worst ie peak time summer and a weekend but we found that planning is everything and helped us get the most of the experience and take an umbrella the sun is fierce so here is our itinerary and top get there at when the park opens there was a queue they do bag checks which slows everything down but we moved quite quickly and took about walk down main street but dont be tempted to stop there is time for shopping later in the itinerary head to the left and follow the signs to grizzly gulch go straight to the big grizzly mountain runaway mine cars there were no queues this is a really fun roller coaster ride and well done have a look around after the ride but keep moving overall there are short waits for single riders so consider this if you don t mind not riding together then head off to mystic point and head to the mystic manor ride again no queues this was my personal favorite ride really magical the rides are quite short really so make sure you enjoy two options here option a go straight to adventure land and take the jungle river cruise and then on to toy story land or option b go past adventure land and go to toy story land and do the toy solider drop a silly ride really but the views are good and the rc racer fun then come back to the jungle river cruise later the jungle river cruise was good and we took the english tour which had a much shorter wait but the tour guide was a bit wacky there were minimal waits at both a land and ts land about mins for these rides we did option b we skipped the rides shows in fantasy land but did stop for photos of the sleeping beauty castle and went on to tomorrow land to do the space mountain probably the best ride you can also get a fast pass here if the wait is long we decided to queue and had to wait about lunch at the mystic manor restaurant followed by a micky mouse ice cream in the nice garden here about mins our second last stop was a show the lion king show at pm this is about long and was marvellous then walk to the fantasy station train station and take the train back to main street look at the shops and buy some souvenirs this itinerary took about hours as we had to get a plane at but we were moving all the time but it didnt feel too hectic \n",
      "\n",
      "\n",
      "it s my time there in years this time round we found that some of the ride didn t seem as good as before as they may have made some alterations example that it s a small world ride used to keep repeating the song the last time but this time it s just played once combined with the music the other pooh ride used to have a lot of pretty panels each time you turn into an area but now it seems the amount of panels has lessen and the ride shorten even the night parade cars are less gorgeous as the time we saw it but then we also discovered other rides we haven t been able to ride on the first time we went the new iron man experience was quite awesome there s also an iron man virtual reality game for my yr old son at the store in the tomorrowland which is quite fun while his parents went solo and used the fast passes for the main attractions as for the other ride we tried as single rider while our son slept it s the toy soldier parachute drop it s not for young kids but teens shld be able to withstand the excitement and not break into tears also we think the mickey s philharmagic at fantasyland is pretty awesome but then my son was a bit scare of it maybe due to the loud noise inside so really have to consider if bringing very young kids there the only one ride that my son loves is the slinky dog spin at toy story land as for the other ride that his parents enjoyed it s the mystic manor as usual it s not for very young kids as it s quite dark in there and can be scary for them my son is pretty cool with the dumbo ride and obitron which is pretty much the same type of ride as for food we think the best food court is at fantasyland and also mystic point it s good to go during weekdays as it s less crowded and if there in summer do of the outdoor rides u wish to try before going indoors for the rest till later in the afternoon this works really well for us as we try the dumbo and obitron ride first before going indoors for other rides like pooh ride mickey s philarmagic it s a small world ironman and hyperspace mountain till later in the day when it s not so hot did we go to toy story area for the other rides there utilize the fast passes and single rider options when you re there to save some time in the park \n",
      "\n",
      "\n",
      "disneyland as mentioned its a place for young and old to complete the themepark i would recommend if you allocated days i went for a day and only manage to complete with photos sessions some few tips helps on purchasing tickets and entering the theme park choose a date where its non peak season we bought the ticket during the season where not all seasonal ticket holders are allow to entered the theme park you will be able to check the block out dates at the bottom of the page park schedule park calendar collection of ticketsif you purchased the via online or agent head toward the park entrance toward the right and you will be able to find the self machine ticket collection just scan the qr code on the printed email and the machine will dispense the tickets priority entrance for disneyland hotels if you are staying at any disneyland hotels there is a priority queue located at the right side at the edge of the theme park you will be able to skip the queue and enter the theme park fast pass for space mountain roller coaster the many adventures of winnie the poohwhen you arrive at the theme park do remember to collect the pass from these rides with the fast pass you will be allocated to a time slot and skip the queue do remember there are limited fast pass per day disney photopass plus digital download at of purchasing individual photos when you take a photo with your favourite disney character you will be able to receive all softcopy photos you took around the park you will be able to customize different borders for up to days upon purchase just search for disney photopass in the website to find out more firework day parade night parade for firework the best place to see it is in front of the sleeping beauty castle for day parade night parade the best view somewhere near the right facing the castle where you will be able to see any incoming and outgoing shows reach there early to avoid disappointment hope that help \n",
      "\n",
      "\n"
     ]
    }
   ],
   "source": [
    "tf_vectorizer = CountVectorizer(max_df=0.95, min_df=2, stop_words='english')\n",
    "tf = tf_vectorizer.fit_transform(documents)\n",
    "tf_feature_names = tf_vectorizer.get_feature_names_out()\n",
    "lda_model = LatentDirichletAllocation(n_components=no_topics, max_iter=5, learning_method='online', learning_offset=50.,random_state=0).fit(tf)\n",
    "lda_W = lda_model.transform(tf)\n",
    "lda_H = lda_model.components_\n",
    "print(\"\\n\\nLDA Topics \\n\\n\")\n",
    "display_topics(lda_H, lda_W, tf_feature_names, documents, no_top_words, no_top_documents)"
   ]
  },
  {
   "cell_type": "markdown",
   "metadata": {},
   "source": [
    "#### Topic Modelling with SVD"
   ]
  },
  {
   "cell_type": "code",
   "execution_count": 41,
   "metadata": {},
   "outputs": [
    {
     "name": "stdout",
     "output_type": "stream",
     "text": [
      "\n",
      "\n",
      "SVD Topics \n",
      "\n",
      "\n",
      "Topic 0:\n",
      "park disney disneyland day rides time ride kids just food\n",
      "\n",
      "\n",
      "so we ve returned from our trip to the usa and the west coast a trip that ended with a five day visit to disneyland in anaheimfor the benefit of those of you who have only ever made the journey to walt disney world near orlando is a trip to disneyland worth it or can you get much of the same experiences in central floridafirstly disneyland is made up of only two theme parks one of which disney california adventure had a troubled and frustrating gestation before finally getting itself on track only in recent years disney s keystone in california is disneyland itself the original park that took elements from existing american theme parks and pleasure gardens and perfectly fused them together into the definitive family entertainment destinationwalt disney world in florida was an effort to break free of the historic limitations of the california site and over the years has expanded to a total of four parks across enormous acreage the most recognisable park is magic kingdom and it is this park that is a homage to disneyland elements are shared between the parks but none are true replicas of one another gentle facsimiles persist but many seemingly familiar attractions have slight differences and many attractions are unique to one location or the otherdisneyland and magic kingdom are therefore closely related while california adventure shares some of its heritage with the content of disney s other florida offerings hollywood studios epcot and animal kingdomfrom a purely package holiday perspective wdw wins with a much larger size it s much more capable of sustaining a family vacation for a much longer visit the typical two weeks that british visitors are likely to book there are other benefits too multiple disney owned hotels on site restaurants aplenty water parks shopping entertainment and close by universal florida and seaworld too wdw is cleverly designed to act as the hub for all of your holiday needs and is increasingly with dining packages digital ticketing multiple pre bookable attractions and experiences a completely integrated disney experience from sun up to sun downdisneyland is a very different experience to its upstart younger sibling and this is where some very surprising elements reveal themselvesfor starters disneyland is small though they may look similar magic kingdom is quite a bit larger and cinderella s castle in florida is massive when compared to anaheim s original sleeping beauty castle the limited scale of disneyland was a necessity of the constraints of the original site and of walt being unable to afford more land when embarking on the project with finances tight disneyland was soon hemmed in by hotels restaurants and vacant lots purchased by speculative real estate developers over the years disneyland s designers have become adept at squeezing attractions into an increasingly full plot the result is a surprisingly intimate experience that wdw seeks to duplicate but because of its more generous size and despite using clever tricks with scale and perspective doesn t quite manage to replicate disneyland still has walt s influence around every corner and though planned and conceived by him wdw didn t even break ground until after walt s deathsecondly disneyland is much more of a local s park that s not to say that hundreds of thousands of foreign visitors or those from across much of the usa don t venture to anaheim it s just that the overwhelming majority of visitors are from the la and southern california conurbation and this lends the park a more casual vibe many californian s are day visitors or just there on short stays and the popularity of annual passes mean that many can drop in for an afternoon or evening visit almost any day of the week attendance levels can therefore fluctuate dramatically at times outside of peak demand particularly during mid week the parks can be remarkably quiet compared to florida walt disney world is becoming much more of a year round destination to the point where crowds are flattening out and periods that have historically benefitted from low attendances are starting to get squeezedthe next difference is in the time you may want to dedicate to visiting the parks disneyland resort that s disneyland and the neighbouring disney california adventure can be attempted at the right time of year in just two days one day for each park in some favourable circumstances a reasonable taster of both parks can even be managed in a single day this opens up disney as a vacation excursion destination something that can be added but need not dominate a busy schedule spent visiting los angeles san diego or other californian cities and landmarks general admission theme park tickets start with single day options and top out at five day passes remember to specify park hopper tickets if you wish to skip between both parks in a single day so disneyland works well as an addition to any trip that brings you to california rather than necessarily being the focus of a long vacation wdw is a destination that visitors commit multiple days to with one and two week visits increasingly popular and except for a few days at universal florida many people never leave the boundaries of the florida resort at allfinally there are attractions in california that you won t find in florida and some special takes on some familiar wdw favourites that are exclusive to anaheim here are some of your exclusivesindiana jones and the temple of the forbidden eye a high speed truck ride through a south american treasure templethe matterhorn bobsleds the world s first tubular steel rollercoaster that winds its way through the iconic matterhorn mountain that borders fantasylandfinding nemo submarine voyage the famous disney submarines given a pixar makeoverguardians of the galaxy mission breakout the extremely clever and uniquely re themed hollywood tower of terrorcars land the phenomenal multi million dollar recreation of radiator springs featuring three unique attractions centred on the popular characters from the cars films including the amazing radiator springs racersparadise pier and california screamin currently undergoing a reimagining as pixar pier and the incredicoaster themed on the incredibles just in time for the film s sequelgrizzly peak a water raft ride through a californian national parkmickey s toontown a mash up between the worlds of disney animation and who framed roger rabbitthe world of color a spectacular water fountain show held on the lake in california adventure and enhanced with pyrotechnics lasers and animated projectionsadded to these are some attractions that manage to beat their duplicateshaunted mansion from halloween thru christmas this attraction is exclusively redecorated to include special theming from a nightmare before christmas turning it into a unique attraction that makes florida theme park fans extremely jealouspirates of the caribbean this is the superior us version of the classic with better drops and better loading and unloading just don t look at the shanghai disneyland versionit s a small world the disneyland original features the iconic clock and the original world s fair outdoor beginning absent from the wdw editionso should you visit disneyland our opinion is yes just with some conditions if you are visiting california definitely try and add it to your list you ll just have to determine how much time you ll want to spend there we recommend between two and three days in low season and midweek if you re visiting in high season the two parks can get quite full and the only guarantee of seeing and riding everything may be to stretch a visit out to four or five days depending of course on just how disney you arethere s no dining plan at disneyland and the park dining is limited when compared to wdw but there are a few great restaurants inside the gates reserve using the disneyland app and some reasonable offerings nearbyif you re familiar with wdw you won t find magic bands or advance fast passes in california but there have been recent changes to introduce a little technological ticket management to disneyland for a per guest daily supplement guests can now link their park tickets to their disney account using the disneyland app benefits include an unlimited photo pass and fast pass reservations that won t require a visit to the attraction to get a timetying disney to a visit to universal studios in hollywood is not as practical as the florida equivalent as the parks are on opposite sides of la and the traffic on the freeway between the two destinations can be torturous another great theme park experience six flags magic mountain in valencia is even further away to the north of los angeles our advice should you wish to add universal and six flags to your itinerary use a hotel near to hollywood or universal city and stay a few nights there using that as your base before moving on to anaheimif you re looking for another theme park experience closer to disneyland you can visit knott s berry farm also in anaheim and just a few minutes away disney doesn t offer any water parks at disneyland but nearby knott s berry farm does have a reasonable offering in the shape of soak city and six flags has the excellent hurricane harbor both open seasonallyso for us disneyland is a gem yes inevitably there is a lot of duplication between california and florida but there s still plenty of unique experiences too despite the clamour from some disney fans that the company should replicate everything in both locations disney is clever enough to know that allowing each resort to have its share of exclusive attractions allows them to have a distinctive character it s this approach that makes a visit to either location such a different and worthwhile experiencefootnote my wife and i took our first holiday together to california disneyland was my first experience of a disney park california adventure was still the parking lot at the time despite having been to wdw lots of times since disneyland remains my favourite disney park after all they say that you never forget your first time \n",
      "\n",
      "\n",
      "ok first i must say that i always check trip adviser before going anyway and a few of the worries of some reviews were completely unfounded in my instance everywhere launch of advisor it said there are mean and bad chinese people like pushing shoving spitting and throwing trash everywhere i saw exactly people doing that but it was a tuesday in march but still i think a lot of the negativity is completely unfounded getting there now onto the actual review for stuff fining disney from any hotel is fairly simple you can just take us away to go there and the disney train is pretty cool it as mickey mouse windows in the seats are nice and a lot of little statues in the subway cararrival upon arriving to disney you go up a flight of stairs or an escalator whichever is to your liking then you go about maybe m and theres a really cool statue of mickey mouse surfing on the whale from the noki upon arriving to disney you go up a flight of stairs or an escalator which ever is to your liking then you go about maybe m and theres a really cool statue of mickey mouse surfing on the whale from the pinochio i had read onto the visor that no outside food is allowed however i did bring some oranges and chocolate bars theres also plenty of seats before the official entrance where you can eat some hamburgers or sushi or whatever you bring from your hotel room so you can definitely get really full before entering the park and save some money if thats something that is in your current life ticket gate another thing that i liked was selfie sticks are completely band we were seeing security people taking away all the selfie sticks and not allowing anyone to enter with selfie sticks so thats nice for annoying people entering the park with easy we bought our tickets online and we simply showed the code that the website gave us security was decent it was noticeable but i simply said i do not have a gun and they stop searching my bag but im a white guy so yeah entering the park soon as you enter the park you can see something called downtown usa or main street usa its basically just some century usa that things soon as you enter the park you can see something go down town usa or main street usa its basically just some century usa that things then the castle is seen at the end of this alley and like a lot of the other reviews said the castle is very very lackluster its basically just like a mcmansion that youve probably seen before the us but again it was a beautiful cleanlines the park was spectacularly clean and you didnt necessarily see any of the cleaners so thats pretty cool so it had a really clean feeling about it bathrooms there were more bathrooms then people almost there were so many bathrooms all of which were spectacularly clean equipped with toilet paper and soap been nice and dryers they had the asian style squatting toilet for people who prefer that and they had an abundance of western toilets they had a lot of handicap toilets and like i said they were all very clean and very plentiful water foundtains they also had free water dispensers that you could fill up outside bottles with or if you wanted to buy a memorabilia cup you could fill that up as well the water was free and plentiful english let me address the elephant in the room by saying that the english of the staff was satisfactory and my piny let me address the elephant in the room by saying that the english of the staff was satisfactory in my opinion i didnt ask them philosophical questions or the meaning of life but if i were to ask which princesses or which disney characters were aware and if i can take a picture with them they were very helpful they knew everything about the park and no complaints disney characters for pictures with i saw a few disney characters like in the body suits for taking pictures with the tinker bell girl was a nice sand company to my girlfriends that said just good nice lady and the chippendale were also very nice they took the time to take pictures and hold hands and just wave and everything that is expected so again the courtesy was completely died bu i saw a few disney characters like in the body suits for taking pictures with the tinker bell girl was a nice sand complimented my girlfriends that sandest good nice lady and the chip and dale were also very nice they took the time to take pictures and hold hands and just wave and everything that is expected so again the courtesy was completly finethe rides this park would not be suitable for adrenaline junkies because a lot of the rides what exactly balls to the wall insane but i definitely believe space mountain is good enough for the casual themepark go her and the rest of the rides had such interesting style and artwork that it was ok that they werent necessarily giant in proportions lines like i said we went on a tuesday in march from to and the lines were ridiculously small we space mountain was about a five minute wait each time and we went twice times no problem we went many times on the mysterious mansion and a few other times on the river cruise both of which were very nice and cool and like i said no lines the food i making a lot more money now than i used to so price isnt as much of an issue but i guess the price can be considered expensive but again its disney so dont be foolish if youre you know living in poverty bring an apple or something we were able to comfortably eat a decent dinner for around and the drinks were anywhere from to dollars for water juice so again its a little expensive but its disney so bring your money the food is very varied from sushi too dumb lengths to fish sandwiches to churros of all things comfortabality this day wasnt very hot but it seems as though they have lots and lots of shade and a lot of cooling station fans and mist machines seating the seating was also very plentiful they were benches upon benches upon chairs upon chairs there were basically just many places to sit fireworks ive been to a few amusement parks that claim to have fireworks but basically were just sparklers the fireworks here were completely top notch it was probably about nine minutes in total with the classic disney songs that we all adore from childhood projected onto the castle and the famous music coordinated with a lot of fireworks and i enjoyed it a lot so everyone seem to have a good time the seating was very organized if you choose to sit very close to vassal i did not but i just wanted to be closer to the subway so i was somewhere in the middle ive been to a few amusement parks that claim to have fireworks but basically were just sparklers the fireworks here were completely top notch it was probably about nine minutes in total with the classic disney songs that we all adore from childhood projected onto the castle and the famous music coordinated with a lot of fireworks and i enjoyed it a lot so everyone seem to have a good time the seating was very organized if you choose to sit very close to castle i did not just wanted to be closer to the subway so i was somewhere in the middle value for money the value for the money which is a bout was completely fine in my opinion there was music there was d shows their words rides there was just lots and lots of things to do so i completely feel as though its with the money security lighting i doubt anything like this is going to happen but im a teacher so im a very careful person a few of the places that night werent very well lit not as in like breaking your ankle well lit but maybe if someone wanted to just grab you and pull you to the bushes it looked a little bit possible so maybe they could have more lighting or more people walking around or something anyways i love people said this park is a small but i enjoyed it very much for eight hours and i had a great time im not really easy to please but i was very happy and childlike this day and i look forward to returning if you read these characters thank you and hopefully i can help you you anyways i love people said this park is a small but i enjoyed it very much for eight hours and i had a great time im not really easy to please but i was very happy and childlike this day and i look forward to returning if you read these characters thank you and hopefully i can help you \n",
      "\n",
      "\n",
      "our family travels to disney parks times a year if not more and as a family of this is not an affordable trip however we love disney so much the expense is worth it we usually go to disney world however decided to take a quick trip to disneyland this year we purchased day one park tickets for our family we went to disneyland park days and california adventure for one day before leaving we find out many rides were shut down as well as part of main street which we had no choice at this point as flights were booked and time had been taken from work the first day february we went to disneyland park we tried to find the days that we could use our magic morning and the employees in the ticket booth were helpful in finding the days but in no way made the experience magical usually at park opening the train comes around with characters on it and a family to open the park and on this day the train arrived with no characters and they did a park opening with a family on the ground in front of park gates that no one could see and it wasn t very enthusiastic the process of getting into the park was tedious scan your ticket take a photo so your ticket cannot be used by anyone else and sign your ticket the gate employees are rather rude and just want to get you in and gone walking into the park our kids were excited so we headed toward the rides the ride lines were longer than usual which may be because so many rides were closed at once there was a strange incident while we were in line for the gadget coaster in toontown the ride was stopped and an announcement was made as if the ride had a maintenance issue but come to find out there was a man that had a selfie stick and was trying to use it on the ride we waited about minutes until security got there to remove him and proceed to argue with him at the ride exit we asked about fireworks and were told by an employee that fireworks were only on the weekends and depended on weather we purchased some items at the store outside of space mountain and the employees were helpful and answered questions and helped us find the sizes we were looking for there were no parades due to construction on main street and no fireworks on this day so we ended up leaving the park earlier than we normally would day at disneyland was what really made this trip awful on day my brother and his family joined us my niece is autistic and gets sever anxiety when standing in long unending lines so my sister in law called ahead to make sure she would be able to get an ada pass for the lines and she was told she could we waited in line at town hall for what seemed like an hour they finally got in and requested the pass and my sister in law was made to feel like she was lying they asked a million questions about her disability etc if it s the case that someone needs to prove an actual disability why wasn t she told over the phone to bring some type of proof with her however we saw many able bodied people cruising up the exit line with their wheelchairs were the given the same treatment your employees really need some training about autism and how if effects each person differently we proceeded to the rides after the questions and tried to have a good day this pass my niece was given was an awful waste of time she had to go to a specific stand in the entire park to get one fast pass which many times it seemed the fast pass lines were longer than the regular lines but hey if we would have spent an a day we could have pre booked our fast passesa service that is free at disneyworld we ate lunch in cafe orleans and it was great the waitstaff was quick to clear our plates and have friendly conversation with us wish all the disneyland employees were so great we rode a few more rides and part of our group left for a nap later that evening we headed to the queue for fantasmic we were pointed to the viewing area for people we did not get fast passes and at the entrance of this queue we asked were stroller parking was and we were told to take it with us we were walking in dim lighting mind you and looking for a spot with a grumpy tired year old jumping out of his stroller we were distracted i will say but how many parents at disneyland go thru the same thing every single day while we were walking not focused on the ground which i guess we were expected to be shania stepped in front of my stroller and said rudely this area is for fast pass only do you have a fastpass we told her no that someone pointed us down here for queueing of people who did not have fast passes she told us see this line a line of green tape on the ground that is not really noticeable you need to stay on that side so we found seats and sat down unfortunately we were near to ride shania and another employee who talked the whole time we were waiting we heard all about her snap chat listened to her sing about being mixed i m also mixed along with my kids so this is in no way related to that listened to her playing and joking all the while being rude to everyone that didn t see her line then she felt the need to approach us again after sitting in the same spot for minutes to tell us we needed to move our stroller to the back we loved the stroller and finally the show started the show was great and we left the experience we had during this disneyland trip was so awful we don t want to return ever i guess our family got used to the great service at disneyworld we re employees are nice and friendly at all times we never see them on their phones and when they are standing around queuing people they don t talk about irrelevant things they try to keep that disney experience away from the outside world the unfortunate thing is despite all the negative reviews disneyland is getting is that nothing will change and it will continue to nosedive because the hundred of families that are having awful experiences won t change ticket sales so they won t change anything and will continue to raise prices and families will pay to get to experience the theory of disneyland i wrote this review in hopes that if people keep pointing out the awful experiences they are having then maybe these kids you are hiring will get some customer service skills instead of continuing to think that they can treat people however they choose because even if that family or person doesn t return others will get it together disneyland for the millions of other families that are going to waste their money time and family vacation time on coming there \n",
      "\n",
      "\n",
      "first off it s disneyland therefore it s amazing and gets stars if you are worried your kid won t remember it who cares disney is magical in the moment you ll get great pictures and let s be honest it s fun for mom and dad so we recently took our old daughter who loves mickey to disney and here are my tips app download the disneyland app it has the map the events ride wait times where s the nearest bathroom where are the characters mobile food ordering and your tickets plus a hundred other things tickets get the day ticket with max pass and photopass you ll want days at disneyland and day at disney adventure california you can do more days and do rides multiple times you could also do it in days and skip some things either way spend at least of your time on the disneyland side my review for dac will be under that link on this site with photopass you ll get great photos from the photographers they scan a barcode in the app and all the pictures show up shortly after don t worry about handing your phone to a stranger for that family pic get a pro to do it if you don t want this the photographer will take pics with your camera or phone plans plan out what you want to see and do we did the downtown and tomorrowland side one day the critter country and adventure land side the other day we hit toontown and fantasyland both days as these have the most kiddie rides characters events we also watched the parades both days and stayed late for the fireworks night events pick one major thing to do and make reservations ahead of time at least a month we choose the fantasmic dinner with water and light show lots of fireworks and mickey great music our kid was dancing and fascinated the whole time our friends chose a character dining breakfast breakfast with minnie has the most characters they got to meet lots of characters and get pictures both are expensive but tons of fun pictures note the times of characters in the park using the app they come and go some characters make short appearances and the lines for pictures get long quickly we basically stalked them as they came out of the cast room and ran to get in line first also your kid will be scared at first so it may take several tries to get that perfect go to a pin shop and ask for the my trip pin it s free use a sharpie to write their name and the date you can also buy collectors pins but we decided to wait until she s older they have other free pins too for birthdays and celebrations rides there s tons of rides your kid can ride more than any other theme park i recommend the classics like the teacups dumbo and the carousel there s also pinocchio winnie the pooh roger rabbit and many other slow rides with lots of characters singing as for you parents riding the adult rides this is where fastpass maxpass comes in use the app to reserve a time for you to ride a ride you and your spouse pick different rides at different times when you go ask the cast member for the baby swap and then your spouse can go right after you example mom picks indiana jones from to and dad picks splash mountain from to mom goes to ij at gets the baby swap pass for dad then rides the ride she comes out and takes baby so dad can ride ij then head over to splash mountain at dad gets baby swap rides the ride gets baby and then mom rides fyi you will get soaked on splash mountain including your shoes awesome on hot days but be ready bring flip flops maybe some dry underwear or be ready to sit in the sun and dry out the exciting rides take those pics during the exciting part so at the end you put the code in your photo app and bam you got the pic some rides get long lines like hours long nobody wants to pay a ticket to stand in line all dang day pony up the extra and skip the gear we brought diaper bags an umbrella stroller with detachable cup holders and a mini thermal lunch bag that sounds like a lot but it wasn t hubby carried a medium sized backpack style diaper bag with his sunscreen a few diapers wipes dry snacks you wants lots of snacks and feed them to your kid when waiting in line change of baby clothes and a dry shirt and flip flops for him and a backup battery for his phone everything is in ziploc bags to keep it dry and cheerio free his was only half full i carried a small messenger bag with the same a pencil pouch with crayons and mini color pages and used it as my purse as well with my wallet and a pouch of emergency gear bandaids chapstick hairties and girl gear i have a gb pockit stroller that collapses small and has a shade and small basket underneath plus a stroller cup holder thing i got at walmart with refillable water bottles we use the brita sport bottles because water fountain water tastes funny in the basket was baby sunscreen a thermal lunch bag with milk fruit uncrustable yogurt cheese for the kids lunch a cheap thin beach towel rolled up and a sheer car seat cover that doubled as a blanket or just sunshade bring hats and sunglasses for everyone for the tram and train you must collapse your stroller so we had all those things in the diaper bags until we got to the park parking many hotels offer free shuttles we used a parking garage for and used the tram there s also drop off pickup spots where you could use uber or a taxi meals there s tons of small stands with quick food like hotdogs and popcorn there s also lots of restaurants with burgers and wraps salads and some decent kid meals for a nice dinner we went to blue bayou several places have mobile ordering using the app great way to skip the lines and trust me you ve stood in enough lines everything is a bit pricier than normal so this is why i pack small snacks for mom and dad too we try to only buy lunch and maybe some ice cream in the park i recommend a big breakfast at the hotel then grab some fruit and yogurt to go safety write your name and phone number on your kids arm with a sharpie or pen if they get lost they ll take your kid to the town hall and they can call you you can park your stroller at one of many stroller parking places but take your bags with you nobody ever messed with our stroller just remember where you left it because there s hundreds of them some people put their name on their stroller with tape not a bad idea if you have a popular model you can also rent a stroller but they are hard plastic sunscreen costs a million dollars in the park so bring plenty put your kid and your husband in a bright color so you can see them in the crowd naps we let our kid nap in her stroller and this was our prime parents ride the rides time i ve heard of people going back to the hotel to nap rest and then coming back to the park to me that is too much effort but maybe if you stayed at one of the hotels on the souvenirs first off they re more expensive in the park we only bought a few things that couldn t be bought elsewhere there s lots of diy mouse ears on pinterest lots of the toys you can buy on amazon and cheaper you can buy glow sticks for cents at walmart or mouse glow sticks at dl your toddler doesn t know the difference we got a frame for one of those great pics and a little toy set that our kid played with everywhere hotel pool car so basically good planning led to an awesome trip great pictures and very few toddler tantrums next time i think we ll spend days instead of cause it s just that awesome \n",
      "\n",
      "\n",
      "Topic 1:\n",
      "disneyland hong kong place visit hk kids fun parade mickey\n",
      "\n",
      "\n",
      "i have been to hong kong disneyland with my family in last year i remember that the weather of starting day was bad however we went to hong kong disneyland in the second day fortunately the weather of the second day was better when we arrived there we saw amazing thing which was a few of people in hong kong disneyland we argued that it was because of the weather in this case we played games faster however compare to tokyo disneyland hong kong disneyland is smaller the equipment of hong kong disneyland also is fewer and the consumption between hong kong disneyland and tokyo disneyland is the same although hong kong disneyland is not as good as tokyo disneyland there is also attracting me to go it is because it is near to macau and has the same language recently i saw the news that is about extending hong kong disneyland therefore i will go there one more time \n",
      "\n",
      "\n",
      "we have been to disneyland in la two times and tokyo disneyland disney sea walking through the gates at hk disneyland felt like going back to la this is because the park is owned by disney and hk government we loved the quietness of hk disneyland in the morning most things in hk dont open until so to walk in with very few people in front of us was great toy storyland doesnt open until we purchased our tickets online from australia and printed them before we left you are sent an email with a link to an electronic version with qr codes and personalised characters but we used the printed version much easier and the website can be a little slow we also purchased the dining vouchers as well this entitled us to lunch or dinner a popcorn or a iceblock if you are there for two days like we were then just double the number of vouchers you purchase hk disneyland uses the old style fast pass system scan your ticket and get a printed fastpass we were staying at disney explorers lodge and received fast passes to certain rides from there as well the food in hk disneyland is aimed at the asian market although there are restaurants who serve burgers etc if you have fussy eaters then beware you may have limited choices but over all the food was disney quality we ate at the starliner restaurant at tomorrowlandwe loved space mountain with the star wars overlay sooo coool the is no pirates of the caribbean ride sad but the lion king show and mickeys philharmagic shows are great fununique to the hk disneyland is mystic manor an amazing trackless ride so fun we went on it three times the big grizzly mountain runaway mine cars is great fun the experience varies depending on where you are sitting we had front row amazing and last row still fun but a little rough also unique to hk disneyland is the iron man experience a ride simulator on a stark industries flyer through hong kong lots of funwhen you ride the jungle cruise remember to choose the english line or cantonese line as the skippers script is done in both they say there is no difference in the line waiting time we didnt really notice ityes hkl disneyland is smaller than la disneyland tokyo disneyland but two days allows you to see pretty much everything and not a break net speed we are a disney loving family and our girls were aged and when we attended the park the christmas decorations and the parade were greathk disneyland is on the mtr line just change at sunny bay station for the disneyland line you can use your octopus card to travel on the mtr there are shuttle buses that run from the disney hotels to the transport hub at disneyland and you can walk if you want to along the bay from the hotels it would be roughly minutes walk from the disneyland hotel along the bay there is also a ferry that runs from central to hk disneyland but the mtr train is the best option in my opinion especially as it has mickey shaped windows and disney theming inside the train carriages \n",
      "\n",
      "\n",
      "mtr sunny bay mtr disneyland resort line disneyland hong kong disneyland hong kong disneyland hong kong disneyland railroad main street usa x tomorrowland fast pass space mountain fast pass buzz lightyear astro blasters tokyo disneyland buzz lightyear space mountain fast pass space mountain fantasyland small world hong kong disneyland tokyo disneyland adventureland toy story land hong kong disneyland mystic manor mystic point hong kong disneyland mystic manor grizzly gulch fastival of the lion king lion king the many adventures of winnie the pooh fantasyland fast pass honey for pooh fast pass \n",
      "\n",
      "\n",
      "regardless how many times i visited disneyland it never gets old i first visited hong kong disneyland when it opened its doors years ago although i went alone that time i still remember having lots of fun after all hong kong disneyland is the closest one to malaysia and theres just something magical and fantasy like about disneyland that keeps luring people backhong kong disneyland isnt too big nor too small it is the perfect size to explore on foot and the entire park can be done in one day but ideally two days staying at one of the theme park resort hotels overnight is highly recommended to get the full disney experienceflights of fantasy parade is a must see it is hong kong disneylands special anniversary parade and no other disney theme parks around the whole have it all the popular disney characters are out in their marching band uniformsnavigating hong kong disneyland is easyas with all other disneylands throughout the world the park entrance takes us to main street usa it is where we watched the parade in the morning the fireworks at night and also where all the shops are located from there it branches off into the three smaller themed landsfantasyland where rides like the mad hatter tea cups and cinderella carousel are so slow and gentle they are suitable for those who do not come to disneyland for an adrenaline induced heart attackadventureland modelled after the lush remote jungles of asia as a resident of borneo this feels like home to mebetter not let taib come here later he chop the trees and build palm oil plantation all over the placetomorrowland a futuristic land where some of the most exhilarating theme park rides can be foundim gonna try to summarize my favourite hong kong disneyland attractions hereits a small world its a ride around the world on a boat most importantly it is inside an air conditioned building which makes it perfect on a hot day like this along the way hundreds of brightly costumed robot dolls in different cultural costumes of the world sings its a small world in their native languages the golden mickeys its a sing and dance stage performance show exclusive only to hong kong disneyland there are awards up for grabs like best hero or best romance just like in actual award shows a small snippet of the nominees in each of the well known disney movies are shown unlike in actual award shows no winners are actually announced in the end i remember watching the same show years ago it still is just as entertainingthe many adventures of winnie the pooh very similar to its a small world except its a ride through the hundred acre woods judging by the queues outside small kids seem to love this place to bits although i personally find nothing earth shattering about itfestival of the lion king definitely not to be missed its a musical that uses songs from the movie dance and special effects to re create an african savannah animated with lions elephants and giraffes tarzans treehouse we took a raft across the river to explore this attraction while waiting for the lion king show to start the walk through the treehouse tells the story of tarzan and jane for me the tree is worth climbing up only for the viewstich encounter by far the most hilarious show in disneyland when we read the description saying no two shows are alike i wondered how they were gonna accomplish it stitch appears on screen to actually talk and interact with the audience in real time complete with facial expressions and animation the show would have been bland if it werent for stitchs mischievous smart alec responsesspace mountain the ultimate thrill seekers ride of choice its a high speed space themed roller coaster ride set completely indoors with hard hitting music as soundtrack apparently it was so scary they had to put this warning notice outside personally i have sat through scarier rides so this was a walk in the park for medisney in the stars fireworks no matter how many times i watched this i feel like a wide eyed little boy everytime i watch the fireworks in disneyland something about the sheer magic of colourful lights exploding over the skies set to the soundtrack of disney movies never fail to send my heartstrings tugging i want to go back to disneyland againi guess disneyland does that to you it makes everyone feel like a kid living in a place where fairy tales and dreams come true \n",
      "\n",
      "\n",
      "Topic 2:\n",
      "disney park hong kong disneyland parks world hk visit florida\n",
      "\n",
      "\n",
      "so we ve returned from our trip to the usa and the west coast a trip that ended with a five day visit to disneyland in anaheimfor the benefit of those of you who have only ever made the journey to walt disney world near orlando is a trip to disneyland worth it or can you get much of the same experiences in central floridafirstly disneyland is made up of only two theme parks one of which disney california adventure had a troubled and frustrating gestation before finally getting itself on track only in recent years disney s keystone in california is disneyland itself the original park that took elements from existing american theme parks and pleasure gardens and perfectly fused them together into the definitive family entertainment destinationwalt disney world in florida was an effort to break free of the historic limitations of the california site and over the years has expanded to a total of four parks across enormous acreage the most recognisable park is magic kingdom and it is this park that is a homage to disneyland elements are shared between the parks but none are true replicas of one another gentle facsimiles persist but many seemingly familiar attractions have slight differences and many attractions are unique to one location or the otherdisneyland and magic kingdom are therefore closely related while california adventure shares some of its heritage with the content of disney s other florida offerings hollywood studios epcot and animal kingdomfrom a purely package holiday perspective wdw wins with a much larger size it s much more capable of sustaining a family vacation for a much longer visit the typical two weeks that british visitors are likely to book there are other benefits too multiple disney owned hotels on site restaurants aplenty water parks shopping entertainment and close by universal florida and seaworld too wdw is cleverly designed to act as the hub for all of your holiday needs and is increasingly with dining packages digital ticketing multiple pre bookable attractions and experiences a completely integrated disney experience from sun up to sun downdisneyland is a very different experience to its upstart younger sibling and this is where some very surprising elements reveal themselvesfor starters disneyland is small though they may look similar magic kingdom is quite a bit larger and cinderella s castle in florida is massive when compared to anaheim s original sleeping beauty castle the limited scale of disneyland was a necessity of the constraints of the original site and of walt being unable to afford more land when embarking on the project with finances tight disneyland was soon hemmed in by hotels restaurants and vacant lots purchased by speculative real estate developers over the years disneyland s designers have become adept at squeezing attractions into an increasingly full plot the result is a surprisingly intimate experience that wdw seeks to duplicate but because of its more generous size and despite using clever tricks with scale and perspective doesn t quite manage to replicate disneyland still has walt s influence around every corner and though planned and conceived by him wdw didn t even break ground until after walt s deathsecondly disneyland is much more of a local s park that s not to say that hundreds of thousands of foreign visitors or those from across much of the usa don t venture to anaheim it s just that the overwhelming majority of visitors are from the la and southern california conurbation and this lends the park a more casual vibe many californian s are day visitors or just there on short stays and the popularity of annual passes mean that many can drop in for an afternoon or evening visit almost any day of the week attendance levels can therefore fluctuate dramatically at times outside of peak demand particularly during mid week the parks can be remarkably quiet compared to florida walt disney world is becoming much more of a year round destination to the point where crowds are flattening out and periods that have historically benefitted from low attendances are starting to get squeezedthe next difference is in the time you may want to dedicate to visiting the parks disneyland resort that s disneyland and the neighbouring disney california adventure can be attempted at the right time of year in just two days one day for each park in some favourable circumstances a reasonable taster of both parks can even be managed in a single day this opens up disney as a vacation excursion destination something that can be added but need not dominate a busy schedule spent visiting los angeles san diego or other californian cities and landmarks general admission theme park tickets start with single day options and top out at five day passes remember to specify park hopper tickets if you wish to skip between both parks in a single day so disneyland works well as an addition to any trip that brings you to california rather than necessarily being the focus of a long vacation wdw is a destination that visitors commit multiple days to with one and two week visits increasingly popular and except for a few days at universal florida many people never leave the boundaries of the florida resort at allfinally there are attractions in california that you won t find in florida and some special takes on some familiar wdw favourites that are exclusive to anaheim here are some of your exclusivesindiana jones and the temple of the forbidden eye a high speed truck ride through a south american treasure templethe matterhorn bobsleds the world s first tubular steel rollercoaster that winds its way through the iconic matterhorn mountain that borders fantasylandfinding nemo submarine voyage the famous disney submarines given a pixar makeoverguardians of the galaxy mission breakout the extremely clever and uniquely re themed hollywood tower of terrorcars land the phenomenal multi million dollar recreation of radiator springs featuring three unique attractions centred on the popular characters from the cars films including the amazing radiator springs racersparadise pier and california screamin currently undergoing a reimagining as pixar pier and the incredicoaster themed on the incredibles just in time for the film s sequelgrizzly peak a water raft ride through a californian national parkmickey s toontown a mash up between the worlds of disney animation and who framed roger rabbitthe world of color a spectacular water fountain show held on the lake in california adventure and enhanced with pyrotechnics lasers and animated projectionsadded to these are some attractions that manage to beat their duplicateshaunted mansion from halloween thru christmas this attraction is exclusively redecorated to include special theming from a nightmare before christmas turning it into a unique attraction that makes florida theme park fans extremely jealouspirates of the caribbean this is the superior us version of the classic with better drops and better loading and unloading just don t look at the shanghai disneyland versionit s a small world the disneyland original features the iconic clock and the original world s fair outdoor beginning absent from the wdw editionso should you visit disneyland our opinion is yes just with some conditions if you are visiting california definitely try and add it to your list you ll just have to determine how much time you ll want to spend there we recommend between two and three days in low season and midweek if you re visiting in high season the two parks can get quite full and the only guarantee of seeing and riding everything may be to stretch a visit out to four or five days depending of course on just how disney you arethere s no dining plan at disneyland and the park dining is limited when compared to wdw but there are a few great restaurants inside the gates reserve using the disneyland app and some reasonable offerings nearbyif you re familiar with wdw you won t find magic bands or advance fast passes in california but there have been recent changes to introduce a little technological ticket management to disneyland for a per guest daily supplement guests can now link their park tickets to their disney account using the disneyland app benefits include an unlimited photo pass and fast pass reservations that won t require a visit to the attraction to get a timetying disney to a visit to universal studios in hollywood is not as practical as the florida equivalent as the parks are on opposite sides of la and the traffic on the freeway between the two destinations can be torturous another great theme park experience six flags magic mountain in valencia is even further away to the north of los angeles our advice should you wish to add universal and six flags to your itinerary use a hotel near to hollywood or universal city and stay a few nights there using that as your base before moving on to anaheimif you re looking for another theme park experience closer to disneyland you can visit knott s berry farm also in anaheim and just a few minutes away disney doesn t offer any water parks at disneyland but nearby knott s berry farm does have a reasonable offering in the shape of soak city and six flags has the excellent hurricane harbor both open seasonallyso for us disneyland is a gem yes inevitably there is a lot of duplication between california and florida but there s still plenty of unique experiences too despite the clamour from some disney fans that the company should replicate everything in both locations disney is clever enough to know that allowing each resort to have its share of exclusive attractions allows them to have a distinctive character it s this approach that makes a visit to either location such a different and worthwhile experiencefootnote my wife and i took our first holiday together to california disneyland was my first experience of a disney park california adventure was still the parking lot at the time despite having been to wdw lots of times since disneyland remains my favourite disney park after all they say that you never forget your first time \n",
      "\n",
      "\n",
      "i visited hk disney quite a while ago jan i was thoroughly disappointed but not enough to write a review however after reading so many positive reviews i felt compelled to write one myselfgood not crowded good layout wide streets clean new cheap compared to other disneys in every respect food merchandise tickets landscaping immaculate convenient to get to multiple languages for guestsbad size lack of attractions especially those that make disney so fun and have made disney so famous in america people cutting in lines people spitting people sleeping on benches and bathing in drinking fountains staff being too timid to do anything about obvious rule breakersokay i am from america and grew up near disney world in orlando florida i worked in guangzhou china for quite a while including the time of hk disneys opening therefore i was constantly getting news about the new disney because i grew up near disney world disneys defining characteristic to me is its size its huge let me list some facts so people can understanddisney world acres theme parks plus many others like water parks campgrounds outdoor parks etc resort hotels not including campgrounds holes of golf available employee training center large office complex huge area with employee storehk disney acres theme park resort hotelsdisney world in orlando is less than developed yet still boasts all of those things animal kingdom one park is acres which is still larger than the entire hk disney building area when you enter the disney property limits you drive for miles without seeing anything but trees and grass their size of the property is astounding the parks themselves are also huge with too many attractions to finish in one day especially if lines are long you can park in one place and travel from park to park by monorail from disneys website if you wanted to stay in all the guest rooms in all of the hotels and resorts currently open on walt disney world property at a rate of one per night it would take more than years hk disney is based mostly on magic kingdom one of the four theme parks in walt disney world yet it is less than half the size of magic kingdom magic kingdom has rides hk disney and some of those are from other parks such as animal kingdom worst of all the rides that are most popular at magic kingdom are not even in hk with space mountain being the notable exceptionfor quite some time before going there i was told hk disney is small i was prepared for small i was not prepared for microscopic its like a miniature magic kingdom the castle is feet tall wdws is feet tall over twice as tall main st is tiny when we first arrived we unknowingly walked from one end of the park to the other not understanding why we couldnt continue took about minutes it was only after looking at the map that we realized we had already reached the end of the parki do not agree with some of the other members on here that construction was great i thought many things looked quite cheap there were also a lot of things in rides that were downscaled quite a bit compared to wdw overall i felt they cut a lot of corners with the parkspace mountain is much smaller but might actually be better lion king was much different and also possibly a better show overalli think the worst yet best thing for me was the mainlanders i speak fluent mandarin and a little cantonese so i could understand what was going on the worst was the mainlanders pushing through lines as if there were no other people there they would spit bathe in the drinking fountains remove shirts and shoes and lounge on benches and sidewalks spit stare at peole like me who are obviously foreigners and make comments etc they couldnt figure out how to use the fastpass machines and caused all kinds of problems in lines everywhere they argued when they werent allowed to cut in front of the legitimate fastpass holders even though they themselves had no fastpass the undertrained staff was too scared to enforce rules for the most partthe best was the hk residents enforcing the rules themselves at almost every ride while waiting an argument would break out between a hk resident and a mainlander because of something the latter did it was great to watch and made waiting in line quite funi think disney did a horrible job planning this park i think disney was not prepared for the chinese market and customers and not at all familiar enough with them from the beginning i think the park misrepresents disney to those that know nothing of its other parks there have been countless news stories of administrative problems as well disney built its smallest park in one of the most densely populated areas in the world next to the most populous country in the world i just find it amazing that a company as big as this could make so many mistakes to me it all comes down to poor planning and not knowing enough about the local market too bad \n",
      "\n",
      "\n",
      "my family has been going to disney parks since my daughter was and she is now this year i have been to every disney park except for disney paris so i can probably give a bad review to the hk disneyland however i wont because of my experiences and my expectations before going there i have heard many reviews about how small the park was and how long the lines were and were told by friends and family in hk not to go and instead go to ocean park but i also suspected that many of these people have not yet experienced the hk disneyland yet on the day we went to hk disneyland the weather was no different than any of the other days we were in hk during the week hot and humid based on my research i had expected the park to be much more smaller than all the other disney parks and probably very crowded with that in mind we went to check out if it was a true disney park and i feel it passed the test although much smaller disney paid attention to make sure the layout was true to the ones in america in fact i think some of the shows were better such as the parade lion king show and the mickey awards show we bought some souvenirs pins and found the prices to be cheaper than that of florida and california as a chinese american who moved to the us very young and grew up there i found it to be a blast to hear mickey and minnie speak cantonese while there are problems with mainlanders behavior there were sufficient cast members to handle situations one such example was when we were waiting in line for the pooh ride and some people tried to cut in line a cast member immediately caught them and force them out of the line as a comparison we went to ocean park earlier in the week and although bigger in size the people were ruder and lines were longer ocean park truly did not have enough staff to handle the crowd my final thoughts are if you are a true disney fan and have been to other disney parks be open minded and realize that although disney may have made some miscalculations you are going to hk disneyland to experience the magic of disney long lines and bad weather are things to expect and in most cases are not controllable for first timers to disney parks dont fret and get discouraged if you are able to follow up to the hk disneyland with the japan disney parks paris disney park then to disneyland in california and the ultimate treasure disney world in florida you will be amazed and it will only get better \n",
      "\n",
      "\n",
      "have visited disney parks in california and florida and recently had the opportunity to visit their park in hong kong getting here was very easy the mtr provides disney park with its own line you can get to the park from pretty much anywhere the mtr services hong kong we made our visit on a tuesday may arrived there just minutes before the park opened pleasantly surprised with the small crowd the park entrance is very wide and clean landscaping is traditional disney as you pass the entrance the main train station and walk into main street usa you will understand why i chose the title its a small world after all had i done some research prior to coming i would have not been surprised by how small this park really is its nearly one fifth the size of magic kingdom in florida aside from the small scale the park is very much disney tarzans tree house was closed for maintenance this has a big impact considering the few attractions in the park for the roller coaster enthusiasts i recommend the big grizzly mountain runaway mine cars i wont give it away just suffice it to say there are surprising maneuvers over all a fun park despite its small size you can easily cover the entire park at a leisurely walk in less than hrs just my opinion expect hefty prices for any and all goods you purchase in the park most park employees speak english enough to communicate with you we were pleased to find most employees had left the honk kong attitude at the gate get a bench early in front of the castle for a good view of the fireworks park closes promptly after the pyrotechnics there are plenty of trains to take you back to your destination so no need to worry overall a pleasant experience but the size of the park was disappointing \n",
      "\n",
      "\n"
     ]
    }
   ],
   "source": [
    "lsi_model = TruncatedSVD(n_components=no_topics, n_iter=7, random_state=42).fit(tf)\n",
    "lsi_W = lsi_model.transform(tf)\n",
    "lsi_H = lsi_model.components_\n",
    "print(\"\\n\\nSVD Topics \\n\\n\")\n",
    "display_topics(lsi_H, lsi_W, tf_feature_names, documents, no_top_words, no_top_documents)"
   ]
  },
  {
   "attachments": {},
   "cell_type": "markdown",
   "metadata": {},
   "source": [
    "The number of topics selected was 3. This was chosen using manual inspection to gauge the coherence of the topics. Overlapping was observerd between some topics where \"Hong Kong\" and \"rides\" were found in multiple topics, when 5 topics were used. When 3 topics were used there was still overlapping but there was less."
   ]
  },
  {
   "attachments": {},
   "cell_type": "markdown",
   "metadata": {},
   "source": [
    "| --- | Topic 1 | Topic 2 | Topic 3 |\n",
    "| --- | --- | --- | --- |\n",
    "| NMF | park disney day rides time ride great disneyland food good | kong hong disneyland disney visit smaller visited world paris tokyo | place kids visit enjoy fun family disneyland love great parade |\n",
    "| LDA | staff people cast told said line rude security service members | park disney disneyland day rides time great hong kong visit | rides time day ride disneyland parade park fireworks place kids |\n",
    "| SVD | park disney disneyland day rides time ride kids just food | disneyland hong kong place visit hk kids fun parade mickey | disney park hong kong disneyland parks world hk visit florida |"
   ]
  },
  {
   "attachments": {},
   "cell_type": "markdown",
   "metadata": {},
   "source": [
    "Based on the top 10 words for the three topics, the topics correspond to the following catgories:\n",
    "| Topic | Categories |\n",
    "| --- | --- |\n",
    "| Topic 1 | Food and Rides |\n",
    "| Topic 2 | Hong Kong |\n",
    "| Topic 3 | Parades and Children |"
   ]
  }
 ],
 "metadata": {
  "kernelspec": {
   "display_name": "lys_env",
   "language": "python",
   "name": "python3"
  },
  "language_info": {
   "codemirror_mode": {
    "name": "ipython",
    "version": 3
   },
   "file_extension": ".py",
   "mimetype": "text/x-python",
   "name": "python",
   "nbconvert_exporter": "python",
   "pygments_lexer": "ipython3",
   "version": "3.10.9"
  },
  "orig_nbformat": 4
 },
 "nbformat": 4,
 "nbformat_minor": 2
}
